{
 "cells": [
  {
   "cell_type": "markdown",
   "metadata": {},
   "source": [
    "###  <font size=5 color='orange'> EDA & Data Preprocessing on Google App Store Rating Dataset"
   ]
  },
  {
   "cell_type": "markdown",
   "metadata": {},
   "source": [
    "###  <font size=4 color='blue'> Attribute Information :"
   ]
  },
  {
   "cell_type": "markdown",
   "metadata": {},
   "source": [
    "|SL.No | |Attribute  |   |Description                   |\n",
    "|:-----| |:-----------|    |:----------------------------|\n",
    "|1     | |App|      |Application name|\n",
    "|2     | |Category      |   |Category the app belongs to|\n",
    "|3     | |Rating |   |Overall user rating of the app|\n",
    "|4     | |Size| |Size of the app|\n",
    "|5     | |Installs|  |Number of user reviews for the app|\n",
    "|6     | |Type|    |Paid or Free|\n",
    "|7     | |Price|         |Price of the app|\n",
    "|8     | |ContentRating|      |Age group the app is targeted at - children/Mature 21+ /Adult|\n",
    "|9     | |Genres|       |An app can belong to multiple genres (apart from its main category)For eg.\n",
    "|      | |       |      |a musical family game will belong to Music, Game, Family genres|\n",
    "|10    | |Last Updated|          |Date when the app was last updated on play store|\n",
    "|11    | |Current ver|   |Current version of the app available on play store|\n",
    "|12    | |Android ver|      |Min required Android Version|"
   ]
  },
  {
   "cell_type": "markdown",
   "metadata": {},
   "source": [
    "###  <font size=4 color='blue'> Objective : \n",
    " ### The Goal is to explore the data and pre-process it for future use in any predictive analytics study."
   ]
  },
  {
   "cell_type": "markdown",
   "metadata": {},
   "source": [
    "### <font color='purple'><b> 1. Import required libraries and read the dataset."
   ]
  },
  {
   "cell_type": "code",
   "execution_count": 1,
   "metadata": {},
   "outputs": [],
   "source": [
    "import pandas as pd\n",
    "import numpy as np\n",
    "import seaborn as sns\n",
    "import matplotlib.pyplot as plt\n",
    "\n",
    "from sklearn.preprocessing import LabelEncoder\n",
    "from sklearn.preprocessing import StandardScaler, MinMaxScaler\n",
    "from sklearn.linear_model import LinearRegression\n",
    "from sklearn.model_selection import train_test_split\n",
    "import warnings\n",
    "warnings.filterwarnings('ignore')"
   ]
  },
  {
   "cell_type": "code",
   "execution_count": 2,
   "metadata": {},
   "outputs": [
    {
     "data": {
      "text/html": [
       "<div>\n",
       "<style scoped>\n",
       "    .dataframe tbody tr th:only-of-type {\n",
       "        vertical-align: middle;\n",
       "    }\n",
       "\n",
       "    .dataframe tbody tr th {\n",
       "        vertical-align: top;\n",
       "    }\n",
       "\n",
       "    .dataframe thead th {\n",
       "        text-align: right;\n",
       "    }\n",
       "</style>\n",
       "<table border=\"1\" class=\"dataframe\">\n",
       "  <thead>\n",
       "    <tr style=\"text-align: right;\">\n",
       "      <th></th>\n",
       "      <th>App</th>\n",
       "      <th>Category</th>\n",
       "      <th>Rating</th>\n",
       "      <th>Reviews</th>\n",
       "      <th>Size</th>\n",
       "      <th>Installs</th>\n",
       "      <th>Type</th>\n",
       "      <th>Price</th>\n",
       "      <th>Content Rating</th>\n",
       "      <th>Genres</th>\n",
       "      <th>Last Updated</th>\n",
       "      <th>Current Ver</th>\n",
       "      <th>Android Ver</th>\n",
       "    </tr>\n",
       "  </thead>\n",
       "  <tbody>\n",
       "    <tr>\n",
       "      <th>0</th>\n",
       "      <td>Photo Editor &amp; Candy Camera &amp; Grid &amp; ScrapBook</td>\n",
       "      <td>ART_AND_DESIGN</td>\n",
       "      <td>4.1</td>\n",
       "      <td>159</td>\n",
       "      <td>19M</td>\n",
       "      <td>10,000+</td>\n",
       "      <td>Free</td>\n",
       "      <td>0</td>\n",
       "      <td>Everyone</td>\n",
       "      <td>Art &amp; Design</td>\n",
       "      <td>January 7, 2018</td>\n",
       "      <td>1.0.0</td>\n",
       "      <td>4.0.3 and up</td>\n",
       "    </tr>\n",
       "    <tr>\n",
       "      <th>1</th>\n",
       "      <td>Coloring book moana</td>\n",
       "      <td>ART_AND_DESIGN</td>\n",
       "      <td>3.9</td>\n",
       "      <td>967</td>\n",
       "      <td>14M</td>\n",
       "      <td>500,000+</td>\n",
       "      <td>Free</td>\n",
       "      <td>0</td>\n",
       "      <td>Everyone</td>\n",
       "      <td>Art &amp; Design;Pretend Play</td>\n",
       "      <td>January 15, 2018</td>\n",
       "      <td>2.0.0</td>\n",
       "      <td>4.0.3 and up</td>\n",
       "    </tr>\n",
       "    <tr>\n",
       "      <th>2</th>\n",
       "      <td>U Launcher Lite – FREE Live Cool Themes, Hide ...</td>\n",
       "      <td>ART_AND_DESIGN</td>\n",
       "      <td>4.7</td>\n",
       "      <td>87510</td>\n",
       "      <td>8.7M</td>\n",
       "      <td>5,000,000+</td>\n",
       "      <td>Free</td>\n",
       "      <td>0</td>\n",
       "      <td>Everyone</td>\n",
       "      <td>Art &amp; Design</td>\n",
       "      <td>August 1, 2018</td>\n",
       "      <td>1.2.4</td>\n",
       "      <td>4.0.3 and up</td>\n",
       "    </tr>\n",
       "    <tr>\n",
       "      <th>3</th>\n",
       "      <td>Sketch - Draw &amp; Paint</td>\n",
       "      <td>ART_AND_DESIGN</td>\n",
       "      <td>4.5</td>\n",
       "      <td>215644</td>\n",
       "      <td>25M</td>\n",
       "      <td>50,000,000+</td>\n",
       "      <td>Free</td>\n",
       "      <td>0</td>\n",
       "      <td>Teen</td>\n",
       "      <td>Art &amp; Design</td>\n",
       "      <td>June 8, 2018</td>\n",
       "      <td>Varies with device</td>\n",
       "      <td>4.2 and up</td>\n",
       "    </tr>\n",
       "    <tr>\n",
       "      <th>4</th>\n",
       "      <td>Pixel Draw - Number Art Coloring Book</td>\n",
       "      <td>ART_AND_DESIGN</td>\n",
       "      <td>4.3</td>\n",
       "      <td>967</td>\n",
       "      <td>2.8M</td>\n",
       "      <td>100,000+</td>\n",
       "      <td>Free</td>\n",
       "      <td>0</td>\n",
       "      <td>Everyone</td>\n",
       "      <td>Art &amp; Design;Creativity</td>\n",
       "      <td>June 20, 2018</td>\n",
       "      <td>1.1</td>\n",
       "      <td>4.4 and up</td>\n",
       "    </tr>\n",
       "  </tbody>\n",
       "</table>\n",
       "</div>"
      ],
      "text/plain": [
       "                                                 App        Category  Rating  \\\n",
       "0     Photo Editor & Candy Camera & Grid & ScrapBook  ART_AND_DESIGN     4.1   \n",
       "1                                Coloring book moana  ART_AND_DESIGN     3.9   \n",
       "2  U Launcher Lite – FREE Live Cool Themes, Hide ...  ART_AND_DESIGN     4.7   \n",
       "3                              Sketch - Draw & Paint  ART_AND_DESIGN     4.5   \n",
       "4              Pixel Draw - Number Art Coloring Book  ART_AND_DESIGN     4.3   \n",
       "\n",
       "  Reviews  Size     Installs  Type Price Content Rating  \\\n",
       "0     159   19M      10,000+  Free     0       Everyone   \n",
       "1     967   14M     500,000+  Free     0       Everyone   \n",
       "2   87510  8.7M   5,000,000+  Free     0       Everyone   \n",
       "3  215644   25M  50,000,000+  Free     0           Teen   \n",
       "4     967  2.8M     100,000+  Free     0       Everyone   \n",
       "\n",
       "                      Genres      Last Updated         Current Ver  \\\n",
       "0               Art & Design   January 7, 2018               1.0.0   \n",
       "1  Art & Design;Pretend Play  January 15, 2018               2.0.0   \n",
       "2               Art & Design    August 1, 2018               1.2.4   \n",
       "3               Art & Design      June 8, 2018  Varies with device   \n",
       "4    Art & Design;Creativity     June 20, 2018                 1.1   \n",
       "\n",
       "    Android Ver  \n",
       "0  4.0.3 and up  \n",
       "1  4.0.3 and up  \n",
       "2  4.0.3 and up  \n",
       "3    4.2 and up  \n",
       "4    4.4 and up  "
      ]
     },
     "execution_count": 2,
     "metadata": {},
     "output_type": "execute_result"
    }
   ],
   "source": [
    "df1 = pd.read_csv(\"Google Playstore Appdata.csv\")\n",
    "df1.head()"
   ]
  },
  {
   "cell_type": "markdown",
   "metadata": {},
   "source": [
    "### <font color='purple'><b> 2. Check the first few samples, shape, info of the data and try to familiarize yourself with different features."
   ]
  },
  {
   "cell_type": "code",
   "execution_count": 3,
   "metadata": {},
   "outputs": [
    {
     "data": {
      "text/plain": [
       "(10841, 13)"
      ]
     },
     "execution_count": 3,
     "metadata": {},
     "output_type": "execute_result"
    }
   ],
   "source": [
    "df1.shape"
   ]
  },
  {
   "cell_type": "code",
   "execution_count": 4,
   "metadata": {},
   "outputs": [
    {
     "name": "stdout",
     "output_type": "stream",
     "text": [
      "<class 'pandas.core.frame.DataFrame'>\n",
      "RangeIndex: 10841 entries, 0 to 10840\n",
      "Data columns (total 13 columns):\n",
      " #   Column          Non-Null Count  Dtype  \n",
      "---  ------          --------------  -----  \n",
      " 0   App             10841 non-null  object \n",
      " 1   Category        10841 non-null  object \n",
      " 2   Rating          9367 non-null   float64\n",
      " 3   Reviews         10841 non-null  object \n",
      " 4   Size            10841 non-null  object \n",
      " 5   Installs        10841 non-null  object \n",
      " 6   Type            10840 non-null  object \n",
      " 7   Price           10841 non-null  object \n",
      " 8   Content Rating  10840 non-null  object \n",
      " 9   Genres          10841 non-null  object \n",
      " 10  Last Updated    10841 non-null  object \n",
      " 11  Current Ver     10833 non-null  object \n",
      " 12  Android Ver     10838 non-null  object \n",
      "dtypes: float64(1), object(12)\n",
      "memory usage: 1.1+ MB\n"
     ]
    }
   ],
   "source": [
    "df1.info()"
   ]
  },
  {
   "cell_type": "code",
   "execution_count": 5,
   "metadata": {},
   "outputs": [
    {
     "data": {
      "text/plain": [
       "App               9660\n",
       "Category            34\n",
       "Rating              40\n",
       "Reviews           6002\n",
       "Size               462\n",
       "Installs            22\n",
       "Type                 3\n",
       "Price               93\n",
       "Content Rating       6\n",
       "Genres             120\n",
       "Last Updated      1378\n",
       "Current Ver       2832\n",
       "Android Ver         33\n",
       "dtype: int64"
      ]
     },
     "execution_count": 5,
     "metadata": {},
     "output_type": "execute_result"
    }
   ],
   "source": [
    "df1.nunique()"
   ]
  },
  {
   "cell_type": "code",
   "execution_count": 6,
   "metadata": {
    "scrolled": true
   },
   "outputs": [
    {
     "data": {
      "text/plain": [
       "App                  0\n",
       "Category             0\n",
       "Rating            1474\n",
       "Reviews              0\n",
       "Size                 0\n",
       "Installs             0\n",
       "Type                 1\n",
       "Price                0\n",
       "Content Rating       1\n",
       "Genres               0\n",
       "Last Updated         0\n",
       "Current Ver          8\n",
       "Android Ver          3\n",
       "dtype: int64"
      ]
     },
     "execution_count": 6,
     "metadata": {},
     "output_type": "execute_result"
    }
   ],
   "source": [
    "df1.isnull().sum()"
   ]
  },
  {
   "cell_type": "markdown",
   "metadata": {},
   "source": [
    "### <font color='purple'><b>3. Check summary statistics of the dataset. List out the columns that need to be worked upon for model building."
   ]
  },
  {
   "cell_type": "code",
   "execution_count": 7,
   "metadata": {},
   "outputs": [
    {
     "data": {
      "text/html": [
       "<div>\n",
       "<style scoped>\n",
       "    .dataframe tbody tr th:only-of-type {\n",
       "        vertical-align: middle;\n",
       "    }\n",
       "\n",
       "    .dataframe tbody tr th {\n",
       "        vertical-align: top;\n",
       "    }\n",
       "\n",
       "    .dataframe thead th {\n",
       "        text-align: right;\n",
       "    }\n",
       "</style>\n",
       "<table border=\"1\" class=\"dataframe\">\n",
       "  <thead>\n",
       "    <tr style=\"text-align: right;\">\n",
       "      <th></th>\n",
       "      <th>count</th>\n",
       "      <th>mean</th>\n",
       "      <th>std</th>\n",
       "      <th>min</th>\n",
       "      <th>25%</th>\n",
       "      <th>50%</th>\n",
       "      <th>75%</th>\n",
       "      <th>max</th>\n",
       "    </tr>\n",
       "  </thead>\n",
       "  <tbody>\n",
       "    <tr>\n",
       "      <th>Rating</th>\n",
       "      <td>9367.0</td>\n",
       "      <td>4.193338</td>\n",
       "      <td>0.537431</td>\n",
       "      <td>1.0</td>\n",
       "      <td>4.0</td>\n",
       "      <td>4.3</td>\n",
       "      <td>4.5</td>\n",
       "      <td>19.0</td>\n",
       "    </tr>\n",
       "  </tbody>\n",
       "</table>\n",
       "</div>"
      ],
      "text/plain": [
       "         count      mean       std  min  25%  50%  75%   max\n",
       "Rating  9367.0  4.193338  0.537431  1.0  4.0  4.3  4.5  19.0"
      ]
     },
     "execution_count": 7,
     "metadata": {},
     "output_type": "execute_result"
    }
   ],
   "source": [
    "df1.describe().T"
   ]
  },
  {
   "cell_type": "code",
   "execution_count": 8,
   "metadata": {},
   "outputs": [
    {
     "data": {
      "text/html": [
       "<div>\n",
       "<style scoped>\n",
       "    .dataframe tbody tr th:only-of-type {\n",
       "        vertical-align: middle;\n",
       "    }\n",
       "\n",
       "    .dataframe tbody tr th {\n",
       "        vertical-align: top;\n",
       "    }\n",
       "\n",
       "    .dataframe thead th {\n",
       "        text-align: right;\n",
       "    }\n",
       "</style>\n",
       "<table border=\"1\" class=\"dataframe\">\n",
       "  <thead>\n",
       "    <tr style=\"text-align: right;\">\n",
       "      <th></th>\n",
       "      <th>count</th>\n",
       "      <th>unique</th>\n",
       "      <th>top</th>\n",
       "      <th>freq</th>\n",
       "    </tr>\n",
       "  </thead>\n",
       "  <tbody>\n",
       "    <tr>\n",
       "      <th>App</th>\n",
       "      <td>10841</td>\n",
       "      <td>9660</td>\n",
       "      <td>ROBLOX</td>\n",
       "      <td>9</td>\n",
       "    </tr>\n",
       "    <tr>\n",
       "      <th>Category</th>\n",
       "      <td>10841</td>\n",
       "      <td>34</td>\n",
       "      <td>FAMILY</td>\n",
       "      <td>1972</td>\n",
       "    </tr>\n",
       "    <tr>\n",
       "      <th>Reviews</th>\n",
       "      <td>10841</td>\n",
       "      <td>6002</td>\n",
       "      <td>0</td>\n",
       "      <td>596</td>\n",
       "    </tr>\n",
       "    <tr>\n",
       "      <th>Size</th>\n",
       "      <td>10841</td>\n",
       "      <td>462</td>\n",
       "      <td>Varies with device</td>\n",
       "      <td>1695</td>\n",
       "    </tr>\n",
       "    <tr>\n",
       "      <th>Installs</th>\n",
       "      <td>10841</td>\n",
       "      <td>22</td>\n",
       "      <td>1,000,000+</td>\n",
       "      <td>1579</td>\n",
       "    </tr>\n",
       "    <tr>\n",
       "      <th>Type</th>\n",
       "      <td>10840</td>\n",
       "      <td>3</td>\n",
       "      <td>Free</td>\n",
       "      <td>10039</td>\n",
       "    </tr>\n",
       "    <tr>\n",
       "      <th>Price</th>\n",
       "      <td>10841</td>\n",
       "      <td>93</td>\n",
       "      <td>0</td>\n",
       "      <td>10040</td>\n",
       "    </tr>\n",
       "    <tr>\n",
       "      <th>Content Rating</th>\n",
       "      <td>10840</td>\n",
       "      <td>6</td>\n",
       "      <td>Everyone</td>\n",
       "      <td>8714</td>\n",
       "    </tr>\n",
       "    <tr>\n",
       "      <th>Genres</th>\n",
       "      <td>10841</td>\n",
       "      <td>120</td>\n",
       "      <td>Tools</td>\n",
       "      <td>842</td>\n",
       "    </tr>\n",
       "    <tr>\n",
       "      <th>Last Updated</th>\n",
       "      <td>10841</td>\n",
       "      <td>1378</td>\n",
       "      <td>August 3, 2018</td>\n",
       "      <td>326</td>\n",
       "    </tr>\n",
       "    <tr>\n",
       "      <th>Current Ver</th>\n",
       "      <td>10833</td>\n",
       "      <td>2832</td>\n",
       "      <td>Varies with device</td>\n",
       "      <td>1459</td>\n",
       "    </tr>\n",
       "    <tr>\n",
       "      <th>Android Ver</th>\n",
       "      <td>10838</td>\n",
       "      <td>33</td>\n",
       "      <td>4.1 and up</td>\n",
       "      <td>2451</td>\n",
       "    </tr>\n",
       "  </tbody>\n",
       "</table>\n",
       "</div>"
      ],
      "text/plain": [
       "                count unique                 top   freq\n",
       "App             10841   9660              ROBLOX      9\n",
       "Category        10841     34              FAMILY   1972\n",
       "Reviews         10841   6002                   0    596\n",
       "Size            10841    462  Varies with device   1695\n",
       "Installs        10841     22          1,000,000+   1579\n",
       "Type            10840      3                Free  10039\n",
       "Price           10841     93                   0  10040\n",
       "Content Rating  10840      6            Everyone   8714\n",
       "Genres          10841    120               Tools    842\n",
       "Last Updated    10841   1378      August 3, 2018    326\n",
       "Current Ver     10833   2832  Varies with device   1459\n",
       "Android Ver     10838     33          4.1 and up   2451"
      ]
     },
     "execution_count": 8,
     "metadata": {},
     "output_type": "execute_result"
    }
   ],
   "source": [
    "df1.describe(include='object').T"
   ]
  },
  {
   "cell_type": "code",
   "execution_count": 9,
   "metadata": {},
   "outputs": [
    {
     "data": {
      "text/plain": [
       "Index(['App', 'Category', 'Rating', 'Reviews', 'Size', 'Installs', 'Type',\n",
       "       'Price', 'Content Rating', 'Genres', 'Last Updated', 'Current Ver',\n",
       "       'Android Ver'],\n",
       "      dtype='object')"
      ]
     },
     "execution_count": 9,
     "metadata": {},
     "output_type": "execute_result"
    }
   ],
   "source": [
    "df1.columns"
   ]
  },
  {
   "cell_type": "markdown",
   "metadata": {},
   "source": [
    "### <font color='purple'><b>4. Check if there are any duplicate records in the dataset? if any drop them."
   ]
  },
  {
   "cell_type": "code",
   "execution_count": 10,
   "metadata": {},
   "outputs": [
    {
     "data": {
      "text/plain": [
       "True"
      ]
     },
     "execution_count": 10,
     "metadata": {},
     "output_type": "execute_result"
    }
   ],
   "source": [
    "df1.duplicated().any()"
   ]
  },
  {
   "cell_type": "code",
   "execution_count": 11,
   "metadata": {},
   "outputs": [],
   "source": [
    "df1.drop_duplicates(inplace=True)"
   ]
  },
  {
   "cell_type": "code",
   "execution_count": 12,
   "metadata": {},
   "outputs": [
    {
     "data": {
      "text/plain": [
       "False"
      ]
     },
     "execution_count": 12,
     "metadata": {},
     "output_type": "execute_result"
    }
   ],
   "source": [
    "df1.duplicated().any()"
   ]
  },
  {
   "cell_type": "code",
   "execution_count": 13,
   "metadata": {},
   "outputs": [
    {
     "data": {
      "text/plain": [
       "(10358, 13)"
      ]
     },
     "execution_count": 13,
     "metadata": {},
     "output_type": "execute_result"
    }
   ],
   "source": [
    "df1.shape"
   ]
  },
  {
   "cell_type": "markdown",
   "metadata": {},
   "source": [
    "### <font color='purple'><b>5. Check the unique categories of the column 'Category', Is there any invalid category? If yes, drop them."
   ]
  },
  {
   "cell_type": "code",
   "execution_count": 14,
   "metadata": {},
   "outputs": [
    {
     "data": {
      "text/plain": [
       "array(['ART_AND_DESIGN', 'AUTO_AND_VEHICLES', 'BEAUTY',\n",
       "       'BOOKS_AND_REFERENCE', 'BUSINESS', 'COMICS', 'COMMUNICATION',\n",
       "       'DATING', 'EDUCATION', 'ENTERTAINMENT', 'EVENTS', 'FINANCE',\n",
       "       'FOOD_AND_DRINK', 'HEALTH_AND_FITNESS', 'HOUSE_AND_HOME',\n",
       "       'LIBRARIES_AND_DEMO', 'LIFESTYLE', 'GAME', 'FAMILY', 'MEDICAL',\n",
       "       'SOCIAL', 'SHOPPING', 'PHOTOGRAPHY', 'SPORTS', 'TRAVEL_AND_LOCAL',\n",
       "       'TOOLS', 'PERSONALIZATION', 'PRODUCTIVITY', 'PARENTING', 'WEATHER',\n",
       "       'VIDEO_PLAYERS', 'NEWS_AND_MAGAZINES', 'MAPS_AND_NAVIGATION',\n",
       "       '1.9'], dtype=object)"
      ]
     },
     "execution_count": 14,
     "metadata": {},
     "output_type": "execute_result"
    }
   ],
   "source": [
    "df1['Category'].unique()   "
   ]
  },
  {
   "cell_type": "code",
   "execution_count": 15,
   "metadata": {},
   "outputs": [],
   "source": [
    "## We can remove 1.9 because, this is an int type rest of them are string type"
   ]
  },
  {
   "cell_type": "code",
   "execution_count": 15,
   "metadata": {},
   "outputs": [],
   "source": [
    "index_names = df1[ df1['Category'] == '1.9' ].index\n",
    "df1.drop(index_names, inplace = True) "
   ]
  },
  {
   "cell_type": "code",
   "execution_count": 16,
   "metadata": {},
   "outputs": [
    {
     "data": {
      "text/plain": [
       "array(['ART_AND_DESIGN', 'AUTO_AND_VEHICLES', 'BEAUTY',\n",
       "       'BOOKS_AND_REFERENCE', 'BUSINESS', 'COMICS', 'COMMUNICATION',\n",
       "       'DATING', 'EDUCATION', 'ENTERTAINMENT', 'EVENTS', 'FINANCE',\n",
       "       'FOOD_AND_DRINK', 'HEALTH_AND_FITNESS', 'HOUSE_AND_HOME',\n",
       "       'LIBRARIES_AND_DEMO', 'LIFESTYLE', 'GAME', 'FAMILY', 'MEDICAL',\n",
       "       'SOCIAL', 'SHOPPING', 'PHOTOGRAPHY', 'SPORTS', 'TRAVEL_AND_LOCAL',\n",
       "       'TOOLS', 'PERSONALIZATION', 'PRODUCTIVITY', 'PARENTING', 'WEATHER',\n",
       "       'VIDEO_PLAYERS', 'NEWS_AND_MAGAZINES', 'MAPS_AND_NAVIGATION'],\n",
       "      dtype=object)"
      ]
     },
     "execution_count": 16,
     "metadata": {},
     "output_type": "execute_result"
    }
   ],
   "source": [
    "df1['Category'].unique()"
   ]
  },
  {
   "cell_type": "markdown",
   "metadata": {},
   "source": [
    "### <font color='purple'><b>6. Check if there are missing values present in the column Rating, If any? drop them and and create a new column as 'Rating_category' by converting ratings to high and low categories(>3.5 is high rest low)."
   ]
  },
  {
   "cell_type": "code",
   "execution_count": 17,
   "metadata": {},
   "outputs": [
    {
     "data": {
      "text/plain": [
       "App                  0\n",
       "Category             0\n",
       "Rating            1465\n",
       "Reviews              0\n",
       "Size                 0\n",
       "Installs             0\n",
       "Type                 1\n",
       "Price                0\n",
       "Content Rating       0\n",
       "Genres               0\n",
       "Last Updated         0\n",
       "Current Ver          8\n",
       "Android Ver          2\n",
       "dtype: int64"
      ]
     },
     "execution_count": 17,
     "metadata": {},
     "output_type": "execute_result"
    }
   ],
   "source": [
    "df1.isnull().sum()"
   ]
  },
  {
   "cell_type": "code",
   "execution_count": 18,
   "metadata": {
    "scrolled": true
   },
   "outputs": [
    {
     "data": {
      "text/html": [
       "<div>\n",
       "<style scoped>\n",
       "    .dataframe tbody tr th:only-of-type {\n",
       "        vertical-align: middle;\n",
       "    }\n",
       "\n",
       "    .dataframe tbody tr th {\n",
       "        vertical-align: top;\n",
       "    }\n",
       "\n",
       "    .dataframe thead th {\n",
       "        text-align: right;\n",
       "    }\n",
       "</style>\n",
       "<table border=\"1\" class=\"dataframe\">\n",
       "  <thead>\n",
       "    <tr style=\"text-align: right;\">\n",
       "      <th></th>\n",
       "      <th>App</th>\n",
       "      <th>Category</th>\n",
       "      <th>Rating</th>\n",
       "      <th>Reviews</th>\n",
       "      <th>Size</th>\n",
       "      <th>Installs</th>\n",
       "      <th>Type</th>\n",
       "      <th>Price</th>\n",
       "      <th>Content Rating</th>\n",
       "      <th>Genres</th>\n",
       "      <th>Last Updated</th>\n",
       "      <th>Current Ver</th>\n",
       "      <th>Android Ver</th>\n",
       "    </tr>\n",
       "  </thead>\n",
       "  <tbody>\n",
       "    <tr>\n",
       "      <th>10836</th>\n",
       "      <td>Sya9a Maroc - FR</td>\n",
       "      <td>FAMILY</td>\n",
       "      <td>4.5</td>\n",
       "      <td>38</td>\n",
       "      <td>53M</td>\n",
       "      <td>5,000+</td>\n",
       "      <td>Free</td>\n",
       "      <td>0</td>\n",
       "      <td>Everyone</td>\n",
       "      <td>Education</td>\n",
       "      <td>July 25, 2017</td>\n",
       "      <td>1.48</td>\n",
       "      <td>4.1 and up</td>\n",
       "    </tr>\n",
       "    <tr>\n",
       "      <th>10837</th>\n",
       "      <td>Fr. Mike Schmitz Audio Teachings</td>\n",
       "      <td>FAMILY</td>\n",
       "      <td>5.0</td>\n",
       "      <td>4</td>\n",
       "      <td>3.6M</td>\n",
       "      <td>100+</td>\n",
       "      <td>Free</td>\n",
       "      <td>0</td>\n",
       "      <td>Everyone</td>\n",
       "      <td>Education</td>\n",
       "      <td>July 6, 2018</td>\n",
       "      <td>1.0</td>\n",
       "      <td>4.1 and up</td>\n",
       "    </tr>\n",
       "    <tr>\n",
       "      <th>10838</th>\n",
       "      <td>Parkinson Exercices FR</td>\n",
       "      <td>MEDICAL</td>\n",
       "      <td>NaN</td>\n",
       "      <td>3</td>\n",
       "      <td>9.5M</td>\n",
       "      <td>1,000+</td>\n",
       "      <td>Free</td>\n",
       "      <td>0</td>\n",
       "      <td>Everyone</td>\n",
       "      <td>Medical</td>\n",
       "      <td>January 20, 2017</td>\n",
       "      <td>1.0</td>\n",
       "      <td>2.2 and up</td>\n",
       "    </tr>\n",
       "    <tr>\n",
       "      <th>10839</th>\n",
       "      <td>The SCP Foundation DB fr nn5n</td>\n",
       "      <td>BOOKS_AND_REFERENCE</td>\n",
       "      <td>4.5</td>\n",
       "      <td>114</td>\n",
       "      <td>Varies with device</td>\n",
       "      <td>1,000+</td>\n",
       "      <td>Free</td>\n",
       "      <td>0</td>\n",
       "      <td>Mature 17+</td>\n",
       "      <td>Books &amp; Reference</td>\n",
       "      <td>January 19, 2015</td>\n",
       "      <td>Varies with device</td>\n",
       "      <td>Varies with device</td>\n",
       "    </tr>\n",
       "    <tr>\n",
       "      <th>10840</th>\n",
       "      <td>iHoroscope - 2018 Daily Horoscope &amp; Astrology</td>\n",
       "      <td>LIFESTYLE</td>\n",
       "      <td>4.5</td>\n",
       "      <td>398307</td>\n",
       "      <td>19M</td>\n",
       "      <td>10,000,000+</td>\n",
       "      <td>Free</td>\n",
       "      <td>0</td>\n",
       "      <td>Everyone</td>\n",
       "      <td>Lifestyle</td>\n",
       "      <td>July 25, 2018</td>\n",
       "      <td>Varies with device</td>\n",
       "      <td>Varies with device</td>\n",
       "    </tr>\n",
       "  </tbody>\n",
       "</table>\n",
       "</div>"
      ],
      "text/plain": [
       "                                                 App             Category  \\\n",
       "10836                               Sya9a Maroc - FR               FAMILY   \n",
       "10837               Fr. Mike Schmitz Audio Teachings               FAMILY   \n",
       "10838                         Parkinson Exercices FR              MEDICAL   \n",
       "10839                  The SCP Foundation DB fr nn5n  BOOKS_AND_REFERENCE   \n",
       "10840  iHoroscope - 2018 Daily Horoscope & Astrology            LIFESTYLE   \n",
       "\n",
       "       Rating Reviews                Size     Installs  Type Price  \\\n",
       "10836     4.5      38                 53M       5,000+  Free     0   \n",
       "10837     5.0       4                3.6M         100+  Free     0   \n",
       "10838     NaN       3                9.5M       1,000+  Free     0   \n",
       "10839     4.5     114  Varies with device       1,000+  Free     0   \n",
       "10840     4.5  398307                 19M  10,000,000+  Free     0   \n",
       "\n",
       "      Content Rating             Genres      Last Updated         Current Ver  \\\n",
       "10836       Everyone          Education     July 25, 2017                1.48   \n",
       "10837       Everyone          Education      July 6, 2018                 1.0   \n",
       "10838       Everyone            Medical  January 20, 2017                 1.0   \n",
       "10839     Mature 17+  Books & Reference  January 19, 2015  Varies with device   \n",
       "10840       Everyone          Lifestyle     July 25, 2018  Varies with device   \n",
       "\n",
       "              Android Ver  \n",
       "10836          4.1 and up  \n",
       "10837          4.1 and up  \n",
       "10838          2.2 and up  \n",
       "10839  Varies with device  \n",
       "10840  Varies with device  "
      ]
     },
     "execution_count": 18,
     "metadata": {},
     "output_type": "execute_result"
    }
   ],
   "source": [
    "df1.tail()  ## For example we can note in Rating column there is some Nan values is obtained."
   ]
  },
  {
   "cell_type": "code",
   "execution_count": null,
   "metadata": {},
   "outputs": [],
   "source": [
    "## There are nearly 1500 rows are having missing values, we can't remove them because it may affect the data,\n",
    "## so fill the null values with 0 , it may give better."
   ]
  },
  {
   "cell_type": "code",
   "execution_count": 19,
   "metadata": {},
   "outputs": [],
   "source": [
    "df1.fillna(value=0, inplace=True) "
   ]
  },
  {
   "cell_type": "code",
   "execution_count": 20,
   "metadata": {
    "scrolled": true
   },
   "outputs": [
    {
     "data": {
      "text/html": [
       "<div>\n",
       "<style scoped>\n",
       "    .dataframe tbody tr th:only-of-type {\n",
       "        vertical-align: middle;\n",
       "    }\n",
       "\n",
       "    .dataframe tbody tr th {\n",
       "        vertical-align: top;\n",
       "    }\n",
       "\n",
       "    .dataframe thead th {\n",
       "        text-align: right;\n",
       "    }\n",
       "</style>\n",
       "<table border=\"1\" class=\"dataframe\">\n",
       "  <thead>\n",
       "    <tr style=\"text-align: right;\">\n",
       "      <th></th>\n",
       "      <th>App</th>\n",
       "      <th>Category</th>\n",
       "      <th>Rating</th>\n",
       "      <th>Reviews</th>\n",
       "      <th>Size</th>\n",
       "      <th>Installs</th>\n",
       "      <th>Type</th>\n",
       "      <th>Price</th>\n",
       "      <th>Content Rating</th>\n",
       "      <th>Genres</th>\n",
       "      <th>Last Updated</th>\n",
       "      <th>Current Ver</th>\n",
       "      <th>Android Ver</th>\n",
       "    </tr>\n",
       "  </thead>\n",
       "  <tbody>\n",
       "    <tr>\n",
       "      <th>10836</th>\n",
       "      <td>Sya9a Maroc - FR</td>\n",
       "      <td>FAMILY</td>\n",
       "      <td>4.5</td>\n",
       "      <td>38</td>\n",
       "      <td>53M</td>\n",
       "      <td>5,000+</td>\n",
       "      <td>Free</td>\n",
       "      <td>0</td>\n",
       "      <td>Everyone</td>\n",
       "      <td>Education</td>\n",
       "      <td>July 25, 2017</td>\n",
       "      <td>1.48</td>\n",
       "      <td>4.1 and up</td>\n",
       "    </tr>\n",
       "    <tr>\n",
       "      <th>10837</th>\n",
       "      <td>Fr. Mike Schmitz Audio Teachings</td>\n",
       "      <td>FAMILY</td>\n",
       "      <td>5.0</td>\n",
       "      <td>4</td>\n",
       "      <td>3.6M</td>\n",
       "      <td>100+</td>\n",
       "      <td>Free</td>\n",
       "      <td>0</td>\n",
       "      <td>Everyone</td>\n",
       "      <td>Education</td>\n",
       "      <td>July 6, 2018</td>\n",
       "      <td>1.0</td>\n",
       "      <td>4.1 and up</td>\n",
       "    </tr>\n",
       "    <tr>\n",
       "      <th>10838</th>\n",
       "      <td>Parkinson Exercices FR</td>\n",
       "      <td>MEDICAL</td>\n",
       "      <td>0.0</td>\n",
       "      <td>3</td>\n",
       "      <td>9.5M</td>\n",
       "      <td>1,000+</td>\n",
       "      <td>Free</td>\n",
       "      <td>0</td>\n",
       "      <td>Everyone</td>\n",
       "      <td>Medical</td>\n",
       "      <td>January 20, 2017</td>\n",
       "      <td>1.0</td>\n",
       "      <td>2.2 and up</td>\n",
       "    </tr>\n",
       "    <tr>\n",
       "      <th>10839</th>\n",
       "      <td>The SCP Foundation DB fr nn5n</td>\n",
       "      <td>BOOKS_AND_REFERENCE</td>\n",
       "      <td>4.5</td>\n",
       "      <td>114</td>\n",
       "      <td>Varies with device</td>\n",
       "      <td>1,000+</td>\n",
       "      <td>Free</td>\n",
       "      <td>0</td>\n",
       "      <td>Mature 17+</td>\n",
       "      <td>Books &amp; Reference</td>\n",
       "      <td>January 19, 2015</td>\n",
       "      <td>Varies with device</td>\n",
       "      <td>Varies with device</td>\n",
       "    </tr>\n",
       "    <tr>\n",
       "      <th>10840</th>\n",
       "      <td>iHoroscope - 2018 Daily Horoscope &amp; Astrology</td>\n",
       "      <td>LIFESTYLE</td>\n",
       "      <td>4.5</td>\n",
       "      <td>398307</td>\n",
       "      <td>19M</td>\n",
       "      <td>10,000,000+</td>\n",
       "      <td>Free</td>\n",
       "      <td>0</td>\n",
       "      <td>Everyone</td>\n",
       "      <td>Lifestyle</td>\n",
       "      <td>July 25, 2018</td>\n",
       "      <td>Varies with device</td>\n",
       "      <td>Varies with device</td>\n",
       "    </tr>\n",
       "  </tbody>\n",
       "</table>\n",
       "</div>"
      ],
      "text/plain": [
       "                                                 App             Category  \\\n",
       "10836                               Sya9a Maroc - FR               FAMILY   \n",
       "10837               Fr. Mike Schmitz Audio Teachings               FAMILY   \n",
       "10838                         Parkinson Exercices FR              MEDICAL   \n",
       "10839                  The SCP Foundation DB fr nn5n  BOOKS_AND_REFERENCE   \n",
       "10840  iHoroscope - 2018 Daily Horoscope & Astrology            LIFESTYLE   \n",
       "\n",
       "       Rating Reviews                Size     Installs  Type Price  \\\n",
       "10836     4.5      38                 53M       5,000+  Free     0   \n",
       "10837     5.0       4                3.6M         100+  Free     0   \n",
       "10838     0.0       3                9.5M       1,000+  Free     0   \n",
       "10839     4.5     114  Varies with device       1,000+  Free     0   \n",
       "10840     4.5  398307                 19M  10,000,000+  Free     0   \n",
       "\n",
       "      Content Rating             Genres      Last Updated         Current Ver  \\\n",
       "10836       Everyone          Education     July 25, 2017                1.48   \n",
       "10837       Everyone          Education      July 6, 2018                 1.0   \n",
       "10838       Everyone            Medical  January 20, 2017                 1.0   \n",
       "10839     Mature 17+  Books & Reference  January 19, 2015  Varies with device   \n",
       "10840       Everyone          Lifestyle     July 25, 2018  Varies with device   \n",
       "\n",
       "              Android Ver  \n",
       "10836          4.1 and up  \n",
       "10837          4.1 and up  \n",
       "10838          2.2 and up  \n",
       "10839  Varies with device  \n",
       "10840  Varies with device  "
      ]
     },
     "execution_count": 20,
     "metadata": {},
     "output_type": "execute_result"
    }
   ],
   "source": [
    "df1.tail()  ## we can note in Rating column the Nan values is replaced with 0."
   ]
  },
  {
   "cell_type": "code",
   "execution_count": 21,
   "metadata": {},
   "outputs": [],
   "source": [
    "## creating a new column Rating Category with the help of column rating"
   ]
  },
  {
   "cell_type": "code",
   "execution_count": 22,
   "metadata": {},
   "outputs": [],
   "source": [
    "df1['Rating_category'] = np.where(df1['Rating']>3.5, 'High', 'Low')"
   ]
  },
  {
   "cell_type": "code",
   "execution_count": 23,
   "metadata": {},
   "outputs": [
    {
     "data": {
      "text/html": [
       "<div>\n",
       "<style scoped>\n",
       "    .dataframe tbody tr th:only-of-type {\n",
       "        vertical-align: middle;\n",
       "    }\n",
       "\n",
       "    .dataframe tbody tr th {\n",
       "        vertical-align: top;\n",
       "    }\n",
       "\n",
       "    .dataframe thead th {\n",
       "        text-align: right;\n",
       "    }\n",
       "</style>\n",
       "<table border=\"1\" class=\"dataframe\">\n",
       "  <thead>\n",
       "    <tr style=\"text-align: right;\">\n",
       "      <th></th>\n",
       "      <th>App</th>\n",
       "      <th>Category</th>\n",
       "      <th>Rating</th>\n",
       "      <th>Reviews</th>\n",
       "      <th>Size</th>\n",
       "      <th>Installs</th>\n",
       "      <th>Type</th>\n",
       "      <th>Price</th>\n",
       "      <th>Content Rating</th>\n",
       "      <th>Genres</th>\n",
       "      <th>Last Updated</th>\n",
       "      <th>Current Ver</th>\n",
       "      <th>Android Ver</th>\n",
       "      <th>Rating_category</th>\n",
       "    </tr>\n",
       "  </thead>\n",
       "  <tbody>\n",
       "    <tr>\n",
       "      <th>0</th>\n",
       "      <td>Photo Editor &amp; Candy Camera &amp; Grid &amp; ScrapBook</td>\n",
       "      <td>ART_AND_DESIGN</td>\n",
       "      <td>4.1</td>\n",
       "      <td>159</td>\n",
       "      <td>19M</td>\n",
       "      <td>10,000+</td>\n",
       "      <td>Free</td>\n",
       "      <td>0</td>\n",
       "      <td>Everyone</td>\n",
       "      <td>Art &amp; Design</td>\n",
       "      <td>January 7, 2018</td>\n",
       "      <td>1.0.0</td>\n",
       "      <td>4.0.3 and up</td>\n",
       "      <td>High</td>\n",
       "    </tr>\n",
       "    <tr>\n",
       "      <th>1</th>\n",
       "      <td>Coloring book moana</td>\n",
       "      <td>ART_AND_DESIGN</td>\n",
       "      <td>3.9</td>\n",
       "      <td>967</td>\n",
       "      <td>14M</td>\n",
       "      <td>500,000+</td>\n",
       "      <td>Free</td>\n",
       "      <td>0</td>\n",
       "      <td>Everyone</td>\n",
       "      <td>Art &amp; Design;Pretend Play</td>\n",
       "      <td>January 15, 2018</td>\n",
       "      <td>2.0.0</td>\n",
       "      <td>4.0.3 and up</td>\n",
       "      <td>High</td>\n",
       "    </tr>\n",
       "    <tr>\n",
       "      <th>2</th>\n",
       "      <td>U Launcher Lite – FREE Live Cool Themes, Hide ...</td>\n",
       "      <td>ART_AND_DESIGN</td>\n",
       "      <td>4.7</td>\n",
       "      <td>87510</td>\n",
       "      <td>8.7M</td>\n",
       "      <td>5,000,000+</td>\n",
       "      <td>Free</td>\n",
       "      <td>0</td>\n",
       "      <td>Everyone</td>\n",
       "      <td>Art &amp; Design</td>\n",
       "      <td>August 1, 2018</td>\n",
       "      <td>1.2.4</td>\n",
       "      <td>4.0.3 and up</td>\n",
       "      <td>High</td>\n",
       "    </tr>\n",
       "    <tr>\n",
       "      <th>3</th>\n",
       "      <td>Sketch - Draw &amp; Paint</td>\n",
       "      <td>ART_AND_DESIGN</td>\n",
       "      <td>4.5</td>\n",
       "      <td>215644</td>\n",
       "      <td>25M</td>\n",
       "      <td>50,000,000+</td>\n",
       "      <td>Free</td>\n",
       "      <td>0</td>\n",
       "      <td>Teen</td>\n",
       "      <td>Art &amp; Design</td>\n",
       "      <td>June 8, 2018</td>\n",
       "      <td>Varies with device</td>\n",
       "      <td>4.2 and up</td>\n",
       "      <td>High</td>\n",
       "    </tr>\n",
       "    <tr>\n",
       "      <th>4</th>\n",
       "      <td>Pixel Draw - Number Art Coloring Book</td>\n",
       "      <td>ART_AND_DESIGN</td>\n",
       "      <td>4.3</td>\n",
       "      <td>967</td>\n",
       "      <td>2.8M</td>\n",
       "      <td>100,000+</td>\n",
       "      <td>Free</td>\n",
       "      <td>0</td>\n",
       "      <td>Everyone</td>\n",
       "      <td>Art &amp; Design;Creativity</td>\n",
       "      <td>June 20, 2018</td>\n",
       "      <td>1.1</td>\n",
       "      <td>4.4 and up</td>\n",
       "      <td>High</td>\n",
       "    </tr>\n",
       "  </tbody>\n",
       "</table>\n",
       "</div>"
      ],
      "text/plain": [
       "                                                 App        Category  Rating  \\\n",
       "0     Photo Editor & Candy Camera & Grid & ScrapBook  ART_AND_DESIGN     4.1   \n",
       "1                                Coloring book moana  ART_AND_DESIGN     3.9   \n",
       "2  U Launcher Lite – FREE Live Cool Themes, Hide ...  ART_AND_DESIGN     4.7   \n",
       "3                              Sketch - Draw & Paint  ART_AND_DESIGN     4.5   \n",
       "4              Pixel Draw - Number Art Coloring Book  ART_AND_DESIGN     4.3   \n",
       "\n",
       "  Reviews  Size     Installs  Type Price Content Rating  \\\n",
       "0     159   19M      10,000+  Free     0       Everyone   \n",
       "1     967   14M     500,000+  Free     0       Everyone   \n",
       "2   87510  8.7M   5,000,000+  Free     0       Everyone   \n",
       "3  215644   25M  50,000,000+  Free     0           Teen   \n",
       "4     967  2.8M     100,000+  Free     0       Everyone   \n",
       "\n",
       "                      Genres      Last Updated         Current Ver  \\\n",
       "0               Art & Design   January 7, 2018               1.0.0   \n",
       "1  Art & Design;Pretend Play  January 15, 2018               2.0.0   \n",
       "2               Art & Design    August 1, 2018               1.2.4   \n",
       "3               Art & Design      June 8, 2018  Varies with device   \n",
       "4    Art & Design;Creativity     June 20, 2018                 1.1   \n",
       "\n",
       "    Android Ver Rating_category  \n",
       "0  4.0.3 and up            High  \n",
       "1  4.0.3 and up            High  \n",
       "2  4.0.3 and up            High  \n",
       "3    4.2 and up            High  \n",
       "4    4.4 and up            High  "
      ]
     },
     "execution_count": 23,
     "metadata": {},
     "output_type": "execute_result"
    }
   ],
   "source": [
    "df1.head()"
   ]
  },
  {
   "cell_type": "markdown",
   "metadata": {},
   "source": [
    "### <font color='purple'><b>7. Check the distribution of the newly created column 'Rating_category' and comment on the distribution."
   ]
  },
  {
   "cell_type": "code",
   "execution_count": 24,
   "metadata": {},
   "outputs": [
    {
     "data": {
      "text/plain": [
       "<seaborn.axisgrid.FacetGrid at 0x22fd65e0790>"
      ]
     },
     "execution_count": 24,
     "metadata": {},
     "output_type": "execute_result"
    },
    {
     "data": {
      "image/png": "[encoded data removed]",
      "text/plain": [
       "<Figure size 360x360 with 1 Axes>"
      ]
     },
     "metadata": {
      "needs_background": "light"
     },
     "output_type": "display_data"
    }
   ],
   "source": [
    "sns.displot(df1[\"Rating_category\"],kde=True)"
   ]
  },
  {
   "cell_type": "markdown",
   "metadata": {},
   "source": [
    "### <font color='purple'><b>8. Convert the column \"Reviews'' to numeric data type and check the presence of outliers in the column and handle the outliers using a transformation approach.(Hint: Use log transformation)."
   ]
  },
  {
   "cell_type": "code",
   "execution_count": 25,
   "metadata": {},
   "outputs": [],
   "source": [
    "df1[\"Reviews\"] = df1[\"Reviews\"].astype(\"int\")"
   ]
  },
  {
   "cell_type": "code",
   "execution_count": 26,
   "metadata": {},
   "outputs": [
    {
     "data": {
      "text/plain": [
       "<AxesSubplot: >"
      ]
     },
     "execution_count": 26,
     "metadata": {},
     "output_type": "execute_result"
    },
    {
     "data": {
      "image/png": "[encoded data removed]",
      "text/plain": [
       "<Figure size 432x288 with 1 Axes>"
      ]
     },
     "metadata": {
      "needs_background": "light"
     },
     "output_type": "display_data"
    }
   ],
   "source": [
    "sns.boxplot(df1[\"Reviews\"])"
   ]
  },
  {
   "cell_type": "code",
   "execution_count": 27,
   "metadata": {},
   "outputs": [
    {
     "data": {
      "text/plain": [
       "<AxesSubplot: >"
      ]
     },
     "execution_count": 27,
     "metadata": {},
     "output_type": "execute_result"
    },
    {
     "data": {
      "image/png": "[encoded data removed]",
      "text/plain": [
       "<Figure size 432x288 with 1 Axes>"
      ]
     },
     "metadata": {
      "needs_background": "light"
     },
     "output_type": "display_data"
    }
   ],
   "source": [
    "df1['Reviews'] = np.log(df1['Reviews'])\n",
    "sns.boxplot(df1[\"Reviews\"],color = 'orange')"
   ]
  },
  {
   "cell_type": "markdown",
   "metadata": {},
   "source": [
    "### <font color='purple'><b>9. The column 'Size' contains alphanumeric values, treat the non numeric data and convert the column into suitable data type. (hint: Replace M with 1 million and K with 1 thousand, and drop the entries wheresize='Varies with device')."
   ]
  },
  {
   "cell_type": "code",
   "execution_count": 28,
   "metadata": {},
   "outputs": [
    {
     "data": {
      "text/plain": [
       "(10357, 14)"
      ]
     },
     "execution_count": 28,
     "metadata": {},
     "output_type": "execute_result"
    }
   ],
   "source": [
    "df1.shape"
   ]
  },
  {
   "cell_type": "code",
   "execution_count": 29,
   "metadata": {},
   "outputs": [],
   "source": [
    "index_names = df1[ df1['Size'] == 'Varies with device' ].index\n",
    "df1.drop(index_names, inplace = True)"
   ]
  },
  {
   "cell_type": "code",
   "execution_count": 30,
   "metadata": {},
   "outputs": [
    {
     "data": {
      "text/plain": [
       "(8831, 14)"
      ]
     },
     "execution_count": 30,
     "metadata": {},
     "output_type": "execute_result"
    }
   ],
   "source": [
    "df1.shape"
   ]
  },
  {
   "cell_type": "code",
   "execution_count": 31,
   "metadata": {},
   "outputs": [],
   "source": [
    "df1['Size'] = df1['Size'].replace({'M': 'e+06', 'k': 'e+03'}, regex=True).astype(float).astype(int)"
   ]
  },
  {
   "cell_type": "code",
   "execution_count": 32,
   "metadata": {},
   "outputs": [
    {
     "data": {
      "text/html": [
       "<div>\n",
       "<style scoped>\n",
       "    .dataframe tbody tr th:only-of-type {\n",
       "        vertical-align: middle;\n",
       "    }\n",
       "\n",
       "    .dataframe tbody tr th {\n",
       "        vertical-align: top;\n",
       "    }\n",
       "\n",
       "    .dataframe thead th {\n",
       "        text-align: right;\n",
       "    }\n",
       "</style>\n",
       "<table border=\"1\" class=\"dataframe\">\n",
       "  <thead>\n",
       "    <tr style=\"text-align: right;\">\n",
       "      <th></th>\n",
       "      <th>App</th>\n",
       "      <th>Category</th>\n",
       "      <th>Rating</th>\n",
       "      <th>Reviews</th>\n",
       "      <th>Size</th>\n",
       "      <th>Installs</th>\n",
       "      <th>Type</th>\n",
       "      <th>Price</th>\n",
       "      <th>Content Rating</th>\n",
       "      <th>Genres</th>\n",
       "      <th>Last Updated</th>\n",
       "      <th>Current Ver</th>\n",
       "      <th>Android Ver</th>\n",
       "      <th>Rating_category</th>\n",
       "    </tr>\n",
       "  </thead>\n",
       "  <tbody>\n",
       "    <tr>\n",
       "      <th>0</th>\n",
       "      <td>Photo Editor &amp; Candy Camera &amp; Grid &amp; ScrapBook</td>\n",
       "      <td>ART_AND_DESIGN</td>\n",
       "      <td>4.1</td>\n",
       "      <td>5.068904</td>\n",
       "      <td>19000000</td>\n",
       "      <td>10,000+</td>\n",
       "      <td>Free</td>\n",
       "      <td>0</td>\n",
       "      <td>Everyone</td>\n",
       "      <td>Art &amp; Design</td>\n",
       "      <td>January 7, 2018</td>\n",
       "      <td>1.0.0</td>\n",
       "      <td>4.0.3 and up</td>\n",
       "      <td>High</td>\n",
       "    </tr>\n",
       "    <tr>\n",
       "      <th>1</th>\n",
       "      <td>Coloring book moana</td>\n",
       "      <td>ART_AND_DESIGN</td>\n",
       "      <td>3.9</td>\n",
       "      <td>6.874198</td>\n",
       "      <td>14000000</td>\n",
       "      <td>500,000+</td>\n",
       "      <td>Free</td>\n",
       "      <td>0</td>\n",
       "      <td>Everyone</td>\n",
       "      <td>Art &amp; Design;Pretend Play</td>\n",
       "      <td>January 15, 2018</td>\n",
       "      <td>2.0.0</td>\n",
       "      <td>4.0.3 and up</td>\n",
       "      <td>High</td>\n",
       "    </tr>\n",
       "    <tr>\n",
       "      <th>2</th>\n",
       "      <td>U Launcher Lite – FREE Live Cool Themes, Hide ...</td>\n",
       "      <td>ART_AND_DESIGN</td>\n",
       "      <td>4.7</td>\n",
       "      <td>11.379508</td>\n",
       "      <td>8700000</td>\n",
       "      <td>5,000,000+</td>\n",
       "      <td>Free</td>\n",
       "      <td>0</td>\n",
       "      <td>Everyone</td>\n",
       "      <td>Art &amp; Design</td>\n",
       "      <td>August 1, 2018</td>\n",
       "      <td>1.2.4</td>\n",
       "      <td>4.0.3 and up</td>\n",
       "      <td>High</td>\n",
       "    </tr>\n",
       "    <tr>\n",
       "      <th>3</th>\n",
       "      <td>Sketch - Draw &amp; Paint</td>\n",
       "      <td>ART_AND_DESIGN</td>\n",
       "      <td>4.5</td>\n",
       "      <td>12.281384</td>\n",
       "      <td>25000000</td>\n",
       "      <td>50,000,000+</td>\n",
       "      <td>Free</td>\n",
       "      <td>0</td>\n",
       "      <td>Teen</td>\n",
       "      <td>Art &amp; Design</td>\n",
       "      <td>June 8, 2018</td>\n",
       "      <td>Varies with device</td>\n",
       "      <td>4.2 and up</td>\n",
       "      <td>High</td>\n",
       "    </tr>\n",
       "    <tr>\n",
       "      <th>4</th>\n",
       "      <td>Pixel Draw - Number Art Coloring Book</td>\n",
       "      <td>ART_AND_DESIGN</td>\n",
       "      <td>4.3</td>\n",
       "      <td>6.874198</td>\n",
       "      <td>2800000</td>\n",
       "      <td>100,000+</td>\n",
       "      <td>Free</td>\n",
       "      <td>0</td>\n",
       "      <td>Everyone</td>\n",
       "      <td>Art &amp; Design;Creativity</td>\n",
       "      <td>June 20, 2018</td>\n",
       "      <td>1.1</td>\n",
       "      <td>4.4 and up</td>\n",
       "      <td>High</td>\n",
       "    </tr>\n",
       "  </tbody>\n",
       "</table>\n",
       "</div>"
      ],
      "text/plain": [
       "                                                 App        Category  Rating  \\\n",
       "0     Photo Editor & Candy Camera & Grid & ScrapBook  ART_AND_DESIGN     4.1   \n",
       "1                                Coloring book moana  ART_AND_DESIGN     3.9   \n",
       "2  U Launcher Lite – FREE Live Cool Themes, Hide ...  ART_AND_DESIGN     4.7   \n",
       "3                              Sketch - Draw & Paint  ART_AND_DESIGN     4.5   \n",
       "4              Pixel Draw - Number Art Coloring Book  ART_AND_DESIGN     4.3   \n",
       "\n",
       "     Reviews      Size     Installs  Type Price Content Rating  \\\n",
       "0   5.068904  19000000      10,000+  Free     0       Everyone   \n",
       "1   6.874198  14000000     500,000+  Free     0       Everyone   \n",
       "2  11.379508   8700000   5,000,000+  Free     0       Everyone   \n",
       "3  12.281384  25000000  50,000,000+  Free     0           Teen   \n",
       "4   6.874198   2800000     100,000+  Free     0       Everyone   \n",
       "\n",
       "                      Genres      Last Updated         Current Ver  \\\n",
       "0               Art & Design   January 7, 2018               1.0.0   \n",
       "1  Art & Design;Pretend Play  January 15, 2018               2.0.0   \n",
       "2               Art & Design    August 1, 2018               1.2.4   \n",
       "3               Art & Design      June 8, 2018  Varies with device   \n",
       "4    Art & Design;Creativity     June 20, 2018                 1.1   \n",
       "\n",
       "    Android Ver Rating_category  \n",
       "0  4.0.3 and up            High  \n",
       "1  4.0.3 and up            High  \n",
       "2  4.0.3 and up            High  \n",
       "3    4.2 and up            High  \n",
       "4    4.4 and up            High  "
      ]
     },
     "execution_count": 32,
     "metadata": {},
     "output_type": "execute_result"
    }
   ],
   "source": [
    "df1.head()"
   ]
  },
  {
   "cell_type": "markdown",
   "metadata": {},
   "source": [
    "### <font color='purple'><b>10. Check the column 'Installs', treat the unwanted characters and convert the column into a suitable data type."
   ]
  },
  {
   "cell_type": "code",
   "execution_count": 33,
   "metadata": {},
   "outputs": [
    {
     "data": {
      "text/html": [
       "<div>\n",
       "<style scoped>\n",
       "    .dataframe tbody tr th:only-of-type {\n",
       "        vertical-align: middle;\n",
       "    }\n",
       "\n",
       "    .dataframe tbody tr th {\n",
       "        vertical-align: top;\n",
       "    }\n",
       "\n",
       "    .dataframe thead th {\n",
       "        text-align: right;\n",
       "    }\n",
       "</style>\n",
       "<table border=\"1\" class=\"dataframe\">\n",
       "  <thead>\n",
       "    <tr style=\"text-align: right;\">\n",
       "      <th></th>\n",
       "      <th>App</th>\n",
       "      <th>Category</th>\n",
       "      <th>Rating</th>\n",
       "      <th>Reviews</th>\n",
       "      <th>Size</th>\n",
       "      <th>Installs</th>\n",
       "      <th>Type</th>\n",
       "      <th>Price</th>\n",
       "      <th>Content Rating</th>\n",
       "      <th>Genres</th>\n",
       "      <th>Last Updated</th>\n",
       "      <th>Current Ver</th>\n",
       "      <th>Android Ver</th>\n",
       "      <th>Rating_category</th>\n",
       "    </tr>\n",
       "  </thead>\n",
       "  <tbody>\n",
       "    <tr>\n",
       "      <th>0</th>\n",
       "      <td>Photo Editor &amp; Candy Camera &amp; Grid &amp; ScrapBook</td>\n",
       "      <td>ART_AND_DESIGN</td>\n",
       "      <td>4.1</td>\n",
       "      <td>5.068904</td>\n",
       "      <td>19000000</td>\n",
       "      <td>10000+</td>\n",
       "      <td>Free</td>\n",
       "      <td>0</td>\n",
       "      <td>Everyone</td>\n",
       "      <td>Art &amp; Design</td>\n",
       "      <td>January 7, 2018</td>\n",
       "      <td>1.0.0</td>\n",
       "      <td>4.0.3 and up</td>\n",
       "      <td>High</td>\n",
       "    </tr>\n",
       "    <tr>\n",
       "      <th>1</th>\n",
       "      <td>Coloring book moana</td>\n",
       "      <td>ART_AND_DESIGN</td>\n",
       "      <td>3.9</td>\n",
       "      <td>6.874198</td>\n",
       "      <td>14000000</td>\n",
       "      <td>500000+</td>\n",
       "      <td>Free</td>\n",
       "      <td>0</td>\n",
       "      <td>Everyone</td>\n",
       "      <td>Art &amp; Design;Pretend Play</td>\n",
       "      <td>January 15, 2018</td>\n",
       "      <td>2.0.0</td>\n",
       "      <td>4.0.3 and up</td>\n",
       "      <td>High</td>\n",
       "    </tr>\n",
       "    <tr>\n",
       "      <th>2</th>\n",
       "      <td>U Launcher Lite – FREE Live Cool Themes, Hide ...</td>\n",
       "      <td>ART_AND_DESIGN</td>\n",
       "      <td>4.7</td>\n",
       "      <td>11.379508</td>\n",
       "      <td>8700000</td>\n",
       "      <td>5000000+</td>\n",
       "      <td>Free</td>\n",
       "      <td>0</td>\n",
       "      <td>Everyone</td>\n",
       "      <td>Art &amp; Design</td>\n",
       "      <td>August 1, 2018</td>\n",
       "      <td>1.2.4</td>\n",
       "      <td>4.0.3 and up</td>\n",
       "      <td>High</td>\n",
       "    </tr>\n",
       "    <tr>\n",
       "      <th>3</th>\n",
       "      <td>Sketch - Draw &amp; Paint</td>\n",
       "      <td>ART_AND_DESIGN</td>\n",
       "      <td>4.5</td>\n",
       "      <td>12.281384</td>\n",
       "      <td>25000000</td>\n",
       "      <td>50000000+</td>\n",
       "      <td>Free</td>\n",
       "      <td>0</td>\n",
       "      <td>Teen</td>\n",
       "      <td>Art &amp; Design</td>\n",
       "      <td>June 8, 2018</td>\n",
       "      <td>Varies with device</td>\n",
       "      <td>4.2 and up</td>\n",
       "      <td>High</td>\n",
       "    </tr>\n",
       "    <tr>\n",
       "      <th>4</th>\n",
       "      <td>Pixel Draw - Number Art Coloring Book</td>\n",
       "      <td>ART_AND_DESIGN</td>\n",
       "      <td>4.3</td>\n",
       "      <td>6.874198</td>\n",
       "      <td>2800000</td>\n",
       "      <td>100000+</td>\n",
       "      <td>Free</td>\n",
       "      <td>0</td>\n",
       "      <td>Everyone</td>\n",
       "      <td>Art &amp; Design;Creativity</td>\n",
       "      <td>June 20, 2018</td>\n",
       "      <td>1.1</td>\n",
       "      <td>4.4 and up</td>\n",
       "      <td>High</td>\n",
       "    </tr>\n",
       "  </tbody>\n",
       "</table>\n",
       "</div>"
      ],
      "text/plain": [
       "                                                 App        Category  Rating  \\\n",
       "0     Photo Editor & Candy Camera & Grid & ScrapBook  ART_AND_DESIGN     4.1   \n",
       "1                                Coloring book moana  ART_AND_DESIGN     3.9   \n",
       "2  U Launcher Lite – FREE Live Cool Themes, Hide ...  ART_AND_DESIGN     4.7   \n",
       "3                              Sketch - Draw & Paint  ART_AND_DESIGN     4.5   \n",
       "4              Pixel Draw - Number Art Coloring Book  ART_AND_DESIGN     4.3   \n",
       "\n",
       "     Reviews      Size   Installs  Type Price Content Rating  \\\n",
       "0   5.068904  19000000     10000+  Free     0       Everyone   \n",
       "1   6.874198  14000000    500000+  Free     0       Everyone   \n",
       "2  11.379508   8700000   5000000+  Free     0       Everyone   \n",
       "3  12.281384  25000000  50000000+  Free     0           Teen   \n",
       "4   6.874198   2800000    100000+  Free     0       Everyone   \n",
       "\n",
       "                      Genres      Last Updated         Current Ver  \\\n",
       "0               Art & Design   January 7, 2018               1.0.0   \n",
       "1  Art & Design;Pretend Play  January 15, 2018               2.0.0   \n",
       "2               Art & Design    August 1, 2018               1.2.4   \n",
       "3               Art & Design      June 8, 2018  Varies with device   \n",
       "4    Art & Design;Creativity     June 20, 2018                 1.1   \n",
       "\n",
       "    Android Ver Rating_category  \n",
       "0  4.0.3 and up            High  \n",
       "1  4.0.3 and up            High  \n",
       "2  4.0.3 and up            High  \n",
       "3    4.2 and up            High  \n",
       "4    4.4 and up            High  "
      ]
     },
     "execution_count": 33,
     "metadata": {},
     "output_type": "execute_result"
    }
   ],
   "source": [
    "df1['Installs'] = df1['Installs'].str.replace(',','')\n",
    "df1.head()"
   ]
  },
  {
   "cell_type": "code",
   "execution_count": 34,
   "metadata": {},
   "outputs": [],
   "source": [
    "df1[\"Installs\"] = [x.strip(\"+\") for x in df1[\"Installs\"]]"
   ]
  },
  {
   "cell_type": "code",
   "execution_count": 35,
   "metadata": {},
   "outputs": [
    {
     "data": {
      "text/html": [
       "<div>\n",
       "<style scoped>\n",
       "    .dataframe tbody tr th:only-of-type {\n",
       "        vertical-align: middle;\n",
       "    }\n",
       "\n",
       "    .dataframe tbody tr th {\n",
       "        vertical-align: top;\n",
       "    }\n",
       "\n",
       "    .dataframe thead th {\n",
       "        text-align: right;\n",
       "    }\n",
       "</style>\n",
       "<table border=\"1\" class=\"dataframe\">\n",
       "  <thead>\n",
       "    <tr style=\"text-align: right;\">\n",
       "      <th></th>\n",
       "      <th>App</th>\n",
       "      <th>Category</th>\n",
       "      <th>Rating</th>\n",
       "      <th>Reviews</th>\n",
       "      <th>Size</th>\n",
       "      <th>Installs</th>\n",
       "      <th>Type</th>\n",
       "      <th>Price</th>\n",
       "      <th>Content Rating</th>\n",
       "      <th>Genres</th>\n",
       "      <th>Last Updated</th>\n",
       "      <th>Current Ver</th>\n",
       "      <th>Android Ver</th>\n",
       "      <th>Rating_category</th>\n",
       "    </tr>\n",
       "  </thead>\n",
       "  <tbody>\n",
       "    <tr>\n",
       "      <th>0</th>\n",
       "      <td>Photo Editor &amp; Candy Camera &amp; Grid &amp; ScrapBook</td>\n",
       "      <td>ART_AND_DESIGN</td>\n",
       "      <td>4.1</td>\n",
       "      <td>5.068904</td>\n",
       "      <td>19000000</td>\n",
       "      <td>10000</td>\n",
       "      <td>Free</td>\n",
       "      <td>0</td>\n",
       "      <td>Everyone</td>\n",
       "      <td>Art &amp; Design</td>\n",
       "      <td>January 7, 2018</td>\n",
       "      <td>1.0.0</td>\n",
       "      <td>4.0.3 and up</td>\n",
       "      <td>High</td>\n",
       "    </tr>\n",
       "    <tr>\n",
       "      <th>1</th>\n",
       "      <td>Coloring book moana</td>\n",
       "      <td>ART_AND_DESIGN</td>\n",
       "      <td>3.9</td>\n",
       "      <td>6.874198</td>\n",
       "      <td>14000000</td>\n",
       "      <td>500000</td>\n",
       "      <td>Free</td>\n",
       "      <td>0</td>\n",
       "      <td>Everyone</td>\n",
       "      <td>Art &amp; Design;Pretend Play</td>\n",
       "      <td>January 15, 2018</td>\n",
       "      <td>2.0.0</td>\n",
       "      <td>4.0.3 and up</td>\n",
       "      <td>High</td>\n",
       "    </tr>\n",
       "    <tr>\n",
       "      <th>2</th>\n",
       "      <td>U Launcher Lite – FREE Live Cool Themes, Hide ...</td>\n",
       "      <td>ART_AND_DESIGN</td>\n",
       "      <td>4.7</td>\n",
       "      <td>11.379508</td>\n",
       "      <td>8700000</td>\n",
       "      <td>5000000</td>\n",
       "      <td>Free</td>\n",
       "      <td>0</td>\n",
       "      <td>Everyone</td>\n",
       "      <td>Art &amp; Design</td>\n",
       "      <td>August 1, 2018</td>\n",
       "      <td>1.2.4</td>\n",
       "      <td>4.0.3 and up</td>\n",
       "      <td>High</td>\n",
       "    </tr>\n",
       "    <tr>\n",
       "      <th>3</th>\n",
       "      <td>Sketch - Draw &amp; Paint</td>\n",
       "      <td>ART_AND_DESIGN</td>\n",
       "      <td>4.5</td>\n",
       "      <td>12.281384</td>\n",
       "      <td>25000000</td>\n",
       "      <td>50000000</td>\n",
       "      <td>Free</td>\n",
       "      <td>0</td>\n",
       "      <td>Teen</td>\n",
       "      <td>Art &amp; Design</td>\n",
       "      <td>June 8, 2018</td>\n",
       "      <td>Varies with device</td>\n",
       "      <td>4.2 and up</td>\n",
       "      <td>High</td>\n",
       "    </tr>\n",
       "    <tr>\n",
       "      <th>4</th>\n",
       "      <td>Pixel Draw - Number Art Coloring Book</td>\n",
       "      <td>ART_AND_DESIGN</td>\n",
       "      <td>4.3</td>\n",
       "      <td>6.874198</td>\n",
       "      <td>2800000</td>\n",
       "      <td>100000</td>\n",
       "      <td>Free</td>\n",
       "      <td>0</td>\n",
       "      <td>Everyone</td>\n",
       "      <td>Art &amp; Design;Creativity</td>\n",
       "      <td>June 20, 2018</td>\n",
       "      <td>1.1</td>\n",
       "      <td>4.4 and up</td>\n",
       "      <td>High</td>\n",
       "    </tr>\n",
       "  </tbody>\n",
       "</table>\n",
       "</div>"
      ],
      "text/plain": [
       "                                                 App        Category  Rating  \\\n",
       "0     Photo Editor & Candy Camera & Grid & ScrapBook  ART_AND_DESIGN     4.1   \n",
       "1                                Coloring book moana  ART_AND_DESIGN     3.9   \n",
       "2  U Launcher Lite – FREE Live Cool Themes, Hide ...  ART_AND_DESIGN     4.7   \n",
       "3                              Sketch - Draw & Paint  ART_AND_DESIGN     4.5   \n",
       "4              Pixel Draw - Number Art Coloring Book  ART_AND_DESIGN     4.3   \n",
       "\n",
       "     Reviews      Size  Installs  Type Price Content Rating  \\\n",
       "0   5.068904  19000000     10000  Free     0       Everyone   \n",
       "1   6.874198  14000000    500000  Free     0       Everyone   \n",
       "2  11.379508   8700000   5000000  Free     0       Everyone   \n",
       "3  12.281384  25000000  50000000  Free     0           Teen   \n",
       "4   6.874198   2800000    100000  Free     0       Everyone   \n",
       "\n",
       "                      Genres      Last Updated         Current Ver  \\\n",
       "0               Art & Design   January 7, 2018               1.0.0   \n",
       "1  Art & Design;Pretend Play  January 15, 2018               2.0.0   \n",
       "2               Art & Design    August 1, 2018               1.2.4   \n",
       "3               Art & Design      June 8, 2018  Varies with device   \n",
       "4    Art & Design;Creativity     June 20, 2018                 1.1   \n",
       "\n",
       "    Android Ver Rating_category  \n",
       "0  4.0.3 and up            High  \n",
       "1  4.0.3 and up            High  \n",
       "2  4.0.3 and up            High  \n",
       "3    4.2 and up            High  \n",
       "4    4.4 and up            High  "
      ]
     },
     "execution_count": 35,
     "metadata": {},
     "output_type": "execute_result"
    }
   ],
   "source": [
    "df1.head()"
   ]
  },
  {
   "cell_type": "markdown",
   "metadata": {},
   "source": [
    "### <font color='purple'><b>11. Check the column 'Price' , remove the unwanted characters and convert the column into a suitable data type."
   ]
  },
  {
   "cell_type": "code",
   "execution_count": 36,
   "metadata": {
    "scrolled": true
   },
   "outputs": [
    {
     "data": {
      "text/plain": [
       "0          8140\n",
       "$0.99       143\n",
       "$2.99       111\n",
       "$1.99        66\n",
       "$4.99        63\n",
       "           ... \n",
       "$18.99        1\n",
       "$389.99       1\n",
       "$19.90        1\n",
       "$1.75         1\n",
       "$1.04         1\n",
       "Name: Price, Length: 87, dtype: int64"
      ]
     },
     "execution_count": 36,
     "metadata": {},
     "output_type": "execute_result"
    }
   ],
   "source": [
    "df1[\"Price\"].value_counts() ## Before droping $ "
   ]
  },
  {
   "cell_type": "code",
   "execution_count": 37,
   "metadata": {},
   "outputs": [],
   "source": [
    "df1[\"Price\"] = [x.strip(\"$\") for x in df1[\"Price\"]]"
   ]
  },
  {
   "cell_type": "code",
   "execution_count": 38,
   "metadata": {},
   "outputs": [
    {
     "data": {
      "text/plain": [
       "0         8140\n",
       "0.99       143\n",
       "2.99       111\n",
       "1.99        66\n",
       "4.99        63\n",
       "          ... \n",
       "18.99        1\n",
       "389.99       1\n",
       "19.90        1\n",
       "1.75         1\n",
       "1.04         1\n",
       "Name: Price, Length: 87, dtype: int64"
      ]
     },
     "execution_count": 38,
     "metadata": {},
     "output_type": "execute_result"
    }
   ],
   "source": [
    "df1[\"Price\"].value_counts()  ## After droping $ "
   ]
  },
  {
   "cell_type": "markdown",
   "metadata": {},
   "source": [
    "### <font color='purple'><b>12. Drop the columns which you think redundant for the analysis.(suggestion: drop column 'rating', since we created a new feature from it (i.e. rating_category) and the columns 'App', 'Rating' ,'Genres','Last Updated','Current Ver','Android Ver' columns since which are redundant for our analysis)."
   ]
  },
  {
   "cell_type": "code",
   "execution_count": 39,
   "metadata": {},
   "outputs": [
    {
     "data": {
      "text/html": [
       "<div>\n",
       "<style scoped>\n",
       "    .dataframe tbody tr th:only-of-type {\n",
       "        vertical-align: middle;\n",
       "    }\n",
       "\n",
       "    .dataframe tbody tr th {\n",
       "        vertical-align: top;\n",
       "    }\n",
       "\n",
       "    .dataframe thead th {\n",
       "        text-align: right;\n",
       "    }\n",
       "</style>\n",
       "<table border=\"1\" class=\"dataframe\">\n",
       "  <thead>\n",
       "    <tr style=\"text-align: right;\">\n",
       "      <th></th>\n",
       "      <th>App</th>\n",
       "      <th>Category</th>\n",
       "      <th>Rating</th>\n",
       "      <th>Reviews</th>\n",
       "      <th>Size</th>\n",
       "      <th>Installs</th>\n",
       "      <th>Type</th>\n",
       "      <th>Price</th>\n",
       "      <th>Content Rating</th>\n",
       "      <th>Genres</th>\n",
       "      <th>Last Updated</th>\n",
       "      <th>Current Ver</th>\n",
       "      <th>Android Ver</th>\n",
       "      <th>Rating_category</th>\n",
       "    </tr>\n",
       "  </thead>\n",
       "  <tbody>\n",
       "    <tr>\n",
       "      <th>0</th>\n",
       "      <td>Photo Editor &amp; Candy Camera &amp; Grid &amp; ScrapBook</td>\n",
       "      <td>ART_AND_DESIGN</td>\n",
       "      <td>4.1</td>\n",
       "      <td>5.068904</td>\n",
       "      <td>19000000</td>\n",
       "      <td>10000</td>\n",
       "      <td>Free</td>\n",
       "      <td>0</td>\n",
       "      <td>Everyone</td>\n",
       "      <td>Art &amp; Design</td>\n",
       "      <td>January 7, 2018</td>\n",
       "      <td>1.0.0</td>\n",
       "      <td>4.0.3 and up</td>\n",
       "      <td>High</td>\n",
       "    </tr>\n",
       "    <tr>\n",
       "      <th>1</th>\n",
       "      <td>Coloring book moana</td>\n",
       "      <td>ART_AND_DESIGN</td>\n",
       "      <td>3.9</td>\n",
       "      <td>6.874198</td>\n",
       "      <td>14000000</td>\n",
       "      <td>500000</td>\n",
       "      <td>Free</td>\n",
       "      <td>0</td>\n",
       "      <td>Everyone</td>\n",
       "      <td>Art &amp; Design;Pretend Play</td>\n",
       "      <td>January 15, 2018</td>\n",
       "      <td>2.0.0</td>\n",
       "      <td>4.0.3 and up</td>\n",
       "      <td>High</td>\n",
       "    </tr>\n",
       "    <tr>\n",
       "      <th>2</th>\n",
       "      <td>U Launcher Lite – FREE Live Cool Themes, Hide ...</td>\n",
       "      <td>ART_AND_DESIGN</td>\n",
       "      <td>4.7</td>\n",
       "      <td>11.379508</td>\n",
       "      <td>8700000</td>\n",
       "      <td>5000000</td>\n",
       "      <td>Free</td>\n",
       "      <td>0</td>\n",
       "      <td>Everyone</td>\n",
       "      <td>Art &amp; Design</td>\n",
       "      <td>August 1, 2018</td>\n",
       "      <td>1.2.4</td>\n",
       "      <td>4.0.3 and up</td>\n",
       "      <td>High</td>\n",
       "    </tr>\n",
       "    <tr>\n",
       "      <th>3</th>\n",
       "      <td>Sketch - Draw &amp; Paint</td>\n",
       "      <td>ART_AND_DESIGN</td>\n",
       "      <td>4.5</td>\n",
       "      <td>12.281384</td>\n",
       "      <td>25000000</td>\n",
       "      <td>50000000</td>\n",
       "      <td>Free</td>\n",
       "      <td>0</td>\n",
       "      <td>Teen</td>\n",
       "      <td>Art &amp; Design</td>\n",
       "      <td>June 8, 2018</td>\n",
       "      <td>Varies with device</td>\n",
       "      <td>4.2 and up</td>\n",
       "      <td>High</td>\n",
       "    </tr>\n",
       "    <tr>\n",
       "      <th>4</th>\n",
       "      <td>Pixel Draw - Number Art Coloring Book</td>\n",
       "      <td>ART_AND_DESIGN</td>\n",
       "      <td>4.3</td>\n",
       "      <td>6.874198</td>\n",
       "      <td>2800000</td>\n",
       "      <td>100000</td>\n",
       "      <td>Free</td>\n",
       "      <td>0</td>\n",
       "      <td>Everyone</td>\n",
       "      <td>Art &amp; Design;Creativity</td>\n",
       "      <td>June 20, 2018</td>\n",
       "      <td>1.1</td>\n",
       "      <td>4.4 and up</td>\n",
       "      <td>High</td>\n",
       "    </tr>\n",
       "  </tbody>\n",
       "</table>\n",
       "</div>"
      ],
      "text/plain": [
       "                                                 App        Category  Rating  \\\n",
       "0     Photo Editor & Candy Camera & Grid & ScrapBook  ART_AND_DESIGN     4.1   \n",
       "1                                Coloring book moana  ART_AND_DESIGN     3.9   \n",
       "2  U Launcher Lite – FREE Live Cool Themes, Hide ...  ART_AND_DESIGN     4.7   \n",
       "3                              Sketch - Draw & Paint  ART_AND_DESIGN     4.5   \n",
       "4              Pixel Draw - Number Art Coloring Book  ART_AND_DESIGN     4.3   \n",
       "\n",
       "     Reviews      Size  Installs  Type Price Content Rating  \\\n",
       "0   5.068904  19000000     10000  Free     0       Everyone   \n",
       "1   6.874198  14000000    500000  Free     0       Everyone   \n",
       "2  11.379508   8700000   5000000  Free     0       Everyone   \n",
       "3  12.281384  25000000  50000000  Free     0           Teen   \n",
       "4   6.874198   2800000    100000  Free     0       Everyone   \n",
       "\n",
       "                      Genres      Last Updated         Current Ver  \\\n",
       "0               Art & Design   January 7, 2018               1.0.0   \n",
       "1  Art & Design;Pretend Play  January 15, 2018               2.0.0   \n",
       "2               Art & Design    August 1, 2018               1.2.4   \n",
       "3               Art & Design      June 8, 2018  Varies with device   \n",
       "4    Art & Design;Creativity     June 20, 2018                 1.1   \n",
       "\n",
       "    Android Ver Rating_category  \n",
       "0  4.0.3 and up            High  \n",
       "1  4.0.3 and up            High  \n",
       "2  4.0.3 and up            High  \n",
       "3    4.2 and up            High  \n",
       "4    4.4 and up            High  "
      ]
     },
     "execution_count": 39,
     "metadata": {},
     "output_type": "execute_result"
    }
   ],
   "source": [
    "df1.head()"
   ]
  },
  {
   "cell_type": "code",
   "execution_count": 40,
   "metadata": {},
   "outputs": [],
   "source": [
    "df1.drop(['App','Rating','Genres','Last Updated','Current Ver','Android Ver'],axis=1,inplace=True)"
   ]
  },
  {
   "cell_type": "code",
   "execution_count": 41,
   "metadata": {},
   "outputs": [
    {
     "data": {
      "text/html": [
       "<div>\n",
       "<style scoped>\n",
       "    .dataframe tbody tr th:only-of-type {\n",
       "        vertical-align: middle;\n",
       "    }\n",
       "\n",
       "    .dataframe tbody tr th {\n",
       "        vertical-align: top;\n",
       "    }\n",
       "\n",
       "    .dataframe thead th {\n",
       "        text-align: right;\n",
       "    }\n",
       "</style>\n",
       "<table border=\"1\" class=\"dataframe\">\n",
       "  <thead>\n",
       "    <tr style=\"text-align: right;\">\n",
       "      <th></th>\n",
       "      <th>Category</th>\n",
       "      <th>Reviews</th>\n",
       "      <th>Size</th>\n",
       "      <th>Installs</th>\n",
       "      <th>Type</th>\n",
       "      <th>Price</th>\n",
       "      <th>Content Rating</th>\n",
       "      <th>Rating_category</th>\n",
       "    </tr>\n",
       "  </thead>\n",
       "  <tbody>\n",
       "    <tr>\n",
       "      <th>0</th>\n",
       "      <td>ART_AND_DESIGN</td>\n",
       "      <td>5.068904</td>\n",
       "      <td>19000000</td>\n",
       "      <td>10000</td>\n",
       "      <td>Free</td>\n",
       "      <td>0</td>\n",
       "      <td>Everyone</td>\n",
       "      <td>High</td>\n",
       "    </tr>\n",
       "    <tr>\n",
       "      <th>1</th>\n",
       "      <td>ART_AND_DESIGN</td>\n",
       "      <td>6.874198</td>\n",
       "      <td>14000000</td>\n",
       "      <td>500000</td>\n",
       "      <td>Free</td>\n",
       "      <td>0</td>\n",
       "      <td>Everyone</td>\n",
       "      <td>High</td>\n",
       "    </tr>\n",
       "    <tr>\n",
       "      <th>2</th>\n",
       "      <td>ART_AND_DESIGN</td>\n",
       "      <td>11.379508</td>\n",
       "      <td>8700000</td>\n",
       "      <td>5000000</td>\n",
       "      <td>Free</td>\n",
       "      <td>0</td>\n",
       "      <td>Everyone</td>\n",
       "      <td>High</td>\n",
       "    </tr>\n",
       "    <tr>\n",
       "      <th>3</th>\n",
       "      <td>ART_AND_DESIGN</td>\n",
       "      <td>12.281384</td>\n",
       "      <td>25000000</td>\n",
       "      <td>50000000</td>\n",
       "      <td>Free</td>\n",
       "      <td>0</td>\n",
       "      <td>Teen</td>\n",
       "      <td>High</td>\n",
       "    </tr>\n",
       "    <tr>\n",
       "      <th>4</th>\n",
       "      <td>ART_AND_DESIGN</td>\n",
       "      <td>6.874198</td>\n",
       "      <td>2800000</td>\n",
       "      <td>100000</td>\n",
       "      <td>Free</td>\n",
       "      <td>0</td>\n",
       "      <td>Everyone</td>\n",
       "      <td>High</td>\n",
       "    </tr>\n",
       "    <tr>\n",
       "      <th>...</th>\n",
       "      <td>...</td>\n",
       "      <td>...</td>\n",
       "      <td>...</td>\n",
       "      <td>...</td>\n",
       "      <td>...</td>\n",
       "      <td>...</td>\n",
       "      <td>...</td>\n",
       "      <td>...</td>\n",
       "    </tr>\n",
       "    <tr>\n",
       "      <th>10835</th>\n",
       "      <td>BUSINESS</td>\n",
       "      <td>-inf</td>\n",
       "      <td>9600000</td>\n",
       "      <td>10</td>\n",
       "      <td>Free</td>\n",
       "      <td>0</td>\n",
       "      <td>Everyone</td>\n",
       "      <td>Low</td>\n",
       "    </tr>\n",
       "    <tr>\n",
       "      <th>10836</th>\n",
       "      <td>FAMILY</td>\n",
       "      <td>3.637586</td>\n",
       "      <td>53000000</td>\n",
       "      <td>5000</td>\n",
       "      <td>Free</td>\n",
       "      <td>0</td>\n",
       "      <td>Everyone</td>\n",
       "      <td>High</td>\n",
       "    </tr>\n",
       "    <tr>\n",
       "      <th>10837</th>\n",
       "      <td>FAMILY</td>\n",
       "      <td>1.386294</td>\n",
       "      <td>3600000</td>\n",
       "      <td>100</td>\n",
       "      <td>Free</td>\n",
       "      <td>0</td>\n",
       "      <td>Everyone</td>\n",
       "      <td>High</td>\n",
       "    </tr>\n",
       "    <tr>\n",
       "      <th>10838</th>\n",
       "      <td>MEDICAL</td>\n",
       "      <td>1.098612</td>\n",
       "      <td>9500000</td>\n",
       "      <td>1000</td>\n",
       "      <td>Free</td>\n",
       "      <td>0</td>\n",
       "      <td>Everyone</td>\n",
       "      <td>Low</td>\n",
       "    </tr>\n",
       "    <tr>\n",
       "      <th>10840</th>\n",
       "      <td>LIFESTYLE</td>\n",
       "      <td>12.894978</td>\n",
       "      <td>19000000</td>\n",
       "      <td>10000000</td>\n",
       "      <td>Free</td>\n",
       "      <td>0</td>\n",
       "      <td>Everyone</td>\n",
       "      <td>High</td>\n",
       "    </tr>\n",
       "  </tbody>\n",
       "</table>\n",
       "<p>8831 rows × 8 columns</p>\n",
       "</div>"
      ],
      "text/plain": [
       "             Category    Reviews      Size  Installs  Type Price  \\\n",
       "0      ART_AND_DESIGN   5.068904  19000000     10000  Free     0   \n",
       "1      ART_AND_DESIGN   6.874198  14000000    500000  Free     0   \n",
       "2      ART_AND_DESIGN  11.379508   8700000   5000000  Free     0   \n",
       "3      ART_AND_DESIGN  12.281384  25000000  50000000  Free     0   \n",
       "4      ART_AND_DESIGN   6.874198   2800000    100000  Free     0   \n",
       "...               ...        ...       ...       ...   ...   ...   \n",
       "10835        BUSINESS       -inf   9600000        10  Free     0   \n",
       "10836          FAMILY   3.637586  53000000      5000  Free     0   \n",
       "10837          FAMILY   1.386294   3600000       100  Free     0   \n",
       "10838         MEDICAL   1.098612   9500000      1000  Free     0   \n",
       "10840       LIFESTYLE  12.894978  19000000  10000000  Free     0   \n",
       "\n",
       "      Content Rating Rating_category  \n",
       "0           Everyone            High  \n",
       "1           Everyone            High  \n",
       "2           Everyone            High  \n",
       "3               Teen            High  \n",
       "4           Everyone            High  \n",
       "...              ...             ...  \n",
       "10835       Everyone             Low  \n",
       "10836       Everyone            High  \n",
       "10837       Everyone            High  \n",
       "10838       Everyone             Low  \n",
       "10840       Everyone            High  \n",
       "\n",
       "[8831 rows x 8 columns]"
      ]
     },
     "execution_count": 41,
     "metadata": {},
     "output_type": "execute_result"
    }
   ],
   "source": [
    "df1"
   ]
  },
  {
   "cell_type": "markdown",
   "metadata": {},
   "source": [
    "### <font color='purple'><b>13. Encode the categorical columns."
   ]
  },
  {
   "cell_type": "code",
   "execution_count": 42,
   "metadata": {},
   "outputs": [
    {
     "data": {
      "text/html": [
       "<div>\n",
       "<style scoped>\n",
       "    .dataframe tbody tr th:only-of-type {\n",
       "        vertical-align: middle;\n",
       "    }\n",
       "\n",
       "    .dataframe tbody tr th {\n",
       "        vertical-align: top;\n",
       "    }\n",
       "\n",
       "    .dataframe thead th {\n",
       "        text-align: right;\n",
       "    }\n",
       "</style>\n",
       "<table border=\"1\" class=\"dataframe\">\n",
       "  <thead>\n",
       "    <tr style=\"text-align: right;\">\n",
       "      <th></th>\n",
       "      <th>Category</th>\n",
       "      <th>Reviews</th>\n",
       "      <th>Size</th>\n",
       "      <th>Installs</th>\n",
       "      <th>Type</th>\n",
       "      <th>Price</th>\n",
       "      <th>Content Rating</th>\n",
       "      <th>Rating_category</th>\n",
       "    </tr>\n",
       "  </thead>\n",
       "  <tbody>\n",
       "    <tr>\n",
       "      <th>0</th>\n",
       "      <td>ART_AND_DESIGN</td>\n",
       "      <td>5.068904</td>\n",
       "      <td>19000000</td>\n",
       "      <td>10000</td>\n",
       "      <td>Free</td>\n",
       "      <td>0</td>\n",
       "      <td>Everyone</td>\n",
       "      <td>High</td>\n",
       "    </tr>\n",
       "    <tr>\n",
       "      <th>1</th>\n",
       "      <td>ART_AND_DESIGN</td>\n",
       "      <td>6.874198</td>\n",
       "      <td>14000000</td>\n",
       "      <td>500000</td>\n",
       "      <td>Free</td>\n",
       "      <td>0</td>\n",
       "      <td>Everyone</td>\n",
       "      <td>High</td>\n",
       "    </tr>\n",
       "    <tr>\n",
       "      <th>2</th>\n",
       "      <td>ART_AND_DESIGN</td>\n",
       "      <td>11.379508</td>\n",
       "      <td>8700000</td>\n",
       "      <td>5000000</td>\n",
       "      <td>Free</td>\n",
       "      <td>0</td>\n",
       "      <td>Everyone</td>\n",
       "      <td>High</td>\n",
       "    </tr>\n",
       "    <tr>\n",
       "      <th>3</th>\n",
       "      <td>ART_AND_DESIGN</td>\n",
       "      <td>12.281384</td>\n",
       "      <td>25000000</td>\n",
       "      <td>50000000</td>\n",
       "      <td>Free</td>\n",
       "      <td>0</td>\n",
       "      <td>Teen</td>\n",
       "      <td>High</td>\n",
       "    </tr>\n",
       "    <tr>\n",
       "      <th>4</th>\n",
       "      <td>ART_AND_DESIGN</td>\n",
       "      <td>6.874198</td>\n",
       "      <td>2800000</td>\n",
       "      <td>100000</td>\n",
       "      <td>Free</td>\n",
       "      <td>0</td>\n",
       "      <td>Everyone</td>\n",
       "      <td>High</td>\n",
       "    </tr>\n",
       "    <tr>\n",
       "      <th>...</th>\n",
       "      <td>...</td>\n",
       "      <td>...</td>\n",
       "      <td>...</td>\n",
       "      <td>...</td>\n",
       "      <td>...</td>\n",
       "      <td>...</td>\n",
       "      <td>...</td>\n",
       "      <td>...</td>\n",
       "    </tr>\n",
       "    <tr>\n",
       "      <th>10835</th>\n",
       "      <td>BUSINESS</td>\n",
       "      <td>-inf</td>\n",
       "      <td>9600000</td>\n",
       "      <td>10</td>\n",
       "      <td>Free</td>\n",
       "      <td>0</td>\n",
       "      <td>Everyone</td>\n",
       "      <td>Low</td>\n",
       "    </tr>\n",
       "    <tr>\n",
       "      <th>10836</th>\n",
       "      <td>FAMILY</td>\n",
       "      <td>3.637586</td>\n",
       "      <td>53000000</td>\n",
       "      <td>5000</td>\n",
       "      <td>Free</td>\n",
       "      <td>0</td>\n",
       "      <td>Everyone</td>\n",
       "      <td>High</td>\n",
       "    </tr>\n",
       "    <tr>\n",
       "      <th>10837</th>\n",
       "      <td>FAMILY</td>\n",
       "      <td>1.386294</td>\n",
       "      <td>3600000</td>\n",
       "      <td>100</td>\n",
       "      <td>Free</td>\n",
       "      <td>0</td>\n",
       "      <td>Everyone</td>\n",
       "      <td>High</td>\n",
       "    </tr>\n",
       "    <tr>\n",
       "      <th>10838</th>\n",
       "      <td>MEDICAL</td>\n",
       "      <td>1.098612</td>\n",
       "      <td>9500000</td>\n",
       "      <td>1000</td>\n",
       "      <td>Free</td>\n",
       "      <td>0</td>\n",
       "      <td>Everyone</td>\n",
       "      <td>Low</td>\n",
       "    </tr>\n",
       "    <tr>\n",
       "      <th>10840</th>\n",
       "      <td>LIFESTYLE</td>\n",
       "      <td>12.894978</td>\n",
       "      <td>19000000</td>\n",
       "      <td>10000000</td>\n",
       "      <td>Free</td>\n",
       "      <td>0</td>\n",
       "      <td>Everyone</td>\n",
       "      <td>High</td>\n",
       "    </tr>\n",
       "  </tbody>\n",
       "</table>\n",
       "<p>8831 rows × 8 columns</p>\n",
       "</div>"
      ],
      "text/plain": [
       "             Category    Reviews      Size  Installs  Type Price  \\\n",
       "0      ART_AND_DESIGN   5.068904  19000000     10000  Free     0   \n",
       "1      ART_AND_DESIGN   6.874198  14000000    500000  Free     0   \n",
       "2      ART_AND_DESIGN  11.379508   8700000   5000000  Free     0   \n",
       "3      ART_AND_DESIGN  12.281384  25000000  50000000  Free     0   \n",
       "4      ART_AND_DESIGN   6.874198   2800000    100000  Free     0   \n",
       "...               ...        ...       ...       ...   ...   ...   \n",
       "10835        BUSINESS       -inf   9600000        10  Free     0   \n",
       "10836          FAMILY   3.637586  53000000      5000  Free     0   \n",
       "10837          FAMILY   1.386294   3600000       100  Free     0   \n",
       "10838         MEDICAL   1.098612   9500000      1000  Free     0   \n",
       "10840       LIFESTYLE  12.894978  19000000  10000000  Free     0   \n",
       "\n",
       "      Content Rating Rating_category  \n",
       "0           Everyone            High  \n",
       "1           Everyone            High  \n",
       "2           Everyone            High  \n",
       "3               Teen            High  \n",
       "4           Everyone            High  \n",
       "...              ...             ...  \n",
       "10835       Everyone             Low  \n",
       "10836       Everyone            High  \n",
       "10837       Everyone            High  \n",
       "10838       Everyone             Low  \n",
       "10840       Everyone            High  \n",
       "\n",
       "[8831 rows x 8 columns]"
      ]
     },
     "execution_count": 42,
     "metadata": {},
     "output_type": "execute_result"
    }
   ],
   "source": [
    "df1"
   ]
  },
  {
   "cell_type": "code",
   "execution_count": 43,
   "metadata": {},
   "outputs": [],
   "source": [
    "## Before Encode we can note _____\n",
    "## There is some inf values obtained in Reviews column\n",
    "## We can remove that immediately or replace with 0."
   ]
  },
  {
   "cell_type": "code",
   "execution_count": 44,
   "metadata": {
    "scrolled": true
   },
   "outputs": [
    {
     "name": "stdout",
     "output_type": "stream",
     "text": [
      "[-inf, 0.0, 0.6931471805599453, 1.0986122886681098, 1.3862943611198906, 1.6094379124341003, 1.791759469228055, 1.9459101490553132, 2.0794415416798357, 2.1972245773362196, 2.302585092994046, 2.4849066497880004, 2.3978952727983707, 2.5649493574615367, 2.833213344056216, 2.9444389791664403, 2.6390573296152584, 2.772588722239781, 2.995732273553991, 3.044522437723423, 2.70805020110221, 3.2188758248682006, 3.1780538303479458, 3.6375861597263857, 3.4011973816621555, 2.8903717578961645, 3.091042453358316, 3.295836866004329, 3.1354942159291497, 3.4965075614664802, 3.332204510175204, 3.713572066704308, 3.258096538021482, 3.4657359027997265, 3.367295829986474, 3.4339872044851463, 3.6635616461296463, 3.6109179126442243, 3.8066624897703196, 3.9889840465642745, 3.871201010907891, 3.5553480614894135, 3.58351893845611, 3.784189633918261, 3.6888794541139363, 3.7612001156935624, 3.970291913552122, 4.1588830833596715, 3.9512437185814275, 4.204692619390966, 3.5263605246161616, 4.007333185232471, 4.23410650459726, 4.477336814478207, 3.7376696182833684, 3.8501476017100584, 4.356708826689592, 4.736198448394496, 4.189654742026425, 4.174387269895637, 4.0943445622221, 3.828641396489095, 3.8918202981106265, 4.465908118654584, 4.04305126783455, 4.418840607796598, 3.9318256327243257, 4.31748811353631, 4.442651256490317, 4.248495242049359, 4.875197323201151, 4.060443010546419, 4.605170185988092, 4.143134726391533, 4.51085950651685, 5.123963979403259, 4.8283137373023015, 4.820281565605037, 4.02535169073515, 4.330733340286331, 4.07753744390572, 4.382026634673881, 4.574710978503383, 5.0689042022202315, 4.2626798770413155, 4.127134385045092, 4.762173934797756, 4.852030263919617, 4.890349128221754, 4.564348191467836, 4.406719247264253, 4.787491742782046, 5.075173815233827, 5.365976015021851, 4.110873864173311, 4.48863636973214, 4.454347296253507, 4.844187086458591, 5.945420608606575, 4.836281906951478, 4.532599493153256, 5.53338948872752, 4.430816798843313, 3.912023005428146, 4.983606621708336, 4.653960350157523, 4.6443908991413725, 4.955827057601261, 5.752572638825633, 5.093750200806762, 4.219507705176107, 5.2832037287379885, 4.867534450455582, 5.159055299214529, 4.976733742420574, 5.749392985908253, 5.099866427824199, 4.969813299576001, 4.290459441148391, 5.247024072160486, 5.288267030694535, 5.579729825986222, 5.384495062789089, 4.343805421853684, 4.718498871295094, 4.672828834461906, 5.278114659230517, 5.204006687076795, 4.6913478822291435, 5.111987788356544, 4.74493212836325, 4.276666119016055, 5.545177444479562, 4.812184355372417, 4.927253685157205, 5.71042701737487, 6.240275845170769, 6.131226489483141, 4.499809670330265, 5.1298987149230735, 5.0369526024136295, 6.278521424165844, 4.5217885770490405, 5.087596335232384, 5.043425116919247, 4.770684624465665, 4.59511985013459, 4.634728988229636, 5.351858133476067, 5.3612921657094255, 4.962844630259907, 5.4638318050256105, 4.30406509320417, 5.220355825078324, 4.77912349311153, 4.859812404361672, 6.434546518787453, 5.1647859739235145, 5.616771097666572, 4.61512051684126, 4.948759890378168, 7.160845906664299, 5.645446897643238, 6.212606095751519, 5.2574953720277815, 6.206575926724928, 6.60934924316738, 6.023447592961033, 6.156978985585555, 5.25227342804663, 8.18757739559151, 6.493753839851686, 6.327936783729195, 6.748759547491679, 5.541263545158426, 5.293304824724492, 4.394449154672439, 5.181783550292085, 5.666426688112432, 5.402677381872279, 4.700480365792417, 5.337538079701318, 4.795790545596741, 5.3981627015177525, 4.7535901911063645, 4.553876891600541, 6.663132695990803, 4.3694478524670215, 5.424950017481403, 5.327876168789581, 4.624972813284271, 6.139884552226255, 4.709530201312334, 5.062595033026967, 5.14166355650266, 5.308267697401205, 5.521460917862246, 5.517452896464707, 5.765191102784844, 5.5093883366279774, 6.874198495453294, 5.652489180268651, 4.663439094112067, 5.497168225293202, 5.3230099791384085, 4.897839799950911, 5.673323267171493, 5.676753802268282, 5.231108616854587, 5.683579767338681, 6.129050210060545, 4.882801922586371, 5.19295685089021, 4.90527477843843, 6.198478716492308, 6.561030665896573, 5.049856007249537, 5.303304908059076, 4.584967478670572, 5.8805329864007, 7.389563953677635, 5.713732805509369, 6.486160788944089, 6.35088571671474, 5.3471075307174685, 6.5337888379333435, 6.523562306149512, 6.39024066706535, 5.755742213586912, 5.209486152841421, 7.077498053569231, 5.777652323222656, 5.187385805840755, 6.016157159698354, 6.061456918928017, 4.990432586778736, 5.356586274672012, 5.7745515455444085, 5.484796933490655, 5.375278407684165, 5.820082930352362, 6.827629234502852, 5.003946305945459, 6.601230118728877, 5.0106352940962555, 5.3706380281276624, 9.286004275897172, 5.5909869805108565, 5.5254529391317835, 6.030685260261263, 5.746203190540153, 6.313548046277095, 5.5053315359323625, 5.332718793265369, 5.472270673671475, 5.720311776607412, 5.488937726156687, 4.919980925828125, 7.1853870155804165, 7.858640655620791, 5.707110264748875, 6.452048954437226, 6.47543271670409, 7.681099001536359, 4.804021044733257, 5.529429087511423, 5.568344503761097, 7.628031126930335, 5.4680601411351315, 6.326149473155099, 6.1903154058531475, 5.236441962829949, 6.437751649736401, 5.420534999272286, 6.104793232414985, 8.155936337972394, 5.198497031265826, 5.978885764901122, 6.755768921984255, 6.073044534100405, 5.0238805208462765, 9.064389316491878, 6.210600077024653, 5.318119993844216, 5.723585101952381, 5.342334251964811, 8.107720061910534, 6.118097198041348, 6.320768294250582, 7.1049654482698426, 5.627621113690637, 5.857933154483459, 6.833031732786201, 8.854522203757432, 5.659482215759621, 4.543294782270004, 5.733341276897746, 6.0867747269123065, 7.258412150595307, 7.119635638017636, 7.10085190894405, 5.58724865840025, 4.9344739331306915, 6.606650186198215, 5.54907608489522, 5.631211781821365, 5.68697535633982, 5.117993812416755, 5.214935757608986, 6.1092475827643655, 5.8971538676367405, 6.970730078143525, 5.407171771460119, 6.398594934535208, 5.905361848054571, 5.313205979041787, 6.280395838960195, 5.730099782973574, 6.082218910376446, 5.170483995038151, 6.483107351457199, 6.646390514847729, 6.68586094706836, 6.901737206656574, 6.79346613258001, 7.686162303492906, 8.236420527265391, 6.4457198193855785, 5.808142489980444, 8.39728289474368, 7.21081845347222, 6.267200548541362, 6.448889394146858, 7.395107546562485, 5.60947179518496, 5.594711379601839, 6.586171654854675, 6.385194398997726, 8.238008249218403, 6.0844994130751715, 6.113682179832232, 8.344505083590521, 6.246106765481563, 5.176149732573829, 5.988961416889864, 7.257707677160043, 9.864226838582825, 8.154212694914229, 6.095824562432225, 6.4967749901858625, 5.44673737166631, 8.09040229659332, 6.594413459749778, 5.272999558563747, 7.796057974316123, 7.717796211013582, 10.647304082870662, 6.22455842927536, 5.817111159963204, 9.577203242302405, 5.537334267018537, 6.826545223556594, 6.311734809152915, 6.297109319933935, 5.560681631015528, 5.6937321388027, 8.263074835802596, 6.028278520230698, 5.442417710521793, 6.248042874508429, 8.081475040137052, 7.580699752224563, 7.247792581767846, 5.62040086571715, 7.855544677915663, 5.8944028342648505, 8.255048902752295, 6.338594078203183, 7.121252453244542, 5.5134287461649825, 6.922643891475888, 6.018593214496234, 7.415175109613295, 7.1929342212158, 6.244166900663736, 8.93022956502072, 7.297091005160418, 10.299104324589479, 10.24533815691556, 7.298445101508147, 6.668228248417403, 6.455198563340122, 9.997842731017274, 7.80057265467065, 7.217443431696533, 6.714170529909472, 7.186901020411631, 7.878155336503324, 9.323669057283185, 5.855071922202427, 9.20552881497896, 6.759255270663693, 6.90975328164481, 7.754481547470383, 8.442900586834382, 5.081404364984463, 4.912654885736052, 15.308394429218799, 6.876264611890766, 9.439227397917458, 6.682108597449809, 7.1308988302963465, 6.687108607866515, 6.8308742346461795, 7.249215057114389, 10.498332581805693, 8.012018239159062, 10.386068010861816, 7.841099765422119, 6.3080984415095305, 9.226115291091546, 6.09807428216624, 8.24354550792826, 7.588829878307813, 6.546785410760524, 6.593044534142437, 9.73002662417437, 5.84354441703136, 9.008835995765454, 13.933682851183434, 11.877846317762812, 7.029972911706386, 6.467698726104354, 7.038783541388542, 10.05586523295701, 7.482681828154651, 6.621405651764134, 6.38856140554563, 5.700443573390687, 5.7899601708972535, 6.423246963533519, 6.480044561926653, 5.389071729816501, 5.267858159063328, 5.783825182329737, 5.831882477283517, 9.207436158828793, 5.655991810819852, 5.82600010738045, 6.855408798609928, 8.108623268354595, 6.186208623900494, 6.9782137426306985, 7.1785454837637, 6.021023349349527, 7.791109510610028, 6.726233402358747, 6.124683390894205, 6.504288173536645, 8.94884572927805, 11.16906802474211, 6.881411303642535, 7.282761179605593, 5.37989735354046, 5.225746673713202, 8.276394704863307, 5.991464547107982, 6.152732694704104, 6.558197802812269, 6.322565239927284, 6.035481432524756, 8.427049641563272, 6.919683849847411, 10.791687404243758, 5.768320995793772, 8.601901919343192, 7.894690850425624, 10.436436637789742, 7.591357046698551, 7.354362330421477, 10.648871332431582, 11.911332389266486, 7.001245622069476, 6.056784013228625, 7.256297239690681, 10.771511983000792, 6.587550014824796, 9.25339986143663, 6.679599185844383, 6.529418838262226, 9.311632623458054, 7.893945138235959, 7.561121589530238, 6.693323668269949, 6.289715570908998, 8.246958032568177, 5.921578419643816, 5.802118375377063, 6.664409020350408, 6.115892125483034, 7.59337419312129, 6.78105762593618, 6.795705775173514, 6.343880434126331, 6.866933284461882, 7.975908360165538, 7.430114138561801, 7.7306140660637395, 9.07371849443322, 8.197538739721184, 8.737292112544221, 7.044905117129371, 6.992096427415888, 5.680172609017068, 5.8289456176102075, 6.484635235635252, 11.143686205266109, 5.241747015059643, 8.239593454305968, 5.771441123130016, 7.646831391430482, 6.2766434893416445, 6.169610732491456, 7.326465613840322, 7.796880342783522, 8.204124932574041, 6.860663671448287, 6.2324480165505225, 7.458186157340487, 6.80903930604298, 6.654152520183219, 6.192362489474872, 8.630343289348893, 6.342121418721152, 6.803505257608338, 7.67693714581808, 7.271703706887368, 6.490723534502507, 6.318968113746434, 5.924255797414532, 5.438079308923196, 6.690842277418564, 7.791522819150732, 7.633853559681768, 7.707512194600341, 7.411556287811163, 7.981049759665957, 8.839711378703475, 7.598399329323964, 8.533853632309345, 5.556828061699537, 6.295266001439646, 5.986452005284438, 11.03973275601109, 8.58839695042257, 6.8501261661455, 5.648974238161206, 9.081142433504501, 6.871091294610546, 8.11552088154677, 6.424869023905388, 6.3784261836515865, 6.736966958001855, 6.870053411798126, 11.066419588412538, 7.334981878871814, 9.795623906660182, 6.173786103901937, 8.415824697027949, 5.605802066295998, 5.6240175061873385, 5.602118820879701, 4.68213122712422, 6.747586526829315, 5.811140992976701, 7.246368080102461, 6.71174039505618, 7.392031567514591, 5.8377304471659395, 6.366470447731438, 9.345046074828474, 5.717027701406222, 6.0473721790462776, 7.413970290190444, 11.203733709030566, 7.061334366910438, 6.88653164253051, 6.892641641172089, 11.807108857964343, 7.323830566202317, 7.1569563646156364, 5.66988092298052, 6.57507584059962, 6.790097235513905, 8.815221555922163, 11.133215819061775, 6.752270376141742, 7.103322062526113, 6.966024187106113, 6.464588303689961, 8.130353547431238, 7.4127640174265625, 6.774223886357614, 6.82001636467413, 6.7226297948554485, 6.948897222313312, 8.383433201236713, 8.016977746762262, 5.480638923341991, 6.2422232654551655, 5.8664680569332965, 6.914730892718563, 7.7057128238944275, 4.727387818712341, 6.678342114654332, 5.955837369464831, 7.635786861395585, 8.193400231952097, 6.499787040655854, 5.910796644040527, 5.8522024797744745, 7.81156848934518, 7.496652438168283, 9.578657284448841, 11.102261868103218, 6.3818160174060985, 8.914760527397261, 10.284318379685931, 11.762648627859642, 12.234805864353046, 10.4954598897216, 8.712595487748722, 11.769643047664536, 12.0281772786891, 8.04012466444838, 6.7650389767805414, 12.483352047338567, 9.029178142902074, 7.639642287858013, 9.283404942833188, 11.551270795087555, 9.17076759685636, 11.557430269612567, 8.157943507105037, 15.054617853583371, 8.638348312972704, 7.59488438721652, 10.11759035919819, 6.890609120147166, 8.115819701211327, 7.261225091971921, 12.04155760748558, 6.161207321695077, 7.052721049232323, 5.147494476813453, 12.46896369429937, 7.404887575616125, 10.790246481804246, 8.911934336161426, 8.528133131454572, 8.199738960630786, 7.506042178518122, 10.253792249467017, 8.410943391573527, 5.641907070938114, 14.288102085710197, 6.29156913955832, 12.559524902186071, 13.09030701886397, 5.262690188904886, 9.243871855184976, 8.951310542097564, 7.365180126021013, 13.230193042202924, 10.476696251133417, 6.3578422665081, 7.832014180505469, 7.911324018963353, 8.917444732471514, 11.830484250289663, 10.27718675788064, 6.51471269087253, 6.182084906716632, 13.23497216078697, 9.313528529772352, 12.629269610918483, 9.751501195538246, 9.950991175180095, 8.300776960851454, 7.396335293800808, 8.374246182096304, 11.722448679189329, 8.10832229017324, 10.155257432638662, 11.998617879097221, 9.005159521036145, 10.59109441383156, 12.447126839387204, 9.744902053418757, 7.827639546366422, 11.097909896050213, 6.102558594613569, 10.302196556147285, 7.307202314764738, 6.975413927455952, 6.3835066348840055, 6.008813185442595, 7.340835554123275, 6.059123195581797, 8.254528881939745, 6.137727054086234, 7.939515260662406, 7.522400231387125, 8.028129059431759, 6.731018100482083, 7.698936199813447, 12.069857655276449, 8.524168805152662, 8.755264763314685, 10.271320019170737, 10.574107898514463, 9.253974408996244, 9.199784858036667, 13.36005499062068, 8.575462099540212, 9.668144893764921, 11.051778499434786, 11.395278670032656, 7.6093665379542115, 6.517671272912275, 8.422003004412488, 8.20166019080868, 6.739336627357174, 9.665547571979161, 9.038127549330516, 11.868450748302388, 12.527587142268393, 7.638198244285779, 12.397089620691352, 8.870382066070137, 7.37650812632622, 8.388450315523512, 9.96114306502429, 12.496418666518114, 9.15302900526307, 10.182103652974162, 11.084386183891462, 11.246456788917644, 10.898404604865473, 9.908524844053396, 10.263257701382162, 6.536691597591305, 6.828712071641684, 11.53039203246886, 10.369828231362574, 10.468460394372565, 11.304904488926127, 14.964969307871538, 6.466144724237619, 6.335054251498059, 8.373322820996535, 12.160196232262647, 11.062959729461, 6.642486801367256, 12.930582825032259, 9.455949668006056, 7.857867559331803, 6.899723107284872, 10.108752224963046, 9.682903223616842, 12.495861247689486, 10.928148267076118, 14.214771124316925, 10.06364870466007, 9.41678527366734, 8.185350223178686, 7.153833801578843, 7.7102051944325325, 10.011893426379915, 10.44228820075763, 8.649273531773446, 12.119113994423238, 8.609042845046117, 6.645090969505644, 10.7244121030379, 11.628243242150274, 9.395491255780296, 9.019664010799474, 7.589335823170617, 11.04389735974617, 7.22983877815125, 10.900823566261407, 10.636456227282745, 11.339928300596592, 10.726741518441289, 9.892628809201252, 9.21094019204815, 12.41594856984348, 7.908019444632471, 6.304448802421981, 5.796057750765372, 7.951207156472972, 7.6246189861593985, 10.128030124764045, 10.978728854880998, 7.226936018493289, 9.4776156346503, 11.865749001752796, 10.55706195797625, 10.033726029459856, 11.360729540030817, 10.840893775014358, 9.473089177882752, 5.981414211254481, 10.638088527988433, 11.840349749186634, 11.425677696405948, 8.944289319650697, 10.16400395691514, 10.854971667978388, 9.106756055719613, 9.039907859574642, 11.796539273246056, 5.459585514144159, 5.135798437050262, 8.897545598709327, 7.325148957955575, 7.917900586327916, 8.372398606513004, 9.351318965235755, 9.205327830152639, 6.951772164398911, 7.4067107301776405, 9.490393417263473, 7.43307534889858, 8.614138397472717, 7.8628820346414905, 14.175147411115946, 10.866471012402265, 15.25501079581951, 12.57361086979349, 10.710610530409502, 10.286366161971497, 10.308619271743055, 12.762718312734942, 7.649216319820633, 6.92951677076365, 8.31238059678675, 11.948072345105121, 9.426580146973597, 10.846731753970541, 7.664815785285735, 6.71901315438526, 12.213177347260105, 6.042632833682381, 11.081880976209089, 9.863290362784715, 10.361576735816833, 12.321180996292764, 8.85366542803745, 8.605753368395717, 9.798015919593894, 9.988976938551543, 7.176254532017144, 8.420241665339788, 6.257667587882639, 10.171145473156981, 10.774299631131253, 10.84978358889661, 8.776012719182917, 6.915723448631314, 12.176726220734944, 7.433666540166168, 7.04141166379481, 8.141189793457691, 8.5016733797582, 13.693554201104513, 11.643523810414173, 13.397092420412298, 8.497194544909547, 8.512582578858554, 9.2299469016151, 14.046402413489185, 7.904703913873747, 8.12533508671429, 10.427712996365136, 10.255797985839772, 7.2875606403097235, 9.038246335337664, 8.344029572407049, 5.872117789475416, 7.550135342488429, 8.711607995897575, 7.183870715062453, 6.75110146893676, 9.186559843310778, 6.432940092739179, 8.333270353255308, 7.538494999413465, 5.793013608384144, 9.010058489805235, 9.916403777802675, 7.839525581704678, 6.816735880594968, 6.391917113392602, 10.424095176156737, 10.753659849198824, 15.53678550803766, 14.17489472863178, 13.970069440179886, 7.868636894184167, 7.02108396428914, 11.382064788520513, 8.296546520300614, 12.111547657382182, 12.23521388487631, 12.740323737935217, 10.307084249584264, 12.264657541460593, 11.9556478214341, 12.563180495751459, 12.74950968910951, 11.55862514422122, 8.318498320504338, 8.459987717645458, 6.2166061010848646, 10.466554521147781, 7.803026643632217, 12.850615019740864, 10.188704088048116, 6.025865973825314, 11.136980323398056, 13.170137787775257, 8.753529336516431, 6.862757913051401, 7.292337176173877, 7.633369649679584, 10.194065428099934, 10.63938287140979, 9.863758710307131, 13.382232223210627, 9.566825297862628, 9.619598278323043, 10.788308256940795, 14.081305086190266, 7.062191632286556, 12.409437889252477, 13.761598046947972, 8.620832226175724, 9.495820020872763, 9.20693457884135, 11.161024820191797, 9.348361669873558, 7.546974117516527, 6.741700694652055, 9.885323581908457, 9.659184203386292, 7.257002707092073, 8.216898580913613, 7.935229539816907, 7.175489713624222, 7.563200592358071, 6.07993319509559, 9.944101525421383, 9.32250766884693, 8.003697339094368, 10.521965064759044, 10.006359975456757, 8.297792626380861, 6.548219102762372, 6.923628628138427, 7.550661243105336, 9.936680519891892, 8.517992871586802, 10.850675995738127, 10.55312684311914, 11.979159498208094, 13.562848078613534, 13.616686378863204, 14.033052046988223, 11.108559752305364, 8.962904128092928, 9.029657471850737, 12.069238662495462, 5.056245805348308, 7.721348612617949, 11.115220171473505, 7.63433723562832, 9.019058793810718, 9.01322999770879, 8.028781162487148, 9.507923269105227, 10.230955082489231, 10.241030644158833, 11.234784398685603, 7.005789019253503, 9.989848718184172, 9.937454102099402, 11.777494988373515, 8.676757761087575, 11.740682358438397, 5.030437921392435, 13.770109344807848, 13.299049082579653, 9.518119146127086, 10.094025264101424, 10.114437057749631, 9.052164937010307, 9.626943224494804, 10.293500556085371, 11.061924142849904, 12.514189498368436, 7.542213463193403, 12.441599209889711, 10.92541676143327, 12.859964312331304, 12.334470257826283, 11.145897108952004, 9.342070142654077, 15.171797156074815, 8.270781013162674, 7.652070746116482, 14.774986441901085, 14.784243823597365, 13.628883345122537, 12.19164912486445, 7.771067086065406, 15.16264248423267, 8.693999567522082, 14.01276588222591, 6.675823221634848, 10.221977646629885, 11.182043573212228, 9.328834266023971, 10.558854981259193, 12.342912932720015, 12.54770298480901, 13.939440882486293, 13.489289992927164, 14.220619602689395, 15.247816225803161, 12.563096528582571, 12.769301897035431, 9.737196812814702, 11.223134503708133, 10.73358838809481, 15.460408274035277, 8.394121193826242, 12.868652365323555, 11.483197948497239, 7.675546002537848, 13.657094962968658, 8.68169016329764, 11.472395094590187, 12.596187201133395, 11.708590927855763, 13.88784610315407, 12.815705056111618, 7.594381242551817, 13.38490301110912, 6.405228458030842, 10.632098397371642, 6.003887067106539, 8.288031567776464, 9.831131890343988, 9.465447598495786, 5.4116460518550396, 8.087025470667701, 8.008032846969307, 8.120291313968561, 9.20170317858052, 7.480992162869525, 9.839002363309719, 10.136304168546024, 10.87193420662744, 9.070618428801046, 9.275378768155404, 6.906754778648554, 7.229113877793302, 8.743053050224676, 10.526802223497393, 5.75890177387728, 10.619716292539394, 10.286400256173781, 7.349230824613334, 7.510977752014095, 7.202661196523238, 9.912348180968324, 9.927008747577474, 10.299171648789187, 10.58392936059852, 7.682943169878292, 10.309019325088835, 8.568266461600238, 10.639670275909648, 9.813398717754442, 9.078978053779355, 12.513263184369997, 6.980075940561763, 9.581283046045924, 8.47345026846832, 10.657941475156765, 8.181440695719374, 10.304074113193185, 8.0925452638913, 5.996452088619021, 8.96392819372262, 6.013715156042802, 5.8916442118257715, 8.02059914989697, 5.948034989180646, 6.947937068614969, 5.932245187448011, 6.602587892189336, 8.85666093701725, 10.055822298839407, 11.646931744817962, 11.10455112915993, 7.27931883541462, 7.168579897264035, 5.805134968916488, 9.160519676992227, 8.538367426647644, 9.129238770539141, 7.368970402194793, 11.70447927307776, 14.633122402304314, 8.561592778712923, 8.682368589375221, 7.4821189235521155, 11.121525970686776, 10.815569439636228, 11.83594331011086, 8.772455372611907, 9.797460147890598, 7.479299637782834, 9.043695294567236, 9.846917201047734, 9.99620346103587, 7.291656209174461, 10.300786071311231, 6.963189985870238, 9.258177701390343, 9.717157974344635, 8.79497643168877, 5.91350300563827, 12.361314158753718, 12.025066223567178, 11.447191562982905, 15.109899312138928, 11.33829823080897, 7.893572073504902, 8.106212902619962, 7.469654172932128, 7.071573364211532, 5.501258210544727, 8.536407410340042, 6.568077911411976, 10.107122033462112, 9.980078154697841, 10.03341872212816, 7.67786350067821, 8.552174160311482, 13.114272736255824, 8.903407519932264, 15.306931982494135, 7.047517221357296, 7.524021415206125, 8.758883680017025, 8.645058562414134, 8.947285869349132, 10.840913356940241, 7.4360278163518485, 15.866442793988313, 9.327589932026422, 9.562685957753686, 9.428270356237505, 10.880760489345077, 13.787701444124835, 13.049577607678676, 9.622251327567737, 11.897595853821688, 10.021403912637746, 14.223335546030729, 8.663023639627777, 9.687257547490987, 14.841471505384263, 12.071552192518071, 11.143527062898457, 10.56116298378782, 7.506591780070841, 6.148468295917647, 10.355613575443341, 9.341719450032562, 9.28785681440401, 13.93858269275426, 7.343426229147367, 13.903618500173108, 10.611941977163221, 8.657650544111494, 10.897905312186381, 10.534333706898694, 7.562681246721884, 12.034613874462925, 9.924172143728962, 10.974488807496055, 8.345217926676428, 9.404837504700271, 12.782228039813365, 8.428361977709622, 9.999615579630348, 8.492490578775866, 8.596743470174246, 11.05401211065386, 10.39246626087211, 7.446585099157725, 10.094521049932105, 9.452187908084165, 6.373319789577012, 8.140898460607852, 9.282474969735382, 7.38770923908104, 9.831561812964539, 11.46247392147413, 11.532306434753922, 9.402694764470512, 12.771661984800115, 8.477620416296414, 11.601513099013726, 12.168770490766189, 12.112327740044577, 9.733647773244229, 7.655864017616056, 8.71948076085107, 12.018072998851524, 8.173575486634153, 12.9730347195862, 16.105969728220447, 8.363575702750637, 7.782807262839695, 9.675582684120208, 8.096512917501594, 6.805722553416985, 6.386879319362645, 7.927324360309794, 7.599401333415815, 7.807916628926408, 7.463936604468925, 7.418780882750794, 14.2257675002085, 7.669495251007694, 14.679051356119368, 11.828786747687317, 7.802618063442671, 6.580639137284949, 9.057305735807121, 11.272495867112498, 11.060997482451723, 12.405083327568489, 13.48795742759756, 11.343192340336573, 11.832803635638326, 6.8001700683022, 10.018377518410084, 12.64091530968232, 12.877293695756423, 10.265871170941843, 13.271059206548623, 14.019686557209909, 9.855871698594465, 9.915761913411517, 7.379008127628304, 10.346055748595795, 8.286773231131251, 6.150602768446279, 10.134400841114699, 9.173261363734762, 9.812084729062784, 7.049254841255837, 10.498691088765947, 9.946499148129375, 11.242952326299221, 10.084391438242461, 6.8679744089702925, 11.741271460075462, 9.339524830357009, 12.399672034495675, 12.296283482119337, 11.871208115855291, 9.684273769557766, 12.72601458909244, 8.555451903533328, 11.428837084587942, 14.138770176827597, 11.43520173305942, 10.72260637265801, 12.886240963861919, 13.823490632304495, 7.274479558773871, 11.90552820636145, 10.36078580928431, 13.30297513999956, 11.069197584736731, 11.246561211201454, 11.993108359257741, 6.52795791762255, 8.714403360703942, 9.307285578032662, 6.516193076042964, 9.485393028027822, 10.567360390392079, 8.22764270790443, 11.770733210407759, 10.028665401264357, 9.221675881639928, 8.456168489578463, 8.958540111412168, 10.621327345686446, 7.6290038896529575, 12.74921927256302, 12.463490079196395, 6.498282149476434, 8.952605375892354, 7.687080155783135, 10.989065258933778, 9.690418086793393, 8.80956425335415, 9.964864832211031, 8.304247465078474, 7.897668150726906, 10.23480366200797, 9.118882761487347, 11.353671786967066, 9.712387577930592, 11.425917724337623, 7.510430556378006, 13.182656650213097, 6.635946555686647, 10.069383274248214, 10.09872533459663, 6.773080375655535, 10.290856576374884, 11.977055629140507, 14.058749242810151, 7.2682230211595655, 6.55250788703459, 9.257128533474942, 13.973062019999524, 14.770475315123587, 13.261636504676675, 10.090921021216259, 7.907283609426348, 12.369406742688493, 7.873978379604501, 13.601270998201935, 13.081974622355633, 10.304509470946918, 13.017031750218116, 12.33767092088692, 9.373564053078196, 13.677314588812765, 12.918502710500224, 11.680852245646507, 12.845937713208247, 7.801800401908973, 11.083971644293158, 10.460184799958176, 13.698330465501106, 13.856495099273085, 9.795066803581708, 10.76111049674444, 11.587708209413915, 10.523122737159394, 12.067540197017578, 8.456593569287309, 11.210725178085532, 12.750774920661836, 9.141526055975824, 11.520943236563811, 9.672500823760892, 10.050527295185443, 13.389240520422922, 12.117263289508175, 8.851949671253948, 11.584697138674281, 10.15140176217555, 10.869139713948007, 10.920763241257452, 7.643482907077201, 10.63643220297014, 7.544861068658458, 12.756160327748564, 12.79866441407536, 7.99799931797973, 7.355001921105257, 8.817297783866575, 8.261784679514752, 11.221824220472792, 9.846546762073318, 11.669698417917807, 10.200476184308208, 6.93828448401696, 6.371611847231857, 6.598509028614515, 5.10594547390058, 13.60135895761182, 10.08460004537341, 11.890889186238875, 14.110495400164384, 12.401314540777346, 10.428571048048818, 11.324509374175076, 6.688354713946762, 8.187855443695623, 11.301302792730635, 12.430003886535388, 11.459113211192978, 6.6895992691789665, 5.572154032177765, 12.381952666775888, 9.791214310053341, 8.460834457746854, 11.218970425201533, 12.015057407967486, 11.775774227434223, 8.424858580213442, 11.667952903189638, 10.546787760701491, 8.919854372191667, 10.186031447131786, 11.935922650770435, 10.724544101718104, 10.864981069241113, 12.633468833126454, 10.062753697461577, 10.837480668523288, 7.703007682479236, 9.10642325855641, 8.815518423966498, 11.66980954850063, 5.926926025970411, 7.983098940710892, 6.284134161070802, 7.599901959208498, 7.4318919168078, 12.294317012075673, 7.1631723908466425, 10.957799582307658, 9.962840778235641, 11.128321247529394, 12.256371195323332, 14.10319613040993, 13.709870003099129, 10.074453207791757, 12.915366267874482, 12.095917319787414, 11.555879584894827, 11.780575733866957, 12.367217381256046, 11.187223025328281, 7.851661177889265, 9.557116483735667, 12.992051938018903, 13.007526996094695, 7.631916513071252, 10.731405981781311, 8.87458787627932, 9.863134198186913, 10.291976036437175, 13.409414250691823, 14.358963862376665, 15.922030400800502, 13.444661346326784, 13.26995372810971, 12.049260928281269, 11.045095471665334, 11.721044714585323, 12.412432129109794, 13.74455468963051, 8.987696695703624, 9.23561817916045, 12.798791571255625, 10.636047735452909, 7.7488913372555315, 8.971829343530851, 8.80926561216931, 8.48301573961465, 12.06332174065379, 7.8838232148921525, 9.519294579703503, 9.419141561574516, 10.293872863209199, 10.767705739117174, 7.200424892944957, 10.915288444217275, 8.870101048785726, 6.63200177739563, 6.249975242259483, 7.0909098220799835, 8.173857454773621, 11.860648459507132, 7.532088143541722, 12.24769911637256, 8.429672593886743, 7.30854279753919, 8.420021279663963, 8.674025985443025, 10.432467386882161, 9.200087995511831, 11.31453549999721, 8.12296471523406, 12.415271418798735, 14.501667362678834, 11.177005076053058, 13.721255920878672, 8.805824812903607, 11.648146679041936, 7.305860032684009, 9.060447282401565, 9.615071877730596, 8.868835492826895, 11.758464358021245, 7.183111701743281, 5.298317366548036, 12.584307006040078, 12.139932843025628, 12.086962479625887, 12.806150134516525, 10.173591022713616, 8.79133399330135, 8.887790764195326, 10.952138992050466, 12.207142073488194, 8.97221007835365, 10.69722639582877, 12.584169982667103, 8.540519016719735, 10.093074320321495, 12.24189335444494, 12.000468132113847, 9.284798282894192, 11.02841714952161, 7.699842407396986, 7.9865049385539955, 10.399128469976915, 8.723068501163928, 6.733401891837359, 8.988570876215118, 9.92431906211606, 8.688285266258644, 10.517807952550102, 8.203577736937952, 10.056294472779886, 7.5569505720129, 10.077650921628619, 13.1741870311265, 8.355614995760183, 11.991783527763276, 7.8383433155571165, 9.833708657928211, 10.93661865367406, 11.301018545582007, 12.242597420212546, 7.980365765111246, 12.408184574643256, 8.975124239427704, 8.063062911326792, 10.80732101380793, 7.650644551436897, 8.983690681332686, 8.392989587956931, 12.156220417570607, 7.955074273262696, 9.460787757817737, 7.906178840394815, 14.134682576507165, 11.175044236185595, 6.742880635791903, 8.163086375583216, 10.969989787286003, 9.254261559034111, 11.309756094863436, 12.053917473352495, 8.67709870892586, 10.379939099210782, 10.079916783625245, 9.57692604202343, 8.463159302923751, 8.968396191198256, 9.945828393025653, 11.259438678827665, 9.345657668923812, 6.84587987526405, 5.940171252720432, 9.622781093820773, 8.889032571874742, 12.729415599614896, 13.277776117641066, 10.563052096078946, 7.347943823148687, 7.172424577124845, 10.125830783679568, 7.537430036586509, 13.685475901767688, 11.168785909439716, 12.214625961408217, 10.819198116145218, 14.049858307177061, 12.435667343379771, 7.554334823725748, 8.47595444339964, 7.828038032125829, 7.984803389734406, 10.449120317807525, 12.572817715126588, 11.927508874722921, 7.631431664576906, 10.820977564985766, 12.148125685575325, 14.269477534720457, 10.68857560679443, 9.497772413172754, 10.744386411485507, 10.280381703656257, 7.696212639346407, 8.603187384583098, 8.653645314551737, 9.307739277963316, 8.57376254290413, 10.588123616077645, 8.98894529119609, 11.860160997514216, 12.448473577481401, 9.883335864325275, 7.569411792450712, 6.251903883165888, 7.409741954080923, 10.587770562157601, 9.455714972131714, 8.155362120328135, 7.937731775260109, 5.153291594497779, 8.721439305625983, 11.454321300654176, 10.572290809706557, 7.732807530422021, 6.075346031088684, 8.69433468816865, 5.739792912179234, 10.006269747179154, 12.881104224964723, 6.78332520060396, 8.786762208441091, 10.657188764185747, 10.097325869457748, 11.053932989844254, 8.98632143762602, 8.28045768658256, 9.767266832624836, 9.600556469321608, 9.032289682032873, 7.165493475060845, 7.317212408359839, 10.309219291761723, 9.305832353435404, 10.77008371138643, 7.837159650001675, 7.539027055823995, 8.906393407058367, 12.130173840021966, 11.907700301870202, 9.95118187839879, 9.502114062331216, 10.484193653750324, 11.828954440561857, 8.882252884889363, 7.124478262493424, 7.700747794511798, 5.998936561946683, 8.322151070212902, 12.20511218443505, 10.94100427517765, 12.21419457319925, 10.392067567354799, 11.449666125331037, 12.313419187731055, 12.021253973537604, 11.161792279937831, 12.056882143655496, 13.24984852829245, 13.617763030325428, 10.388872283820167, 14.881388200064933, 8.4096079807363, 10.556307407873451, 10.663522056137511, 11.854086691077573, 10.40964228465222, 13.280330764329712, 7.066466970136958, 7.977625098784593, 8.58316818033977, 7.01301578963963, 6.440946540632921, 7.455876687491824, 10.320551796487644, 6.450470422144176, 7.384610383176974, 6.3561076606958915, 12.497383127335958, 5.455321115357702, 10.364229676134132, 5.863631175598097, 8.582793648500186, 8.815073088844464, 10.047761041692553, 10.794070656866477, 9.045701550034536, 9.52617248784431, 10.49096861519108, 9.695047867587114, 9.95934790203275, 9.91798199868658, 11.855685037662267, 9.706620724300137, 10.39854958112264, 8.99850761180784, 8.022240916806537, 9.684896124569141, 8.0507033814703, 6.1463292576688975, 10.446305907338292, 8.60922527686273, 7.581209826196346, 10.033462628957874, 13.455694973086038, 12.113754485168153, 12.167196672947034, 8.491054533806542, 8.350902451694811, 10.483606002798068, 10.803852133860024, 8.80492526261806, 13.547587974623333, 8.805225202632306, 10.977687605971129, 11.557736293503945, 11.079292337034143, 8.532081803909987, 8.186742787113518, 10.389672062385667, 6.943122422819428, 10.208395405652977, 11.96568120080641, 11.966049939406712, 11.24670477403981, 8.573573524852344, 6.9975959829819265, 12.696763926988643, 8.84922702143852, 11.8353712173583, 11.568984385700205, 11.29368677973323, 8.350193650720067, 10.657612233819894, 8.433811582477187, 9.11063052782717, 9.595058406939557, 10.61344268474544, 11.75830006512576, 10.210199895269655, 12.770269353582464, 11.374180505292818, 10.372553242053888, 5.902633333401366, 9.527411329321751, 12.068045447615393, 11.715964263352905, 11.629676857554735, 7.444833273892193, 11.166950217433365, 9.986679143422892, 7.978310969867722, 11.33172727696122, 6.421622267806518, 6.049733455231958, 9.618202604684068, 6.175867270105761, 10.52613179345847, 9.508146027598816, 7.779048644925556, 6.171700597410915, 8.208764045819667, 6.53813982376767, 5.846438775057725, 10.427860988847387, 7.771488760117616, 8.172729104865471, 10.655658073545535, 10.330975044678786, 10.17443030098361, 11.570760316641179, 10.557711975549612, 13.022739707865016, 7.688455356549944, 10.467977158387665, 7.826044013518965, 13.40092347082482, 10.024376869811581, 9.697815482133922, 10.186596685017772, 7.614312146452, 6.968850378341948, 13.440287513766858, 7.338888133838879, 9.940542460487139, 15.526442039044552, 10.55807580091745, 9.065198986306513, 10.68384400716945, 10.692558361066228, 11.334647720933294, 11.355218468940192, 13.640211485705015, 9.921523915022227, 7.113142108707088, 10.179109695495468, 11.177117007998552, 10.289260027298557, 11.283059367895191, 11.191645243087512, 7.9996785794994505, 10.255165029914568, 11.003715202472089, 8.161089512845797, 9.137339479091693, 9.413852481341165, 9.466454374960302, 9.002331708246244, 12.3090397993812, 12.677119480447606, 11.200745760918048, 9.830056274450245, 11.544414442060171, 7.324489979348532, 12.172329701965216, 5.908082938168931, 12.713140216653834, 11.706195204432575, 8.091933455979893, 9.199683791787654, 12.664692980220483, 9.045937315684574, 7.836369760545124, 10.42225158360364, 6.045005314036012, 6.0014148779611505, 6.844815479208263, 13.634128959271258, 12.410868910026323, 6.12029741895095, 6.942156705699469, 11.771760431864289, 7.160069207596127, 9.983268687540978, 10.258010181906718, 8.900957872545062, 11.025897744718698, 10.386931701960881, 7.618742377670413, 10.941925118168168, 12.83793733167295, 6.665683717782408, 8.661293535389994, 6.785587645007929, 6.401917196727186, 7.085901464365611, 12.513219052769559, 10.175497455593613, 11.624547337357567, 10.518159546219628, 9.449357272446683, 12.61783455378236, 7.099201743553092, 10.137571043888672, 7.283448228756631, 10.772435072899762, 6.769641976852503, 7.300472814267799, 4.997212273764115, 7.198931240688173, 6.637258031284457, 7.356279876550748, 9.562475024372697, 14.116972007245677, 11.103557751594797, 7.646353722445999, 11.395728507536447, 7.699389406256737, 11.35589731586288, 10.496344674251352, 10.915342977277955, 12.524700906871969, 7.557994958530806, 11.93934286605304, 8.892748769118258, 11.13251387992617, 7.0431599159883405, 11.998827049368737, 9.125109227613523, 8.21716859576607, 7.774015077250727, 9.533799735803484, 8.08886878916199, 9.491979220880678, 11.347803149602338, 11.337273616141209, 10.146002265529594, 7.738052297689316, 13.25056484115995, 9.179778066393542, 10.265627535905919, 11.622980942028274, 7.8804263442924, 7.656810091480378, 6.9957661563048505, 9.813562845008141, 9.350971501715929, 7.346010209913293, 8.430545384690566, 9.093132171070641, 11.007054214669369, 12.050704558296477, 8.607764889600624, 7.190676034332207, 13.12132884245754, 5.476463551931511, 9.897318563390598, 10.974848541296925, 10.89825669228154, 6.208590026096629, 8.915029272359911, 11.746716134028198, 8.20903626577507, 11.157749397155232, 10.917086466877281, 10.089593605747774, 6.802394763324311, 14.047338688911402, 11.46374572492597, 6.091309882077698, 7.5310163320779155, 6.406879986069314, 10.3797217315325, 8.412054873292933, 6.792344427470809, 9.943044747534582, 7.88193748927207, 7.846980982138788, 12.976551169026443, 8.680331928793418, 9.772410288929185, 10.513606322644657, 9.147294070258548, 10.99641705806874, 7.757051142032013, 7.945201132412759, 13.199196632598404, 7.706612913964197, 7.711101251840158, 9.528939547062684, 9.160414563206457, 10.224011865791892, 11.75374389132436, 8.029758520440822, 7.600902459542082, 12.45378782650686, 10.673387419194466, 6.841615476477592, 8.824824939175638, 10.521102670483636, 8.572627898304338, 11.127630563651447, 12.518120447883708, 8.021912778985708, 9.17014318222477, 8.253227645581772, 7.552237287560802, 9.630431332279667, 7.466799475018602, 8.56197533418813, 5.834810737062605, 6.507277712385012, 10.522449834906697, 6.634633357861686, 7.610357618312838, 13.539216725972354, 9.673004633835156, 5.993961427306569, 11.42296793414645, 7.436617265234227, 7.330405211844402, 8.643825842349603, 8.520188700396035, 10.623130596900038, 7.748028524432376, 6.8885724595653635, 6.591673732008658, 8.378850241794492, 7.288244401020124, 8.763428073953845, 11.245019875682022, 5.634789603169249, 10.104630863570671, 7.151485463904735, 7.2868764117507, 6.439350371100098, 9.848291917068178, 8.114922974204593, 8.215006432761575, 8.895629627136483, 8.831857935197906, 7.788211557847076, 8.066835314417336, 10.811342805589181, 10.02791513091118, 9.181529290122063, 11.063226297864814, 12.21372826634105, 9.310276200588783, 10.56684540428532, 15.845715373280623, 12.081002498251936, 12.484771993846381, 14.816849173769922, 9.620461291620542, 11.514713864829446, 12.672529366928693, 12.057416012417704, 10.14399939801143, 9.165552189186048, 10.660102368540187, 6.565264970035361, 10.384183811320607, 11.150146213311999, 14.195109331606625, 5.958424693029782, 9.70448768268936, 12.01766862801986, 8.277666160851503, 9.40951904583656, 9.444542550647126, 7.269616749608169, 8.822322177471738, 7.036148493750536, 8.029107054619736, 9.94477343944167, 11.832643850621462, 8.31115254800169, 6.706862336602747, 8.70946507906336, 9.732165281200542, 7.403061091090091, 13.20252669318903, 10.765110883067974, 11.350582990491587, 7.718685495198466, 9.321792297270326, 7.322510433997394, 6.775366090936392, 10.373928586106643, 7.080867896690782, 7.938088726896952, 10.940383999223585, 7.461640392208575, 7.22402480828583, 8.284756593190435, 12.571441190373637, 7.845807502637805, 6.903747257584598, 8.853236764745898, 8.087332926473351, 6.066108090103747, 8.291045131081729, 6.541029999189903, 5.849324779946859, 8.733594061863055, 7.772331575169614, 7.115582126184454, 8.205491613120236, 6.595780513961311, 7.596894438144544, 8.364042011922063, 6.20455776256869, 9.446755465483632, 10.619056476530803, 13.073055479233776, 11.654216672206191, 16.211754468013414, 11.70422328100386, 8.427487278331744, 8.231376045573969, 9.164819856674374, 7.671826797878781, 8.287025025165063, 7.741967899820685, 9.948508718183648, 10.233510465477433, 6.5722825426940075, 10.513660649802818, 9.66478610230597, 8.349484346990128, 11.932306627404852, 10.766082105406422, 10.013820684220475, 9.69214904667168, 14.719289340841218, 7.078341579557671, 12.02162082132695, 5.552959584921617, 12.486560149026586, 14.671644408614306, 8.838551790227402, 7.272398392570047, 12.136979769042888, 12.151141162003956, 11.21851413510048, 10.897368757042468, 12.497947167371606, 9.13852208418571, 13.120148927318603, 9.121399862679535, 12.163274741853183, 10.399676582049104, 12.43593755780451, 12.437208175733927, 13.089389671009123, 10.264443320658335, 12.365590325781675, 11.636761256795127, 13.76572665019519, 10.727882269705747, 12.458895380189347, 12.198443618365683, 11.846142408870769, 6.842683282238422, 7.846589975291186, 10.671046230609884, 7.048386408721883, 13.17789268719681, 10.472685852626894, 11.868906167979484, 14.799105109012633, 6.641182169740591, 11.71185828756938, 11.82437289097227, 11.80866498879974, 10.566793891085052, 12.04951824574811, 8.746557354543503, 12.47046178163761, 12.946520786708083, 7.80954132465341, 11.449964365714996, 10.649938505118385, 13.17858679871941, 13.0446482920483, 10.59400628174238, 13.58491178542035, 11.692618570410492, 11.396312993935677, 12.732994034661017, 8.781708985836179, 12.78159833988392, 13.131848253415543, 14.70786795892076, 8.812099108957337, 9.589050742775527, 11.631286111555074, 9.067393362656249, 12.4565044622018, 7.5352967024440884, 7.142036574706803, 9.538204234060796, 8.925188429378027, 10.210236687705134, 13.649625970990197, 8.74369111054302, 7.765993079407675, 8.259199362666282, 9.926373656322829, 13.732749408674232, 7.724446645633537, 8.593227877692234, 10.323644209387282, 10.532442818550164, 9.60393530751386, 10.617588658178859, 11.472572110621012, 9.972687069337132, 9.957360018000617, 11.695538645904396, 8.761863373274727, 10.676231187367216, 10.111639286031101, 10.589056087572523, 11.707941109823068, 9.2850767180902, 9.755567422459507, 9.511851382364405, 10.575232326835637, 7.313220387090301, 9.219597393238859, 11.35133551560147, 15.918433491197469, 9.762614993654713, 8.972717499397138, 7.218176838403408, 11.95535875117838, 6.331501849893691, 12.23854951616293, 12.300568857789143, 7.254884810077338, 11.881346156739012, 12.76426742431015, 7.8160138391590275, 9.28489110324048, 15.3369671686383, 8.633731007664188, 14.619161455219302, 12.862981062502675, 11.92566405704489, 13.098150599674796, 15.717744494281572, 10.077524889742385, 14.624830144479334, 11.356224870204732, 12.476389817015106, 11.180803751086273, 12.021927426875305, 8.114025442356757, 7.968665700466235, 11.630548487825246, 8.291295851905407, 10.858479631947358, 10.794542524342022, 8.860215358901183, 11.689966437320258, 11.591089485939582, 9.080003870248179, 6.543911845564792, 8.862625169408922, 10.544683327463973, 11.677167908364277, 12.031564484503775, 7.874739125171811, 8.467162257810672, 9.531771484474337, 9.599269511444248, 8.907747686788648, 11.429652545776406, 11.130581002852777, 8.144969417087875, 8.041091003708633, 8.712430973476739, 6.329720905522696, 11.26082930264344, 10.604801295762467, 10.179527113203834, 10.862128710284015, 12.608352686693564, 10.6234957247597, 6.926577033222725, 7.8343923029104365, 7.752764808851328, 8.506334448081361, 9.708627719044069, 8.423321975806166, 8.085486772102845, 6.650279048587422, 10.248388453669511, 11.592992787725427, 8.320448113956559, 8.269756947532983, 9.58623934448258, 9.786166909959585, 6.5638555265321274, 11.302216779257382, 6.364750756851911, 8.991935575009146, 6.040254711277414, 8.846065190692881, 10.187613308785131, 12.422864064702908, 11.534833717019108, 9.674765972907856, 9.155356063643422, 8.435332164935916, 11.439903057224347, 6.925595197110468, 8.97903863296051, 11.792691286425036, 7.843064016692054, 10.447061062761922, 10.506627965308457, 13.071112187393535, 10.987865681176412, 7.962415680121064, 9.863030074904852, 6.950814768442584, 12.837333784017572, 9.7473014693468, 13.249228600409657, 8.22282213081366, 7.90100705199242, 7.745002803515839, 11.354129010223076, 6.920671504248683, 7.745435610274381, 11.484618578754693, 8.130647968160584, 8.183118079394745, 9.37143829231851, 7.094234845924755, 11.841307924548385, 6.994849985833071, 9.374837343857585, 10.044205559475007, 7.213031659834869, 9.97222039021722, 9.867393944887889, 11.382429460889227, 9.546955455537143, 10.038717501796231, 11.587828834996891, 7.704361167910313, 9.275753510524416, 7.86172707782398, 11.182363726888726, 8.498621805830801, 7.6236419465115715, 8.079308192051961, 7.362645270417825, 7.993619994827744, 10.64974886874556, 12.208320118070652, 8.11522197256233, 8.812248018197431, 9.871635623086945, 8.119100837637486, 11.888934298913998, 7.555381944240273, 10.24494733066838, 8.609772372709331, 9.328123407632566, 8.535622326884605, 9.041921720351219, 9.50985219618154, 7.767263996757308, 11.845332306201518, 7.401231264413015, 8.781401907682376, 11.131225710412325, 9.97025795616998, 10.978063263375997, 10.400650262332935, 9.232590980911002, 6.089044875446846, 13.029142214084866, 13.071846623536393, 12.79005486045905, 10.058223775185438, 7.3938782901077555, 9.564722689855031, 9.669598979685738, 11.530156160231895, 12.82813458855984, 6.643789733147672, 10.016012343377973, 7.475339236566737, 6.1070228877422545, 8.646816959209742, 8.82864061741828, 7.3277805384216315, 9.779680156808055, 6.804614520062624, 9.961095865156441, 9.81454704323948, 8.12415060330663, 8.80941494391005, 8.72518249495877, 8.69349667588463, 8.069342366811636, 5.638354669333745, 9.620328568811932, 7.546446273746024, 13.684918840258366, 11.702321935436144, 7.939871576361883, 7.748460023899697, 7.629489916393995, 9.245224773829685, 8.190354403763262, 6.0330862217988015, 6.363028103540465, 14.678964910771011, 14.340713530546086, 15.022767962081426, 12.778333856309063, 12.552237046726356, 13.36451708522993, 13.863124792904626, 11.52448835633468, 10.06895961723459, 6.214608098422191, 6.447305862541213, 10.000251220968437, 12.001094352342806, 6.1675164908883415, 12.155231880314798, 11.063179261544928, 14.087776408761066, 11.830200319668752, 12.204766793276132, 10.126030923778305, 16.361811337343212, 8.933004591578547, 16.416690437558525, 12.986807078898101, 13.051578186386193, 11.122944850896442, 8.486115235845377, 13.940855155042719, 9.949464238776152, 11.450305102988562, 8.551401362745974, 6.840546529288687, 9.864434825272427, 8.936561204693394, 9.472166029882736, 6.7661917146603505, 9.55044884660634, 8.432724034789787, 8.128585200374497, 7.853993087224244, 9.175645402179295, 8.96341629199657, 13.555444949561487, 12.9309316487248, 12.352101863959675, 12.62278756982759, 10.573058996567367, 15.178800330978474, 12.262547492458152, 8.703838719690246, 10.629368102712709, 10.243773934619298, 13.222453026418341, 12.291038598732767, 14.3153854406336, 10.932249459303158, 13.319878918780443, 13.333809985425527, 9.039789270781144, 12.714764995484762, 12.824814117309554, 13.454059942925525, 13.664778361791324, 8.69901462316851, 7.607381425639791, 9.95679132455844, 11.379508351529877, 7.234898420314831, 8.817594036275793, 7.65491704784832, 6.56244409369372, 9.872409596965266, 6.7464121285733745, 11.478934254102867, 10.6378486508044, 13.053002581098484, 12.941313811287118, 8.133880887949207, 9.314700387300425, 13.08141429147497, 7.4073177104694174, 9.241645221804594, 10.883710371704016, 12.281384178827809, 11.55279981061309, 15.186977788450365, 12.659610199992485, 7.537962659768208, 11.266282963367257, 12.69478148640624, 10.468005590498892, 10.262315177792935, 8.168202930236053, 5.017279836814924, 8.771835409789817, 10.288307678667005, 10.565324648253958, 8.634620608292202, 11.97033132448707, 11.333140687828244, 10.435937672398781, 7.302496423727326, 11.934231113297525, 8.220133957151859, 6.882437470997847, 12.889396737141357, 8.780326390946605, 11.420656655506816, 11.699355238142036, 12.441757228338695, 11.95759846563667, 11.18665501273361, 10.67099981505138, 8.751474487140904, 9.553149630053277, 10.183087048794553, 8.719317375506371, 8.962007209588313, 10.958652876685026, 8.931419805192975, 8.444407421690585, 9.257605564443297, 7.838737559599282, 11.364100577898318, 8.983314293397749, 10.94489436743346, 7.738488122494646, 7.162397497355718, 9.65617937422262, 9.341544057591527, 12.903331362129832, 9.011035410141815, 7.016609683894219, 7.52456122628536, 8.47907586930311, 8.00736706798333, 6.542471960506805, 6.501289670540389, 9.401869409521051, 11.94540893430204, 10.14356688055654, 6.456769655572163, 10.72236389230324, 11.278872623147983, 10.588652963354416, 9.824336114230691, 10.400589435082308, 10.451955721726629, 12.441962614999554, 10.058266606323683, 10.741643755006049, 10.608242106137789, 9.692272572087193, 10.984970637125501, 11.909787001604226, 10.109077944602749, 10.99594762171904, 9.080231686629162, 10.561188886161775, 6.848005274576363, 8.697011617992073, 6.054439346269371, 6.677083461247136, 6.807934943699926, 9.381937965407161, 12.804944860266852, 9.478763169489152, 8.487970332739334, 8.22817689595132, 7.616775808698373, 13.031287022302058, 12.496482244896251, 8.200288260287554, 13.539467159289202, 8.357962965845681, 15.308142931836002, 17.137812412578395, 12.79560778096641, 13.944138573660819, 16.468776747630173, 15.61958291155149, 16.159710131378656, 12.348990472424305, 10.519294620121293, 12.953338624977615, 11.493977072711385, 9.964676720848551, 11.680581676011226, 11.860259922063129, 11.159473891814098, 14.626890450838676, 9.665420700626543, 11.349358928099893, 10.745399506361185, 8.881280595070423, 10.784275451367629, 15.676138690965821, 10.159098293987839, 10.921973796724952, 11.906162784118516, 15.12806580197198, 11.529644912776996, 12.071140271990023, 15.336876749624736, 11.886920545608906, 14.220073926293969, 9.13830716907635, 13.183379452004889, 13.760976227615537, 14.977993957601328, 15.505361878584754, 16.106216168488192, 11.910996638524681, 12.121853729625723, 12.348916789559654, 12.595763999522298, 15.639879188535728, 15.513988854227394, 10.999663542503887, 16.956847454751845, 13.944142090858598, 14.77509906508281, 13.806051966187626, 9.245128197461847, 15.909709792238175, 9.851404472665903, 13.392492799462453, 15.845534807621107, 9.252824983582338, 14.141277843363689, 14.808150291864974, 13.933308704617597, 16.106290139320947, 15.532331838709512, 11.220873860000504, 15.49961781352535, 14.074489097327557, 13.041450457872926, 14.220557578686085, 15.127692716152263, 17.137857787242744, 9.805047479722875, 9.473012281423795, 10.550774023880454, 9.14782646658694, 12.7305437448833, 15.308388136936912, 16.92589724480232, 15.17227028405059, 16.468791254215777, 14.815826947333676, 15.12823318774302, 13.744653449867572, 12.019309238308715, 14.718944190423915, 12.641665973019194, 13.60149769475718, 13.009046852023394, 12.277551092081152, 13.166315188933508, 13.277871991963599, 10.39056336913101, 11.409984242682977, 12.266810202145704, 14.53117921541648, 13.522057196951957, 12.939737774393008, 9.717218213494077, 14.933101932296847, 12.321693345021874, 16.92591828809301, 9.286838342948908, 8.91085558740525, 12.18361228959999, 9.957928388214375, 10.30695065797362, 10.644829481945742, 12.286153814002546, 14.653530511370695, 12.019068140831838, 13.201440696162981, 12.153583900033492, 12.730067177344514, 12.390126035168887, 10.389179966663121, 11.166865411779604, 12.79056778820045, 9.642317574624458, 12.277355559533673, 11.518996995866857, 14.111061092713667, 12.03597803405574, 13.217164336668787, 9.851983709669012, 10.130384052719645, 11.440709547904705, 11.700168226083251, 12.14404829454978, 12.384093300022423, 11.205571156720927, 10.98558081697799, 8.67060073804555, 9.832045255081763, 9.89957992770511, 15.218411267247568, 16.92584106774721, 16.468654067020676, 9.515248225093032, 8.893847217670283, 11.990047448509257, 9.690789259083457, 11.662026272772513, 13.612038497897307, 8.357024439263416, 13.495407216987244, 8.250358951477294, 10.421447665202718, 8.723394022000136, 10.443687495508296, 8.916908467543795, 10.644019147757733, 11.316241257340437, 9.30054663986233, 7.687538766201629, 10.89027402602198, 9.850139517034204, 9.149740749847252, 9.176059437999308, 10.05035462834568, 8.016647877057803, 11.46747820705829, 8.970686268534983, 8.345692873253865, 9.762384711558127, 8.787830829258759, 10.412231010097795, 10.456855290567788, 10.580606972018876, 10.846556525442889, 16.165488076841793, 11.856479707738641, 8.01102337918644, 6.18826412308259, 11.112552370527638, 11.750855160474304, 6.6293632534374485, 7.289610521451167, 6.834108738813838, 7.424761761823209, 10.303571541691813, 11.777379851302705, 10.023534689845578, 9.628655892063167, 9.399968503952575, 8.908694592507015, 10.969146116061106, 7.440146680662688, 8.955448122347393, 7.5595594960077, 11.004929168214398, 9.06773940337716, 7.27655640271871, 9.910711397625448, 6.815639990074331, 11.450677651490702, 8.280204233279974, 8.237743803890933, 7.144407180321139, 9.850508627745242, 10.768421830133452, 8.806274284781725, 7.493873886783559, 9.918573189954168, 8.90598676523643, 10.998760939938723, 14.775062291560966, 15.218413480189367, 15.144949077111791, 15.639828048957982, 9.24048152888817, 17.619763992734818, 9.74326011321524, 13.438605209531456, 9.248887781588422, 16.4686325858019, 14.364939204151899, 12.595547250953175, 13.942699001552848, 15.532307407880463, 14.074451276472592, 12.508718450806812, 11.128100868329359, 14.07825167449103, 16.004208553768418, 10.646686006494784, 12.459644523852296, 13.80595605875942, 15.845516289590224, 13.541899686841047, 16.106208174048678, 14.568520187607854, 17.137779913242582, 15.307818071728136, 14.219214783294623, 16.165485597184755, 15.909669392044693, 11.471113397155788, 10.802571086072563, 11.144423716416433, 8.145549631783584, 7.4133673356952405, 8.104401307921613, 6.894670039433482, 8.557951183888406, 11.268277338868508, 10.457430135375523, 8.82585367025321, 5.886104031450156, 9.719384409659742, 11.47110297011639, 8.043663352393944, 16.956792687212694, 5.393627546352362, 8.278174290943738, 7.621684998724611, 9.488956472414216, 9.219993629004321, 10.26074232833987, 9.263312256742289, 15.307827515518134, 17.13774640283252, 16.92576174572175, 12.446104778509202, 11.911010070718964, 12.81910190725496, 16.468885682719367, 15.639913871619056, 7.516433302915632, 10.627963812132798, 10.670349770918355, 13.15014973600887, 10.64225320609987, 13.830247434808822, 10.04585479382305, 11.626968181010888, 9.647885373547759, 10.856977725399389, 13.342940438097202, 11.10737535324936, 9.254070134837509, 14.269255858958777, 9.86110183603969, 12.041251066969723, 8.730367211692958, 7.221835825288449, 7.990238185720363, 9.1958356857733, 9.282940064390527, 12.572530084456245, 8.416709652837914, 10.344963098167325, 6.74993119378857, 11.053838036608653, 10.076263696486551, 8.700680734850161, 7.97349996402463, 8.027150106832774, 7.374629015218945, 12.880536372285585, 11.906958812115972, 7.023758954738443, 14.100081796786625, 9.54781210893048, 9.246286498749653, 9.404013917106361, 8.764678074116606, 8.757154527656606, 10.08601742096504, 15.30860677051835, 10.793454842740767, 9.632072452548218, 13.182336492918969, 11.578244931090872, 10.427772195986275, 10.981812096257515, 8.081784206935001, 10.75856223773664, 13.818365478796817, 13.419802197616844, 12.076106319070147, 9.048762176320128, 6.964135612418245, 12.846385871811167, 9.865006565717847, 8.558527054909215, 10.121698960804775, 6.639875833826536, 13.172204417781316, 8.232706009860976, 11.859086329179252, 13.065970787893116, 11.135449967400994, 6.436150368369428, 9.25846364715791, 6.359573868672378, 8.0323601479245, 8.874727765766853, 7.979681302387741, 11.272915471546117, 7.215975002651466, 9.943429159629076, 8.33302993974291, 8.60300384782935, 8.677269139262872, 10.050829390434055, 7.232010331664759, 10.285786382612454, 5.69035945432406, 10.987967109627181, 11.199829853456357, 11.541104675235536, 10.4052623407817, 11.274985484413262, 8.742893471512136, 9.23941361946189, 10.891968704950774, 7.884952945759814, 8.406485069431817, 11.960236043668287, 7.603897968521881, 8.715880102296456, 10.050181931686932, 9.029777268197092, 8.966611387052865, 8.66561319653451, 7.034387929915503, 11.596724186905558, 11.772231210780545, 7.693937325509272, 7.387090235656757, 5.883322388488279, 10.545893917642873, 8.730690365678642, 9.484557193474393, 7.05617528410041, 11.000715550182045, 9.706377178268735, 15.308614634145089, 11.798983719743402, 10.762424557380308, 11.467268885990409, 11.10736035186173, 10.855878750035005, 10.492051692903633, 13.178261553033138, 10.69335301197251, 14.26926030566045, 11.722554099838087, 9.002824076547672, 10.837362767167287, 11.053426468369578, 10.265940770051001, 10.727202363111877, 9.889388628156626, 12.79931661444558, 11.980545004531288, 12.778136349967056, 9.126850061477157, 7.490529402060711, 10.285991049006945, 13.806129694933523, 14.098630991945438, 12.123831690146263, 14.032921710430081, 12.902775995417885, 16.211500562345474, 13.153197094751464, 13.770153294642258, 13.49516341046373, 13.215924756219938, 12.585070567423166, 13.163432381415229, 14.138912028806743, 13.172137818918609, 12.180595850549146, 12.69954557845334, 15.15492267118442, 9.262743050769231, 11.567603026260924, 10.52242290939612, 11.903554392543397, 12.75962149532985, 12.77810530970925, 13.531877610065285, 10.670233647130265, 6.917705609835305, 14.938246516917967, 10.190506905437811, 14.581461539187314, 12.633834001303496, 14.56655771067516, 14.80835076481134, 9.172223049863055, 15.90973651951788, 16.956932172108214, 17.61981221872507, 15.845553719298714, 15.218576240926527, 12.596681273961657, 11.000548638711502, 9.255313737618915, 16.16555330868762, 15.909736150021187, 14.074503762172181, 12.349519096108555, 16.10636380114219, 14.978091205258197, 16.123632394863943, 15.505546593031232, 13.80619025859958, 9.993876552263808, 13.944992889192502, 16.106408218216913, 12.19369637446212, 11.221168434476418, 15.532346928041049, 14.808348171148142, 16.004234439884637, 10.290279395378672, 13.392611864163571, 15.515989367954434, 14.221641444392858, 15.257921985354335, 14.221390246788642, 16.468865473938724, 12.542894820915675, 11.911634468581385, 9.344521553442203, 7.673223121121708, 10.124067821447174, 7.011213987350367, 11.597220656465623, 13.830223785620875, 11.37321502126899, 8.898365606955357, 12.503187588242808, 10.999479745081548, 9.831776704982127, 9.388486557359657, 8.36380888451688, 11.131460046509945, 9.368710707947624, 12.70265430397277, 10.752377002814772, 13.182242309498571, 8.860782895806315, 12.371188699578461, 9.784309794706799, 6.068425588244111, 10.374397021385262, 7.718240951959316, 10.952664468932817, 10.28997369404649, 9.317039990635239, 10.07200594918639, 9.174920426744922, 12.819575788936929, 9.187992508312275, 9.468696615046134, 14.566565732469904, 11.946420699399441, 10.203036435052743, 15.499644169806592, 16.00423768960946, 14.098634005657074, 13.806263939447488, 12.052035292614512, 14.77512128176363, 14.078350862952648, 14.568714198967545, 15.619631146128924, 15.53235034107256, 11.741231666841102, 12.277825704193273, 9.360310898552477, 13.606072653706176, 9.743553514619803, 13.933796578213807, 10.448540674851346, 12.470937626751333, 15.349828940638881, 15.84555266865934, 12.363546369354363, 9.600624158088683, 9.4535218170269, 10.433615678556617, 9.916749226519313, 8.658866349732383, 6.913737350659685, 8.251663923605589, 8.83869681234353, 10.911408975919734, 11.226735611938384, 10.423649457279106, 12.658103222785659, 12.238186433441436, 10.775763698990863, 9.692457831605429, 10.248423867569471, 8.083637203141548, 6.727431724850855, 7.83399634170946, 12.206362603488301, 7.122059881629142, 6.553933404025811, 11.908676880890754, 11.342243899857174, 9.561419689557756, 12.23821064305798, 9.595602772766828, 11.908670149127941, 11.342267621835587, 12.453241269606442, 9.686760869017997, 10.344480666703438, 8.168486417126681, 9.363576347875041, 12.600716076606659, 9.30008966411979, 10.021626080553169, 9.239025005836092, 8.479491324232226, 12.058198891189775, 11.543241262172174, 10.919732210768808, 12.447130768374684, 11.503077128915415, 10.38532711001602, 10.94899789464713, 9.059401196410896, 10.515777110135918, 9.384629757072872, 10.010142230404668, 10.016101696905263, 10.133924442677802, 10.8731863411109, 11.03083306002711, 10.927807236622384, 9.866667954397592, 9.518707035620796, 10.541703249569855, 9.818583045445685, 10.52728465496128, 12.763926882845936, 8.213923595622743, 7.767687277186908, 6.063785208687608, 6.628041376179533, 12.723812312120257, 10.385296227231626, 12.058181500540726, 8.983816112502495, 12.49476046205179, 11.868023165714606, 8.850660919017152, 9.780302451965749, 8.799510901368867, 12.600911494397039, 10.968680931658794, 13.510158622257347, 7.584773077612199, 10.471043165047808, 10.489355711615616, 9.7553934942914, 11.38193940167343, 12.194880243626024, 9.068085324395312, 11.652974322702978, 9.101417964751995, 14.872084835285484, 7.526178913346146, 10.834174164694016, 7.362010551259734, 10.071794697944505, 11.120682557031186, 10.5653762371933, 11.983953569262152, 8.235095497258357, 12.455523115497394, 10.599455750282775, 8.864181369765426, 7.674617497364363, 9.933580192843298, 6.698268054115413, 9.652330254766719, 11.329471266980338, 11.79066325655054, 9.703327837612294, 10.015833612367667, 10.51867319162636, 11.073613976078233, 14.418888379979283, 10.756114047641395, 13.463076608282796, 10.387702224875827, 12.369449207156356, 9.364005219520333, 13.38934465933207, 10.045984880764673, 12.928008914702389, 13.125354898340282, 10.298565567757805, 13.326216458247659, 14.306346921019152, 7.880804344674901, 9.992733930050322, 7.32052696227274, 10.704367432898955, 13.125352904312397, 6.940222469119639, 11.952688934903401, 9.410501846898468, 11.43017409217326, 6.20050917404269, 10.415921881641534, 11.722205358345263, 10.219173821397506, 12.571236456864812, 9.602855320908718, 10.489272214767574, 7.564757012905729, 9.292104673778823, 10.224556044005542, 8.589885876809678, 7.586803535162581, 10.468971801605917, 8.549466751966532, 11.71664151861834, 10.597509350506733, 6.996681488176539, 7.3783837129967145, 7.701652362642226, 10.952226590708511, 9.94755228369823, 8.973097896282471, 6.282266746896006, 7.795646536334594, 6.729824070489475, 6.6039438246004725, 8.440528106480752, 8.507748732588238, 7.405495663199472, 9.488275092973083, 12.119283062124346, 11.389932631855782, 9.476466781462246, 10.853174375028711, 15.247767756796991, 9.158836529109067, 12.23436365416966, 10.023268590855185, 10.050613617426421, 9.53892443574839, 11.73082328144437, 7.860570785538664, 8.655388690167637, 6.859614903654202, 12.562788588628429, 7.846198815497425, 8.959183074206774, 11.02901761855464, 9.443988555935478, 10.796407298087043, 10.35201215010474, 12.057920604506316, 8.341648618901306, 9.361601165816767, 9.231318778361375, 10.520104599106125, 6.502790045915623, 9.488123612248716, 7.053585727193677, 12.267290032802917, 12.314424682123954, 7.404279118037268, 10.631519134949576, 8.135639903354386, 9.376363155800634, 7.6004023345004, 10.023224234138462, 11.489493057987106, 7.831617276352611, 7.044032897274685, 9.476236852356042, 9.756610356675369, 9.073603848402712, 10.952261628023255, 6.285998094508865, 9.50599061407714, 9.634758073001034, 7.847762537473608, 8.550241045462437, 9.444067716830038, 10.63597563133453, 6.673297967767654, 8.579792333172758, 10.667209685765677, 14.63304823011885, 11.489646602563958, 12.111173881082943, 7.841492924460013, 11.354808596873092, 12.658100041107037, 9.187071745036828, 10.384245644679723, 8.312626025674962, 9.269646477873591, 9.140025198061156, 10.934267010894981, 11.799126441140212, 5.966146739123692, 6.993932975223189, 12.494809161860559, 12.7452466305116, 6.617402977974478, 12.058963780491961, 9.672815734801127, 8.060855752934316, 8.854379458771108, 8.507950610049305, 15.109821200467977, 16.689913828845352, 9.066585468331045, 6.9650803456014065, 8.730851903519232, 9.621190952360685, 11.449186624003222, 10.468943396953234, 12.404718565243984, 13.222101919341556, 8.54714026778419, 8.81001204797317, 10.597609258092302, 13.088941021240965, 7.826443135456014, 12.117164926164834, 10.381397345540462, 9.480367509189243, 12.377788156536903, 12.085389784441174, 9.771611931222546, 12.087868896386281, 11.561620386508986, 10.223394772282646, 11.185323768517204, 11.737923296044618, 12.158000473542655, 9.302463660851988, 9.439704535103449, 13.940821631152534, 10.916868696841577, 9.015784277513886, 8.262042843966942, 11.715849982303027, 10.21804278528445, 10.809303616116262, 8.48632152774915, 12.232222732074558, 11.10932361990884, 12.120890503560473, 8.597851094433691, 11.776089409608284, 12.435333448251539, 10.273360024718905, 11.003698562567935, 11.57634148133498, 10.218152296317795, 11.606014999146957, 10.554327260799823, 11.167176330688804, 10.186408307886198, 7.382746449738912, 9.856081430138858, 8.984192311641674, 8.934059722248843, 10.78365357369165, 6.933423025730715, 10.273152756513104, 9.350623917423238, 9.366403507607771, 11.258845788340366, 8.612321536507814, 10.190619473682428, 11.174216729248327, 9.253878673990666, 12.120852390795687, 10.240281166081672, 11.6589374006013, 10.469312594520723, 10.532549442567325, 12.587822080353991, 12.967242894136364, 7.3632795869630385, 10.547917066298643, 10.34621633183446, 12.514795548975682, 12.301950845798507, 12.900698731969518, 9.908375586608903, 11.677804108152463, 13.2140688863638, 10.78468982173779, 9.449750895754265, 6.559615237493242, 6.142037405587356, 8.738414897167749, 10.844022015780748, 10.315895172210867, 9.117786390365575, 10.825641064678658, 9.596214830319344, 9.395075679994072, 7.965545573129992, 12.50716563824089, 15.381182981378878, 7.528869256642251, 7.0925737159746784, 9.918425424900335, 10.935692909006638, 9.919656133697712, 9.46923709299621, 10.125710680390595, 8.699514748210191, 10.537707108065746, 15.247733373417532, 7.922261058353247, 8.932344569113823, 9.0455836463617, 9.215725844252521, 9.22197245620589, 8.166784289056151, 10.514800838871937, 10.043814552627406, 11.97463857261698, 8.361941906144946, 8.9237243977064, 6.19644412779452, 11.738122905608975, 10.024996969933325, 8.315566483564277, 7.889459149404524, 8.49596955496461, 8.93840040647301, 8.694167141883597, 6.695798917058491, 8.09559870137819, 7.775695749915245, 8.400659375160286, 8.4040244933106, 7.794411205726601, 11.09609096962448, 11.996850490338257, 8.06054004653864, 10.089718125826797, 8.319229938632326, 13.25381611111355, 11.710447572463863, 9.461721464701633, 10.833266902590838, 9.737610048158107, 13.399078026940124, 11.162175789050872, 9.65975856761281, 12.5072655344599, 11.877915740512675, 10.219720638027066, 7.820037989458753, 9.827631900232593, 12.943014198714481, 8.026496938945412, 9.930470223866015, 8.133000218583613, 8.973984926689743, 7.188412736496954, 11.744172097467565, 9.57456673206775, 7.502186486602924, 9.71534911042061, 7.970394907191429, 8.524764456912555, 10.36296724895053, 10.961867950316359, 12.71652219859044, 8.230843564198235, 9.082507000466299, 12.852620759711751, 10.367347347021374, 8.257385655730436, 12.204491396013843, 14.105374747865088, 15.10972252437218, 9.417679691745425, 9.01042494678118, 9.385889044482708, 9.979058739383202, 9.738671869871839, 11.6195711544383, 8.952993499320474, 8.687442166975924, 8.723882104658486, 6.7580945044277305, 9.066700921774572, 10.048885755225484, 11.155864732338893, 10.188177653501853, 7.790282380703483, 6.960347729101308, 10.133249156151914, 9.896966335545862, 11.991888835587435, 8.924523226133914, 10.738698372359542, 9.625161575008372, 6.570882962339584, 8.37655086161377, 9.27771860730613, 11.00955531330892, 12.679613760488895, 8.88391747120797, 15.381203040134316, 6.1224928095143865, 8.672314828283538, 10.21049419685733, 10.127470751247781, 16.68980498767962, 10.615235658245211, 8.365905077202456, 7.985824666418917, 10.654195843620604, 11.825266003087918, 10.864866366226208, 10.660641863070365, 12.535671313208214, 8.712101863715663, 11.632094206758914, 13.772574872839755, 11.779756660904539, 12.026754573755994, 10.446625465769365, 9.632138041371906, 10.788184412819104, 9.998615897627705, 9.398726833332388, 11.622963026179018, 12.43203621684763, 11.0815115806284, 13.39960261274164, 13.142934336908688, 10.664503639837902, 9.274066062856727, 11.269081633590115, 9.537339306804913, 9.281823473598047, 11.95725224742598, 10.240245462634501, 10.68313347871269, 13.028880926285849, 7.242797922793756, 10.021848199120974, 9.048879705849558, 9.868585500526864, 9.967119412780901, 9.941216769346136, 9.612600349135398, 7.453561871643373, 9.551444720923957, 9.52500511575785, 8.502079553606189, 8.780633799494984, 6.981934677156389, 9.112286431500795, 7.581719640125308, 12.170176001532411, 10.515993929932415, 7.145196134997171, 11.422552079120651, 11.787286707814165, 10.373053586050816, 10.037799890143722, 11.410250229606856, 8.94767606249969, 11.12877654403074, 10.51542467767053, 11.60627007794947, 11.384535120197711, 8.237479288613633, 9.628524252492122, 8.691146498539675, 9.67990640549087, 8.683554728631462, 13.399631411507237, 9.590624414887088, 7.971776122880628, 11.167360010069897, 9.329367078397823, 11.522846092411957, 8.098642843759418, 12.739901651061128, 12.432088069068811, 7.813187267521416, 13.142951970258446, 10.115731922981338, 11.268379507395583, 10.676208099877172, 14.133636235279043, 8.853379672927634, 11.88671413021784, 10.40586761271859, 11.078813938271942, 10.404171927225226, 13.329996867165315, 7.903596289614301, 13.323074799309875, 8.729882284826589, 8.217978203150732, 6.48768401848461, 8.20303024171486, 9.836813419268136, 12.565333243781819, 11.995654037615756, 10.166390133623686, 10.888595140407418, 9.26501793326688, 9.979939204696459, 7.975564658495202, 10.54368216814334, 9.671870704017296, 11.065387580440156, 10.555161484889497, 9.720585827477107, 12.616236696294804, 9.686201810706079, 11.09117852428778, 10.380497827807389, 10.699822890892243, 10.055306945596307, 11.164161999731368, 7.122866658599083, 9.231906149890744, 9.844639476726922, 9.37906997525067, 11.997417380284364, 13.69494390162818, 8.221478947267192, 9.205428327615163, 7.7823903355874595, 9.55463904484686, 14.16749331077175, 14.40629162405783, 10.940986558345775, 7.99260665240021, 10.60080104196549, 8.37378460812088, 12.933618837345596, 11.10321134257265, 9.781489395725279, 7.48324441607385, 11.217547185883976, 11.783166319802067, 8.105005537547246, 12.132878102227115, 10.62071740361203, 10.207436597451782, 12.4211517665623, 11.061107470117504, 10.942420605702637, 9.48562086171022, 11.029909541843505, 9.850930301797453, 11.046754481744669, 11.247357072763558, 11.266436518161028, 13.080695191631886, 12.360101889412958, 10.070737771809798, 9.489259158757807, 12.45558545186445, 13.6849951840081, 11.55980905086908, 12.270642416179474, 11.461516374404875, 8.439015410352214, 9.745019231764333, 10.741881605701801, 11.623938972319792, 13.152388090510025, 10.805172132020921, 10.284147541725321, 11.35934295703608, 11.829180416908198, 10.007442080255977, 15.544942570959288, 10.343708291934567, 9.433083843269053, 13.148023326851552, 6.684611727667927, 14.669679472784345, 13.758581411958094, 16.467689281474613, 10.198951765429964, 13.591374013795807, 14.927331559557889, 9.96815106586185, 9.561701221091147, 8.438149984075784, 15.316735445757985, 7.988882253309227, 15.61912316701776, 16.12340015715612, 13.611286891502575, 17.619535060191946, 16.956436949397567, 11.885095733867201, 14.074247482350266, 16.16527890569244, 11.799569498846337, 15.154612153394169, 9.234740258799718, 15.532161349371464, 12.481634058668876, 10.583549493547418, 10.68226181906351, 17.137365372908114, 14.015914308708945, 11.935955404257864, 9.60008251961911, 12.775191705421213, 13.41814605121201, 8.023879992734878, 16.159360811266108, 16.105655492054197, 15.942516989662135, 13.437830835864046, 13.673854823496333, 13.590517797917025, 8.81877816903701, 9.481740611853681, 12.932676362094346, 13.828885710484103, 13.926346854134033, 13.71957768432638, 12.63057211203532, 11.496023426894872, 10.237492462093485, 10.772644747276225, 7.904334842085095, 10.698152876286422, 7.644919344958857, 11.016002746373228, 8.83200393125627, 14.43679056160488, 9.834619673237327, 9.70625538300642, 11.176501227197052, 12.74009806086642, 10.312446549898548, 8.192570471152173, 7.253470382684528, 8.239857411018601, 10.844841560003951, 8.512381634419015, 8.085794701281568, 9.13701670755734, 11.04109617021092, 7.915348169263078, 8.923324744067562, 9.350189267092581, 7.906547232368036, 6.692083742506628, 7.426549072397305, 8.805075243870684, 7.570443252057374, 6.932447891572509, 8.583542571957771, 6.877296071497429, 8.065265208897733, 7.331714969726466, 11.248894812849729, 11.538534730476648, 10.165274727442542, 10.633207713326913, 9.701922012375412, 10.940277627560896, 9.867963996467081, 13.265699793295681, 12.253414141839224, 14.219903758451343, 10.631470847931531, 8.701346403039162, 11.213791401404334, 12.083187239895215, 9.236982302922604, 11.957604875954718, 10.945758740331856, 11.191521135113415, 12.231696531667767, 15.498936763962329, 10.815649773826504, 13.319872352619809, 10.878330171359899, 9.765087182800102, 13.217491722495906, 14.226385672229902, 9.419060402624668, 11.715245708270873, 9.976133742520982, 11.297018168695637, 10.524171561362358, 12.329594736812803, 10.966541745803523, 9.103311799217659, 11.97951702973897, 9.316320695513415, 9.640172836532642, 9.808847148382007, 10.517835002606233, 13.47956918041245, 8.807621489536043, 9.488350824731233, 7.13966033596492, 7.102499355774649, 11.980563799109678, 12.043347812482777, 10.561784455660327, 10.660172753900062, 10.181535869019624, 8.710454688248527, 12.5882008882739, 12.782464075096115, 10.542231344216686, 12.159442147601862, 9.16408698745872, 6.976348070447749, 9.384965722135666, 12.128424568438883, 6.885509670034818, 13.684986068642898, 10.852903534842111, 12.073169626865946, 12.78813182856623, 6.5998704992128365, 10.318473856527929, 10.357869800878907, 9.959253330441985, 9.672437829650821, 13.734157325261155, 8.62245370207373, 9.678216740205745, 10.611671117922187, 11.800642536809523, 10.515966830028619, 8.339023005744759, 11.5228163881182, 9.903887472557455, 9.504948404498696, 9.840174946324362, 8.938925271988273, 9.971333099431195, 12.151157008901794, 10.100246059905626, 9.769556079890267, 10.286843375056192, 10.16284730798332, 9.821463717057537, 10.986800060859236, 7.346655163176539, 9.454383987398135, 11.711087561983316, 12.17241761518975, 8.939056445334039, 9.890300990731953, 12.466916524027209, 9.83622532547696, 11.501045172939513, 10.878160393673937, 12.769020020418647, 10.010007395913801, 14.150513143748974, 11.378456490095658, 6.555356891810665, 13.787374423251201, 10.719383198355127, 12.785628306245144, 13.264227456567008, 14.652288708289872, 8.742414582525413, 13.921594312022146, 11.118548653847485, 8.644178203170727, 7.994632311431825, 11.952959457593531, 9.353141170607854, 8.617038526385954, 8.35490952835879, 13.985378219267465, 11.41216546181908, 7.955775781534187, 12.311819086709166, 13.229708123174897, 13.768307833146016, 10.358948446965533, 10.524977601331843, 10.982237212107986, 10.282197923335472, 6.159095388491933, 7.091742115095153, 6.576469569048224, 11.174174634324268, 12.027119409568973, 14.806897259476147, 5.575949103146316, 12.365662790322036, 8.36730010184162, 11.408475645613724, 11.337082874273984, 12.635898603884595, 15.349672832172503, 7.685243607975833, 13.213380719789384, 10.937721307268031, 13.467094274358033, 14.568201776720409, 11.022947673717075, 14.099943357240846, 6.680854678790215, 11.311384390838432, 6.411818267709897, 8.4069317971587, 7.526717561352706, 6.839476438228843, 9.120415664448196, 13.832768774520543, 8.305484017727691, 7.578145472419466, 9.85466488783856, 9.107088742165708, 8.39931015075952, 8.766861821669803, 13.476867767394271, 7.762596048540069, 8.261268150577648, 9.329278296047697, 7.938445551164788, 9.213834261230438, 16.92543966665984, 5.6131281063880705, 10.323611361652953, 10.016860879703811, 5.780743515792329, 9.604542287805636, 7.629975707027789, 6.716594773520978, 12.104576874339571, 12.967504446826709, 15.842355192765009, 7.613818684808629, 11.37315752257707, 7.029087564149662, 9.056256356593467, 8.382289428951436, 14.934854780551465, 7.057897937411856, 6.579251212010101, 6.218600119691729, 7.303843225277705, 8.798907492088226, 8.38548870041881, 6.522092798170152, 10.113262136111384, 9.531553927636756, 10.199621308677711, 13.2902664861599, 7.693481640835175, 7.60688453121963, 7.461065514354283, 4.941642422609304, 6.508769136971682, 7.839131648274333, 6.829793737512425, 11.963121716908503, 11.061625820518264, 9.889743534743868, 8.459352191726387, 10.391975538580404, 7.731930721948486, 12.01994184276226, 11.799456875664614, 6.429719478039138, 6.705639094860003, 10.539773333966417, 8.180320874773685, 10.79812554671483, 11.406975886960348, 6.144185634125646, 10.329735199826821, 8.917578753781104, 9.0595174822416, 10.29231501949127, 10.197425019150417, 8.73020559553099, 8.285261134068948, 8.445911989411274, 9.13938128303569, 7.29641326877392, 11.91053311730021, 5.869296913133774, 7.4377951216719325, 9.340754410698116, 13.804609355175643, 12.950388112664518, 13.705827379714426, 14.279954385114111, 14.436540706210748, 13.829282290822468, 13.544627914910427, 11.42049214303914, 13.888986830637885, 15.217891828112087, 16.105361920038668, 9.635673464721814, 9.22601685136119, 15.238068861449621, 13.971624167127423, 15.201913163225557, 10.072470544890901, 12.732128695286207, 12.143622608656969, 6.756932389247553, 9.644911105223, 11.460684353124538, 11.063085182267388, 15.49797492935605, 14.225487472548961, 9.273972232220956, 13.51010433668264, 8.31434234336979, 13.765703526960962, 9.761347785375005, 10.209353295421538, 14.994017235614939, 11.908582632087308, 9.548668029096856, 6.85751406254539, 11.302043926946903, 15.419378989593506, 10.213725810701272, 7.333676395657684, 6.771935555839602, 11.425350292714276, 8.965845494750937, 7.77779262633883, 6.530877627725885, 8.999125391527247, 11.36026367619439, 6.410174881966167, 5.929589143389895, 10.764328997415893, 7.642044402873258, 7.919719760924575, 16.003969159488598, 8.32239411311117, 7.529406457837013, 9.770298958292383, 12.80472781149734, 14.494445724586035, 12.629204113811793, 12.919737883679515, 14.367154656244324, 15.443072827441439, 14.766677965925728, 15.257707113655432, 15.909365476078381, 13.370744173457698, 14.933496296877946, 9.696278864234223, 8.446770727119691, 12.257402439251615, 15.64017903646072, 10.64344675154854, 10.293635956532398, 7.487733761436444, 15.637094166397192, 10.020648172309706, 9.894244971169195, 8.301769763117166, 9.644652054641927, 11.54310543347136, 8.32069157104845, 6.431331081933479, 8.086410275323782, 14.30627530108956, 9.252057965328051, 14.376278253627746, 12.093592400196163, 7.805474625270857, 9.89131375160442, 8.049746290952191, 8.916371914881694, 8.441391477999955, 9.004176840696656, 14.131789562441737, 12.908949835644629, 12.426444358848366, 15.144658211058056, 10.30440902059442, 12.43024366881423, 11.790670831476021, 11.50580014002764, 14.211467943920253, 6.655440350367647, 11.412751475999702, 9.148464968258095, 13.703947512996569, 7.171656822768514, 8.423102268016642, 9.451402423792738, 14.982886180666519, 8.279697133877628, 7.018401799069201, 6.408528791059498, 9.151969458649853, 9.48006211905097, 8.7787879291047, 9.921720320797188, 8.62317351495347, 7.268920128193722, 13.540860531646404, 11.66570663601972, 15.123079301999228, 15.390441287089011, 13.936670108993567, 11.080356339170006, 13.661444041261868, 7.632885505395133, 9.448017793067429, 6.9411900550683745, 13.804797376214335, 8.32263709695394, 8.950921764797261, 10.047111592619004, 14.436791098861043, 9.053686561930807, 10.693557248751725, 8.541495483939203, 12.11078896537473, 9.864330837334935, 11.500002319679739, 11.603679828238693, 9.959820625876288, 10.336794779872381, 10.828222531192946, 10.385851971480083, 10.570111070155717, 11.868037187715125, 12.466319284795885, 9.991544216356411, 9.244645175668174, 10.744041293818528, 10.603833757822766, 10.81335771660736, 8.125039097367745, 9.261508658550582, 8.158229916959494, 7.530479995245536, 11.218232204815942, 8.044305406990638, 10.373022321884237, 8.389359819906353, 9.365376374075716, 14.965464356524215, 10.935140614744478, 9.6614159913364, 15.64200650244452, 10.477203464850332, 12.56300555619263, 7.772752716468742, 11.280501483369353, 12.559279081142552, 11.11350703877837, 10.739717243235356, 11.531580375067394, 10.258466058337035, 10.525487757477535, 12.559265032400441, 8.13739583005665, 8.880863609867356, 7.731053144007127, 8.54110501146255, 10.58998769037428, 7.351158226430694, 9.73896662036768, 10.645091508364267, 12.134125414216786, 9.479221814964246, 10.705220043509515, 8.332789468417959, 13.720324770422911, 12.54049993552972, 10.421775265533249, 11.453228537712102, 11.46709092862643, 12.110651459564894, 8.434246270595311, 11.19266510287629, 11.612091836464728, 10.179640924163953, 8.391629968440892, 15.49893936427013, 10.803872454726505, 11.967218831760315, 10.456021178201889, 13.362711674637252, 11.266257368609061, 9.462265724715845, 12.279987384729896, 15.397599267193886, 13.656103252926204, 14.217296238607034, 13.61678397149699, 10.417478162445276, 12.769267734404222, 13.077012392472408, 11.746708218721976, 9.643809676493944, 14.21477783245329, 13.96671289569936, 11.649900919997306, 14.965497287727452, 15.842942627810071, 12.029645681438486, 13.606903340352158, 13.888088860770154, 11.448130911059064, 15.39760440581381, 12.192455349570988, 9.979429556111285, 12.636077509018186, 10.401106348814837, 12.769264887465607, 11.3948173764899, 8.675051276031818, 11.855926343554142, 12.358961100515288, 10.260392470028915, 13.96311816421041, 10.885959206069424, 11.668903046424582, 9.986449073250474, 11.041657036202691, 11.158946882579238, 13.64964367738628, 12.436989903142344, 12.390371413020816, 14.965429207601233, 10.92282211863275, 12.704299233719649, 10.661415412410987, 13.606877468836265, 10.06219924369095, 10.299137987255902, 9.62231756369957, 10.483578010803777, 11.183003726910572, 15.397596389555195, 11.571948805419689, 10.713105797383161, 11.769673990652084, 11.61787989818774, 10.810798082829503, 11.775912612328964, 13.043649120282824, 12.663206310939287, 10.6659508856554, 15.641838750703823, 11.216659993654583, 10.892043130478765, 12.850126741044791, 7.110696122978827, 7.607878073278507, 5.799092654460526, 6.274762021241939, 12.242269560841992, 10.36135533943734, 8.239065331769268, 10.735613760377523, 8.302513718514158, 10.80309997135747, 10.020914969412093, 8.50086053679534, 9.529666449762425, 8.713746330456916, 7.090076835776092, 11.244784547725283, 12.511514819565502, 12.324313354216054, 10.40961214374347, 10.910861360769967, 10.14886215269166, 9.705280486511949, 7.827240901752812, 11.285497749716967, 14.045887882340363, 11.01142291266509, 10.00324238567312, 9.268609280100158, 7.734996194022781, 12.272492208897999, 8.33375100695358, 9.961237458077031, 7.465082736399547, 9.278933163441794, 6.551080335043404, 6.220590170099739, 10.747315112676567, 10.19846792746902, 11.513745128953905, 11.18673815668355, 8.705331133531631, 9.204825191288073, 8.370547611074752, 11.549787629702795, 12.566878545309697, 6.476972362889683, 8.159946655578548, 8.023552392404348, 7.465655310134056, 6.270988431858299, 7.23561914106675, 6.349138991379798, 7.677400430514807, 7.989899374942939, 8.616314282284044, 7.653494909661253, 6.0112671744041615, 8.48714627006394, 9.599676098154463, 7.3427791893318455, 12.351578927117231, 9.489713016556824, 13.081349697847005, 13.201045159438523, 10.479061050523804, 11.578694478741127, 9.084777149000837, 10.523687625340008, 10.154790869644193, 10.697723638402977, 9.812029942047293, 10.663124474364906, 13.403454275713313, 10.336373256220284, 12.813907005736072, 12.148660670134445, 11.999386672283602, 12.05282822159563, 12.405501206225887, 11.86718148567165, 11.600240129296937, 11.81334852522283, 11.59535301894354, 10.794091177474298, 12.638614513758913, 12.092327073337907, 9.818147505369113, 9.125762395500885, 10.05134705577498, 9.207837241758064, 8.96098117384356, 9.179984251961283, 10.358345817580213, 13.662269630853158, 13.720348967120064, 13.788416814966158, 13.961343599085158, 9.882417121916836, 11.278834711091312, 12.853489974383944, 12.930536790596069, 14.04650243047628, 13.961344463386778, 11.8351973521903, 8.355379895253634, 12.643914587967513, 13.081351781577549, 10.849375920849226, 10.974060384172992, 14.046538148404661, 11.99294130434269, 10.5703164247782, 10.411779970443762, 10.84941475353859, 13.655875700822829, 13.710221150889284, 8.209852481301272, 12.85349259135948, 7.62657020629066, 11.27884734860324, 13.344797877401056, 11.860853263937273, 15.64183214953205, 11.45417283987406, 13.31916788149821, 11.50001244969853, 13.204055800471892, 13.044838497340903, 10.592450993449742, 13.593683639508495, 11.091285242179136, 13.91745323947558, 12.722229035480966, 10.431936961055667, 9.66097003203872, 10.79914691380121, 9.158625936289503, 12.968235030661019, 12.326270540842277, 13.069888332392908, 10.624663238817353, 11.2297133871899, 13.52146830235981, 12.060989068341023, 11.131796808473668, 8.874308038583354, 10.812894646443958, 7.452402451223638, 10.398000850809813, 11.541736414824339, 15.71803232690911, 8.933664178700935, 8.53168763756669, 9.657139343577324, 13.947893165988372, 10.291636938434605, 11.866346119448382, 11.180078648564056, 12.518263167273844, 10.613393516911028, 10.092081066090932, 11.948454102292779, 9.585483720197958, 5.877735781779639, 12.007603413956096, 8.599878558034845, 13.81836747309313, 11.682153339086335, 11.001649739923852, 10.37695392954475, 11.162005358713861, 13.68410946606559, 12.243878897265928, 12.021951470394075, 12.168687446789164, 10.90056533037994, 14.105040172658331, 11.908380640449074, 11.936178099526511, 10.783342489769069, 9.424483541093094, 11.35494914336493, 10.419569338447822, 11.416755916013987, 11.358129577040982, 10.096790261839317, 13.264650823660357, 11.392733279641822, 10.948136318260808, 9.857234168018666, 13.92561351047058, 11.65139091508848, 11.038254962793788, 12.218366762223651, 12.605925366952206, 9.407550541263888, 11.682322188127252, 11.630521816535554, 11.147887073270219, 13.506043574790093, 11.967148990712163, 11.367680015613487, 13.091864993894518, 11.260919368970917, 10.406502754210141, 10.484892788250326, 12.57846689132745, 11.148909354774602, 9.249657234353133, 10.268338977758996, 9.336356092559043, 11.108409905897652, 10.15840105193914, 12.435659394791243, 13.34538532132466, 10.842420014891108, 8.913953858894255, 9.393328373313297, 13.987911400133163, 9.015055148790369, 14.995056234455642, 9.175024026848615, 10.979769020719225, 7.664346632098617, 10.969094439590254, 11.634939537154429, 11.06074603663697, 12.520861487320229, 15.570509392230441, 10.766229817452608, 10.924588648762628, 7.726212650507529, 13.384062805532494, 8.754949455098293, 8.596558746796978, 8.460411177317253, 10.691035408517557, 15.002502703492821, 5.43372200355424, 8.798756582859841, 9.286930974137896, 10.282026722705035, 12.593716562001331, 9.847869128773116, 7.628517626575055, 11.352580640979642, 11.104250209849171, 9.400051227201992, 7.947325027016463, 11.400226981044614, 10.325416386674958, 11.491599678255476, 10.128110009729737, 10.978780035882622, 10.525058169606785, 7.372118028337787, 9.826228466989177, 9.169726689090886, 11.804288255261582, 7.520234556474628, 9.313348122050412, 8.127699852817772, 9.319284458965361, 10.29799282040795, 10.82011822662338, 11.061154603985553, 12.080792829103416, 10.823351891463572, 7.414572881350589, 5.8888779583328805, 10.089219952452165, 11.804348033037718, 6.897704943128636, 10.385481509633417, 10.47429759323113, 10.271423848751878, 10.437726922711134, 8.308199063206446, 8.61558951327243, 8.35983738064003, 12.745229133464226, 13.409826925981507, 7.987184748233473, 11.592826624164713, 11.14091931060573, 11.300969103046583, 8.614501373883236, 11.82500254475672, 10.803445629789385, 7.55171221535131, 8.928375259853631, 11.753696731152688, 7.61085279039525, 13.7233897865853, 7.457609289715606, 12.745220384825732, 10.937916812427325, 11.58732767954469, 11.527370629401725, 11.243030918966566, 10.593580072366844, 11.937323541284952, 11.060054234464793, 11.818665997483636, 12.08078149438347, 9.681343501555002, 9.209540051805414, 8.296795865770052, 10.133487544646824, 9.555559953069064, 7.818832443803404, 12.10590971013078, 6.856461984594587, 12.356314266360716, 7.416979621381154, 7.818430272070656, 8.61431990214696, 8.422662707570003, 12.57352084895014, 10.683064691094435, 11.270114777180543, 6.62273632394984, 11.077717387662826, 12.284828371551832, 13.084754963797321, 8.701512750872865, 10.658341122532052, 10.097449430486758, 9.800291359707678, 10.03223250842669, 10.7743624208798, 8.949624747754216, 9.58493381641726, 11.812251977016725, 7.3833681469923835, 9.832098956448474, 9.018937706446035, 9.752780935111424, 9.554922491560776, 6.7912214627261855, 11.916542199220771, 8.819073983267831, 11.698350534216814, 10.602243971860585, 9.81432841621631, 10.562431411754575, 10.094066588976938, 16.361799424873844, 10.173094754260378, 10.732868720419352, 10.150035081629355, 9.716495104092274, 15.868440374095599, 12.66218333830723, 9.41041998369184, 10.155801481150117, 9.919016354153754, 9.725197856855544, 9.791549899295264, 9.791326185647797, 10.42768339524029, 12.16858363211902, 13.529894350143948, 10.117832509493988, 10.400072254011777, 11.498674399200368, 11.825053778201925, 8.625509334899697, 9.098402718735318, 11.039267165545677, 7.919356190660617, 8.865170419651774, 12.433355617608647, 9.32206062158659, 10.224120725127595, 13.084757040444284, 11.92458468324172, 8.402455513945814, 10.191107123034703, 9.49363784611014, 10.798145984283169, 9.660141293904399, 8.53934599605737, 10.323742746116928, 12.015511234184041, 13.338335676646182, 10.47897668962784, 12.894978343707745]\n"
     ]
    }
   ],
   "source": [
    "su1 = df1['Reviews'].value_counts().index.tolist()\n",
    "print(su1)"
   ]
  },
  {
   "cell_type": "code",
   "execution_count": 45,
   "metadata": {},
   "outputs": [],
   "source": [
    "df1.replace([np.inf, -np.inf], 0, inplace=True)"
   ]
  },
  {
   "cell_type": "code",
   "execution_count": 46,
   "metadata": {},
   "outputs": [
    {
     "data": {
      "text/html": [
       "<div>\n",
       "<style scoped>\n",
       "    .dataframe tbody tr th:only-of-type {\n",
       "        vertical-align: middle;\n",
       "    }\n",
       "\n",
       "    .dataframe tbody tr th {\n",
       "        vertical-align: top;\n",
       "    }\n",
       "\n",
       "    .dataframe thead th {\n",
       "        text-align: right;\n",
       "    }\n",
       "</style>\n",
       "<table border=\"1\" class=\"dataframe\">\n",
       "  <thead>\n",
       "    <tr style=\"text-align: right;\">\n",
       "      <th></th>\n",
       "      <th>Category</th>\n",
       "      <th>Reviews</th>\n",
       "      <th>Size</th>\n",
       "      <th>Installs</th>\n",
       "      <th>Type</th>\n",
       "      <th>Price</th>\n",
       "      <th>Content Rating</th>\n",
       "      <th>Rating_category</th>\n",
       "    </tr>\n",
       "  </thead>\n",
       "  <tbody>\n",
       "    <tr>\n",
       "      <th>0</th>\n",
       "      <td>ART_AND_DESIGN</td>\n",
       "      <td>5.068904</td>\n",
       "      <td>19000000</td>\n",
       "      <td>10000</td>\n",
       "      <td>Free</td>\n",
       "      <td>0</td>\n",
       "      <td>Everyone</td>\n",
       "      <td>High</td>\n",
       "    </tr>\n",
       "    <tr>\n",
       "      <th>1</th>\n",
       "      <td>ART_AND_DESIGN</td>\n",
       "      <td>6.874198</td>\n",
       "      <td>14000000</td>\n",
       "      <td>500000</td>\n",
       "      <td>Free</td>\n",
       "      <td>0</td>\n",
       "      <td>Everyone</td>\n",
       "      <td>High</td>\n",
       "    </tr>\n",
       "    <tr>\n",
       "      <th>2</th>\n",
       "      <td>ART_AND_DESIGN</td>\n",
       "      <td>11.379508</td>\n",
       "      <td>8700000</td>\n",
       "      <td>5000000</td>\n",
       "      <td>Free</td>\n",
       "      <td>0</td>\n",
       "      <td>Everyone</td>\n",
       "      <td>High</td>\n",
       "    </tr>\n",
       "    <tr>\n",
       "      <th>3</th>\n",
       "      <td>ART_AND_DESIGN</td>\n",
       "      <td>12.281384</td>\n",
       "      <td>25000000</td>\n",
       "      <td>50000000</td>\n",
       "      <td>Free</td>\n",
       "      <td>0</td>\n",
       "      <td>Teen</td>\n",
       "      <td>High</td>\n",
       "    </tr>\n",
       "    <tr>\n",
       "      <th>4</th>\n",
       "      <td>ART_AND_DESIGN</td>\n",
       "      <td>6.874198</td>\n",
       "      <td>2800000</td>\n",
       "      <td>100000</td>\n",
       "      <td>Free</td>\n",
       "      <td>0</td>\n",
       "      <td>Everyone</td>\n",
       "      <td>High</td>\n",
       "    </tr>\n",
       "    <tr>\n",
       "      <th>...</th>\n",
       "      <td>...</td>\n",
       "      <td>...</td>\n",
       "      <td>...</td>\n",
       "      <td>...</td>\n",
       "      <td>...</td>\n",
       "      <td>...</td>\n",
       "      <td>...</td>\n",
       "      <td>...</td>\n",
       "    </tr>\n",
       "    <tr>\n",
       "      <th>10835</th>\n",
       "      <td>BUSINESS</td>\n",
       "      <td>0.000000</td>\n",
       "      <td>9600000</td>\n",
       "      <td>10</td>\n",
       "      <td>Free</td>\n",
       "      <td>0</td>\n",
       "      <td>Everyone</td>\n",
       "      <td>Low</td>\n",
       "    </tr>\n",
       "    <tr>\n",
       "      <th>10836</th>\n",
       "      <td>FAMILY</td>\n",
       "      <td>3.637586</td>\n",
       "      <td>53000000</td>\n",
       "      <td>5000</td>\n",
       "      <td>Free</td>\n",
       "      <td>0</td>\n",
       "      <td>Everyone</td>\n",
       "      <td>High</td>\n",
       "    </tr>\n",
       "    <tr>\n",
       "      <th>10837</th>\n",
       "      <td>FAMILY</td>\n",
       "      <td>1.386294</td>\n",
       "      <td>3600000</td>\n",
       "      <td>100</td>\n",
       "      <td>Free</td>\n",
       "      <td>0</td>\n",
       "      <td>Everyone</td>\n",
       "      <td>High</td>\n",
       "    </tr>\n",
       "    <tr>\n",
       "      <th>10838</th>\n",
       "      <td>MEDICAL</td>\n",
       "      <td>1.098612</td>\n",
       "      <td>9500000</td>\n",
       "      <td>1000</td>\n",
       "      <td>Free</td>\n",
       "      <td>0</td>\n",
       "      <td>Everyone</td>\n",
       "      <td>Low</td>\n",
       "    </tr>\n",
       "    <tr>\n",
       "      <th>10840</th>\n",
       "      <td>LIFESTYLE</td>\n",
       "      <td>12.894978</td>\n",
       "      <td>19000000</td>\n",
       "      <td>10000000</td>\n",
       "      <td>Free</td>\n",
       "      <td>0</td>\n",
       "      <td>Everyone</td>\n",
       "      <td>High</td>\n",
       "    </tr>\n",
       "  </tbody>\n",
       "</table>\n",
       "<p>8831 rows × 8 columns</p>\n",
       "</div>"
      ],
      "text/plain": [
       "             Category    Reviews      Size  Installs  Type Price  \\\n",
       "0      ART_AND_DESIGN   5.068904  19000000     10000  Free     0   \n",
       "1      ART_AND_DESIGN   6.874198  14000000    500000  Free     0   \n",
       "2      ART_AND_DESIGN  11.379508   8700000   5000000  Free     0   \n",
       "3      ART_AND_DESIGN  12.281384  25000000  50000000  Free     0   \n",
       "4      ART_AND_DESIGN   6.874198   2800000    100000  Free     0   \n",
       "...               ...        ...       ...       ...   ...   ...   \n",
       "10835        BUSINESS   0.000000   9600000        10  Free     0   \n",
       "10836          FAMILY   3.637586  53000000      5000  Free     0   \n",
       "10837          FAMILY   1.386294   3600000       100  Free     0   \n",
       "10838         MEDICAL   1.098612   9500000      1000  Free     0   \n",
       "10840       LIFESTYLE  12.894978  19000000  10000000  Free     0   \n",
       "\n",
       "      Content Rating Rating_category  \n",
       "0           Everyone            High  \n",
       "1           Everyone            High  \n",
       "2           Everyone            High  \n",
       "3               Teen            High  \n",
       "4           Everyone            High  \n",
       "...              ...             ...  \n",
       "10835       Everyone             Low  \n",
       "10836       Everyone            High  \n",
       "10837       Everyone            High  \n",
       "10838       Everyone             Low  \n",
       "10840       Everyone            High  \n",
       "\n",
       "[8831 rows x 8 columns]"
      ]
     },
     "execution_count": 46,
     "metadata": {},
     "output_type": "execute_result"
    }
   ],
   "source": [
    "df1"
   ]
  },
  {
   "cell_type": "code",
   "execution_count": 47,
   "metadata": {},
   "outputs": [],
   "source": [
    "df1[\"Category\"] = df1[\"Category\"].map({'ART_AND_DESIGN':1, 'AUTO_AND_VEHICLES':2, 'BEAUTY':3,\n",
    "       'BOOKS_AND_REFERENCE':4, 'BUSINESS':5, 'COMICS':6, 'COMMUNICATION':7,\n",
    "       'DATING':8, 'EDUCATION':9, 'ENTERTAINMENT':10, 'EVENTS':11, 'FINANCE':12,\n",
    "       'FOOD_AND_DRINK':13, 'HEALTH_AND_FITNESS':14, 'HOUSE_AND_HOME':15,\n",
    "       'LIBRARIES_AND_DEMO':16, 'LIFESTYLE':17, 'GAME':18, 'FAMILY':19, 'MEDICAL':20,\n",
    "       'SOCIAL':21, 'SHOPPING':22, 'PHOTOGRAPHY':23, 'SPORTS':24, 'TRAVEL_AND_LOCAL':25,\n",
    "       'TOOLS':26, 'PERSONALIZATION':27, 'PRODUCTIVITY':28, 'PARENTING':29, 'WEATHER':30,\n",
    "       'VIDEO_PLAYERS':31, 'NEWS_AND_MAGAZINES':32, 'MAPS_AND_NAVIGATION':33})"
   ]
  },
  {
   "cell_type": "code",
   "execution_count": 48,
   "metadata": {},
   "outputs": [
    {
     "data": {
      "text/plain": [
       "array([ 1,  2,  3,  4,  5,  6,  7,  8,  9, 10, 11, 12, 13, 14, 15, 16, 17,\n",
       "       18, 19, 20, 21, 22, 23, 24, 25, 26, 27, 28, 29, 30, 31, 32, 33],\n",
       "      dtype=int64)"
      ]
     },
     "execution_count": 48,
     "metadata": {},
     "output_type": "execute_result"
    }
   ],
   "source": [
    "df1[\"Category\"].unique()"
   ]
  },
  {
   "cell_type": "code",
   "execution_count": 49,
   "metadata": {},
   "outputs": [],
   "source": [
    "df1[\"Type\"] = df1[\"Type\"].map({'Free':1,'Paid':2})"
   ]
  },
  {
   "cell_type": "code",
   "execution_count": 50,
   "metadata": {},
   "outputs": [
    {
     "data": {
      "text/plain": [
       "array([1, 2], dtype=int64)"
      ]
     },
     "execution_count": 50,
     "metadata": {},
     "output_type": "execute_result"
    }
   ],
   "source": [
    "df1[\"Type\"].unique()"
   ]
  },
  {
   "cell_type": "code",
   "execution_count": 51,
   "metadata": {},
   "outputs": [],
   "source": [
    "df1[\"Content Rating\"] = df1[\"Content Rating\"].map({'Everyone':1, 'Teen':2, 'Everyone 10+':3, 'Mature 17+':4,\n",
    "       'Adults only 18+':5, 'Unrated':6})"
   ]
  },
  {
   "cell_type": "code",
   "execution_count": 52,
   "metadata": {},
   "outputs": [
    {
     "data": {
      "text/plain": [
       "array([1, 2, 3, 4, 5, 6], dtype=int64)"
      ]
     },
     "execution_count": 52,
     "metadata": {},
     "output_type": "execute_result"
    }
   ],
   "source": [
    "df1[\"Content Rating\"].unique()"
   ]
  },
  {
   "cell_type": "code",
   "execution_count": 53,
   "metadata": {},
   "outputs": [],
   "source": [
    "df1[\"Rating_category\"]= df1[\"Rating_category\"].map({'High':1,'Low':2})"
   ]
  },
  {
   "cell_type": "code",
   "execution_count": 54,
   "metadata": {},
   "outputs": [
    {
     "data": {
      "text/plain": [
       "array([1, 2], dtype=int64)"
      ]
     },
     "execution_count": 54,
     "metadata": {},
     "output_type": "execute_result"
    }
   ],
   "source": [
    "df1[\"Rating_category\"].unique()"
   ]
  },
  {
   "cell_type": "markdown",
   "metadata": {},
   "source": [
    "### <font color='purple'><b>14. Segregate the target and independent features (Hint: Use Rating_category as the target."
   ]
  },
  {
   "cell_type": "code",
   "execution_count": 55,
   "metadata": {},
   "outputs": [],
   "source": [
    "Y=df1[[\"Rating_category\"]]\n",
    "X=df1.drop(\"Rating_category\",axis=1)"
   ]
  },
  {
   "cell_type": "markdown",
   "metadata": {},
   "source": [
    "### <font color='purple'><b>15. Split the dataset into train and test."
   ]
  },
  {
   "cell_type": "code",
   "execution_count": 56,
   "metadata": {},
   "outputs": [],
   "source": [
    "X_train,X_test,Y_train,Y_test=train_test_split(X,Y,test_size=0.30,random_state=1)"
   ]
  },
  {
   "cell_type": "code",
   "execution_count": 57,
   "metadata": {},
   "outputs": [
    {
     "data": {
      "text/html": [
       "<div>\n",
       "<style scoped>\n",
       "    .dataframe tbody tr th:only-of-type {\n",
       "        vertical-align: middle;\n",
       "    }\n",
       "\n",
       "    .dataframe tbody tr th {\n",
       "        vertical-align: top;\n",
       "    }\n",
       "\n",
       "    .dataframe thead th {\n",
       "        text-align: right;\n",
       "    }\n",
       "</style>\n",
       "<table border=\"1\" class=\"dataframe\">\n",
       "  <thead>\n",
       "    <tr style=\"text-align: right;\">\n",
       "      <th></th>\n",
       "      <th>Category</th>\n",
       "      <th>Reviews</th>\n",
       "      <th>Size</th>\n",
       "      <th>Installs</th>\n",
       "      <th>Type</th>\n",
       "      <th>Price</th>\n",
       "      <th>Content Rating</th>\n",
       "    </tr>\n",
       "  </thead>\n",
       "  <tbody>\n",
       "    <tr>\n",
       "      <th>4386</th>\n",
       "      <td>17</td>\n",
       "      <td>6.313548</td>\n",
       "      <td>22000000</td>\n",
       "      <td>10000</td>\n",
       "      <td>1</td>\n",
       "      <td>0</td>\n",
       "      <td>1</td>\n",
       "    </tr>\n",
       "    <tr>\n",
       "      <th>2460</th>\n",
       "      <td>20</td>\n",
       "      <td>0.000000</td>\n",
       "      <td>4600000</td>\n",
       "      <td>10</td>\n",
       "      <td>1</td>\n",
       "      <td>0</td>\n",
       "      <td>1</td>\n",
       "    </tr>\n",
       "    <tr>\n",
       "      <th>3691</th>\n",
       "      <td>31</td>\n",
       "      <td>10.162847</td>\n",
       "      <td>6100000</td>\n",
       "      <td>50000000</td>\n",
       "      <td>1</td>\n",
       "      <td>0</td>\n",
       "      <td>1</td>\n",
       "    </tr>\n",
       "    <tr>\n",
       "      <th>5677</th>\n",
       "      <td>21</td>\n",
       "      <td>4.477337</td>\n",
       "      <td>4300000</td>\n",
       "      <td>1000</td>\n",
       "      <td>1</td>\n",
       "      <td>0</td>\n",
       "      <td>1</td>\n",
       "    </tr>\n",
       "    <tr>\n",
       "      <th>6591</th>\n",
       "      <td>20</td>\n",
       "      <td>8.107720</td>\n",
       "      <td>8300000</td>\n",
       "      <td>100000</td>\n",
       "      <td>1</td>\n",
       "      <td>0</td>\n",
       "      <td>1</td>\n",
       "    </tr>\n",
       "    <tr>\n",
       "      <th>...</th>\n",
       "      <td>...</td>\n",
       "      <td>...</td>\n",
       "      <td>...</td>\n",
       "      <td>...</td>\n",
       "      <td>...</td>\n",
       "      <td>...</td>\n",
       "      <td>...</td>\n",
       "    </tr>\n",
       "    <tr>\n",
       "      <th>4337</th>\n",
       "      <td>19</td>\n",
       "      <td>8.354910</td>\n",
       "      <td>13000000</td>\n",
       "      <td>1000000</td>\n",
       "      <td>1</td>\n",
       "      <td>0</td>\n",
       "      <td>1</td>\n",
       "    </tr>\n",
       "    <tr>\n",
       "      <th>9739</th>\n",
       "      <td>17</td>\n",
       "      <td>0.693147</td>\n",
       "      <td>28000000</td>\n",
       "      <td>500</td>\n",
       "      <td>1</td>\n",
       "      <td>0</td>\n",
       "      <td>1</td>\n",
       "    </tr>\n",
       "    <tr>\n",
       "      <th>1394</th>\n",
       "      <td>14</td>\n",
       "      <td>10.089718</td>\n",
       "      <td>18000000</td>\n",
       "      <td>1000000</td>\n",
       "      <td>1</td>\n",
       "      <td>0</td>\n",
       "      <td>1</td>\n",
       "    </tr>\n",
       "    <tr>\n",
       "      <th>6906</th>\n",
       "      <td>12</td>\n",
       "      <td>4.564348</td>\n",
       "      <td>7200000</td>\n",
       "      <td>10000</td>\n",
       "      <td>1</td>\n",
       "      <td>0</td>\n",
       "      <td>1</td>\n",
       "    </tr>\n",
       "    <tr>\n",
       "      <th>325</th>\n",
       "      <td>6</td>\n",
       "      <td>4.828314</td>\n",
       "      <td>4700000</td>\n",
       "      <td>5000</td>\n",
       "      <td>1</td>\n",
       "      <td>0</td>\n",
       "      <td>2</td>\n",
       "    </tr>\n",
       "  </tbody>\n",
       "</table>\n",
       "<p>6181 rows × 7 columns</p>\n",
       "</div>"
      ],
      "text/plain": [
       "      Category    Reviews      Size  Installs  Type Price  Content Rating\n",
       "4386        17   6.313548  22000000     10000     1     0               1\n",
       "2460        20   0.000000   4600000        10     1     0               1\n",
       "3691        31  10.162847   6100000  50000000     1     0               1\n",
       "5677        21   4.477337   4300000      1000     1     0               1\n",
       "6591        20   8.107720   8300000    100000     1     0               1\n",
       "...        ...        ...       ...       ...   ...   ...             ...\n",
       "4337        19   8.354910  13000000   1000000     1     0               1\n",
       "9739        17   0.693147  28000000       500     1     0               1\n",
       "1394        14  10.089718  18000000   1000000     1     0               1\n",
       "6906        12   4.564348   7200000     10000     1     0               1\n",
       "325          6   4.828314   4700000      5000     1     0               2\n",
       "\n",
       "[6181 rows x 7 columns]"
      ]
     },
     "execution_count": 57,
     "metadata": {},
     "output_type": "execute_result"
    }
   ],
   "source": [
    "X_train"
   ]
  },
  {
   "cell_type": "code",
   "execution_count": 58,
   "metadata": {},
   "outputs": [
    {
     "data": {
      "text/html": [
       "<div>\n",
       "<style scoped>\n",
       "    .dataframe tbody tr th:only-of-type {\n",
       "        vertical-align: middle;\n",
       "    }\n",
       "\n",
       "    .dataframe tbody tr th {\n",
       "        vertical-align: top;\n",
       "    }\n",
       "\n",
       "    .dataframe thead th {\n",
       "        text-align: right;\n",
       "    }\n",
       "</style>\n",
       "<table border=\"1\" class=\"dataframe\">\n",
       "  <thead>\n",
       "    <tr style=\"text-align: right;\">\n",
       "      <th></th>\n",
       "      <th>Category</th>\n",
       "      <th>Reviews</th>\n",
       "      <th>Size</th>\n",
       "      <th>Installs</th>\n",
       "      <th>Type</th>\n",
       "      <th>Price</th>\n",
       "      <th>Content Rating</th>\n",
       "    </tr>\n",
       "  </thead>\n",
       "  <tbody>\n",
       "    <tr>\n",
       "      <th>4789</th>\n",
       "      <td>26</td>\n",
       "      <td>4.477337</td>\n",
       "      <td>2000000</td>\n",
       "      <td>10000</td>\n",
       "      <td>2</td>\n",
       "      <td>1.99</td>\n",
       "      <td>1</td>\n",
       "    </tr>\n",
       "    <tr>\n",
       "      <th>4903</th>\n",
       "      <td>26</td>\n",
       "      <td>10.304074</td>\n",
       "      <td>5000000</td>\n",
       "      <td>1000000</td>\n",
       "      <td>1</td>\n",
       "      <td>0</td>\n",
       "      <td>1</td>\n",
       "    </tr>\n",
       "    <tr>\n",
       "      <th>9378</th>\n",
       "      <td>19</td>\n",
       "      <td>8.882253</td>\n",
       "      <td>32000000</td>\n",
       "      <td>1000000</td>\n",
       "      <td>1</td>\n",
       "      <td>0</td>\n",
       "      <td>1</td>\n",
       "    </tr>\n",
       "    <tr>\n",
       "      <th>9184</th>\n",
       "      <td>27</td>\n",
       "      <td>6.016157</td>\n",
       "      <td>6100000</td>\n",
       "      <td>100000</td>\n",
       "      <td>1</td>\n",
       "      <td>0</td>\n",
       "      <td>1</td>\n",
       "    </tr>\n",
       "    <tr>\n",
       "      <th>516</th>\n",
       "      <td>8</td>\n",
       "      <td>9.756610</td>\n",
       "      <td>40000000</td>\n",
       "      <td>500000</td>\n",
       "      <td>1</td>\n",
       "      <td>0</td>\n",
       "      <td>4</td>\n",
       "    </tr>\n",
       "    <tr>\n",
       "      <th>...</th>\n",
       "      <td>...</td>\n",
       "      <td>...</td>\n",
       "      <td>...</td>\n",
       "      <td>...</td>\n",
       "      <td>...</td>\n",
       "      <td>...</td>\n",
       "      <td>...</td>\n",
       "    </tr>\n",
       "    <tr>\n",
       "      <th>9154</th>\n",
       "      <td>19</td>\n",
       "      <td>10.941004</td>\n",
       "      <td>43000000</td>\n",
       "      <td>500000</td>\n",
       "      <td>2</td>\n",
       "      <td>4.99</td>\n",
       "      <td>1</td>\n",
       "    </tr>\n",
       "    <tr>\n",
       "      <th>1453</th>\n",
       "      <td>15</td>\n",
       "      <td>10.537707</td>\n",
       "      <td>40000000</td>\n",
       "      <td>1000000</td>\n",
       "      <td>1</td>\n",
       "      <td>0</td>\n",
       "      <td>1</td>\n",
       "    </tr>\n",
       "    <tr>\n",
       "      <th>8849</th>\n",
       "      <td>5</td>\n",
       "      <td>0.000000</td>\n",
       "      <td>28000000</td>\n",
       "      <td>100</td>\n",
       "      <td>1</td>\n",
       "      <td>0</td>\n",
       "      <td>1</td>\n",
       "    </tr>\n",
       "    <tr>\n",
       "      <th>3836</th>\n",
       "      <td>33</td>\n",
       "      <td>6.480045</td>\n",
       "      <td>3400000</td>\n",
       "      <td>100000</td>\n",
       "      <td>1</td>\n",
       "      <td>0</td>\n",
       "      <td>1</td>\n",
       "    </tr>\n",
       "    <tr>\n",
       "      <th>8754</th>\n",
       "      <td>13</td>\n",
       "      <td>13.029142</td>\n",
       "      <td>35000000</td>\n",
       "      <td>10000000</td>\n",
       "      <td>1</td>\n",
       "      <td>0</td>\n",
       "      <td>1</td>\n",
       "    </tr>\n",
       "  </tbody>\n",
       "</table>\n",
       "<p>2650 rows × 7 columns</p>\n",
       "</div>"
      ],
      "text/plain": [
       "      Category    Reviews      Size  Installs  Type Price  Content Rating\n",
       "4789        26   4.477337   2000000     10000     2  1.99               1\n",
       "4903        26  10.304074   5000000   1000000     1     0               1\n",
       "9378        19   8.882253  32000000   1000000     1     0               1\n",
       "9184        27   6.016157   6100000    100000     1     0               1\n",
       "516          8   9.756610  40000000    500000     1     0               4\n",
       "...        ...        ...       ...       ...   ...   ...             ...\n",
       "9154        19  10.941004  43000000    500000     2  4.99               1\n",
       "1453        15  10.537707  40000000   1000000     1     0               1\n",
       "8849         5   0.000000  28000000       100     1     0               1\n",
       "3836        33   6.480045   3400000    100000     1     0               1\n",
       "8754        13  13.029142  35000000  10000000     1     0               1\n",
       "\n",
       "[2650 rows x 7 columns]"
      ]
     },
     "execution_count": 58,
     "metadata": {},
     "output_type": "execute_result"
    }
   ],
   "source": [
    "X_test"
   ]
  },
  {
   "cell_type": "code",
   "execution_count": 59,
   "metadata": {},
   "outputs": [
    {
     "data": {
      "text/html": [
       "<div>\n",
       "<style scoped>\n",
       "    .dataframe tbody tr th:only-of-type {\n",
       "        vertical-align: middle;\n",
       "    }\n",
       "\n",
       "    .dataframe tbody tr th {\n",
       "        vertical-align: top;\n",
       "    }\n",
       "\n",
       "    .dataframe thead th {\n",
       "        text-align: right;\n",
       "    }\n",
       "</style>\n",
       "<table border=\"1\" class=\"dataframe\">\n",
       "  <thead>\n",
       "    <tr style=\"text-align: right;\">\n",
       "      <th></th>\n",
       "      <th>Rating_category</th>\n",
       "    </tr>\n",
       "  </thead>\n",
       "  <tbody>\n",
       "    <tr>\n",
       "      <th>4386</th>\n",
       "      <td>2</td>\n",
       "    </tr>\n",
       "    <tr>\n",
       "      <th>2460</th>\n",
       "      <td>2</td>\n",
       "    </tr>\n",
       "    <tr>\n",
       "      <th>3691</th>\n",
       "      <td>1</td>\n",
       "    </tr>\n",
       "    <tr>\n",
       "      <th>5677</th>\n",
       "      <td>2</td>\n",
       "    </tr>\n",
       "    <tr>\n",
       "      <th>6591</th>\n",
       "      <td>1</td>\n",
       "    </tr>\n",
       "    <tr>\n",
       "      <th>...</th>\n",
       "      <td>...</td>\n",
       "    </tr>\n",
       "    <tr>\n",
       "      <th>4337</th>\n",
       "      <td>1</td>\n",
       "    </tr>\n",
       "    <tr>\n",
       "      <th>9739</th>\n",
       "      <td>2</td>\n",
       "    </tr>\n",
       "    <tr>\n",
       "      <th>1394</th>\n",
       "      <td>1</td>\n",
       "    </tr>\n",
       "    <tr>\n",
       "      <th>6906</th>\n",
       "      <td>1</td>\n",
       "    </tr>\n",
       "    <tr>\n",
       "      <th>325</th>\n",
       "      <td>2</td>\n",
       "    </tr>\n",
       "  </tbody>\n",
       "</table>\n",
       "<p>6181 rows × 1 columns</p>\n",
       "</div>"
      ],
      "text/plain": [
       "      Rating_category\n",
       "4386                2\n",
       "2460                2\n",
       "3691                1\n",
       "5677                2\n",
       "6591                1\n",
       "...               ...\n",
       "4337                1\n",
       "9739                2\n",
       "1394                1\n",
       "6906                1\n",
       "325                 2\n",
       "\n",
       "[6181 rows x 1 columns]"
      ]
     },
     "execution_count": 59,
     "metadata": {},
     "output_type": "execute_result"
    }
   ],
   "source": [
    "Y_train"
   ]
  },
  {
   "cell_type": "code",
   "execution_count": 60,
   "metadata": {},
   "outputs": [
    {
     "data": {
      "text/html": [
       "<div>\n",
       "<style scoped>\n",
       "    .dataframe tbody tr th:only-of-type {\n",
       "        vertical-align: middle;\n",
       "    }\n",
       "\n",
       "    .dataframe tbody tr th {\n",
       "        vertical-align: top;\n",
       "    }\n",
       "\n",
       "    .dataframe thead th {\n",
       "        text-align: right;\n",
       "    }\n",
       "</style>\n",
       "<table border=\"1\" class=\"dataframe\">\n",
       "  <thead>\n",
       "    <tr style=\"text-align: right;\">\n",
       "      <th></th>\n",
       "      <th>Rating_category</th>\n",
       "    </tr>\n",
       "  </thead>\n",
       "  <tbody>\n",
       "    <tr>\n",
       "      <th>4789</th>\n",
       "      <td>1</td>\n",
       "    </tr>\n",
       "    <tr>\n",
       "      <th>4903</th>\n",
       "      <td>2</td>\n",
       "    </tr>\n",
       "    <tr>\n",
       "      <th>9378</th>\n",
       "      <td>1</td>\n",
       "    </tr>\n",
       "    <tr>\n",
       "      <th>9184</th>\n",
       "      <td>1</td>\n",
       "    </tr>\n",
       "    <tr>\n",
       "      <th>516</th>\n",
       "      <td>1</td>\n",
       "    </tr>\n",
       "    <tr>\n",
       "      <th>...</th>\n",
       "      <td>...</td>\n",
       "    </tr>\n",
       "    <tr>\n",
       "      <th>9154</th>\n",
       "      <td>1</td>\n",
       "    </tr>\n",
       "    <tr>\n",
       "      <th>1453</th>\n",
       "      <td>1</td>\n",
       "    </tr>\n",
       "    <tr>\n",
       "      <th>8849</th>\n",
       "      <td>2</td>\n",
       "    </tr>\n",
       "    <tr>\n",
       "      <th>3836</th>\n",
       "      <td>1</td>\n",
       "    </tr>\n",
       "    <tr>\n",
       "      <th>8754</th>\n",
       "      <td>1</td>\n",
       "    </tr>\n",
       "  </tbody>\n",
       "</table>\n",
       "<p>2650 rows × 1 columns</p>\n",
       "</div>"
      ],
      "text/plain": [
       "      Rating_category\n",
       "4789                1\n",
       "4903                2\n",
       "9378                1\n",
       "9184                1\n",
       "516                 1\n",
       "...               ...\n",
       "9154                1\n",
       "1453                1\n",
       "8849                2\n",
       "3836                1\n",
       "8754                1\n",
       "\n",
       "[2650 rows x 1 columns]"
      ]
     },
     "execution_count": 60,
     "metadata": {},
     "output_type": "execute_result"
    }
   ],
   "source": [
    "Y_test"
   ]
  },
  {
   "cell_type": "markdown",
   "metadata": {},
   "source": [
    "### Regression (Coefficient , Intercept)"
   ]
  },
  {
   "cell_type": "code",
   "execution_count": 61,
   "metadata": {},
   "outputs": [
    {
     "data": {
      "text/html": [
       "<style>#sk-container-id-1 {color: black;background-color: white;}#sk-container-id-1 pre{padding: 0;}#sk-container-id-1 div.sk-toggleable {background-color: white;}#sk-container-id-1 label.sk-toggleable__label {cursor: pointer;display: block;width: 100%;margin-bottom: 0;padding: 0.3em;box-sizing: border-box;text-align: center;}#sk-container-id-1 label.sk-toggleable__label-arrow:before {content: \"▸\";float: left;margin-right: 0.25em;color: #696969;}#sk-container-id-1 label.sk-toggleable__label-arrow:hover:before {color: black;}#sk-container-id-1 div.sk-estimator:hover label.sk-toggleable__label-arrow:before {color: black;}#sk-container-id-1 div.sk-toggleable__content {max-height: 0;max-width: 0;overflow: hidden;text-align: left;background-color: #f0f8ff;}#sk-container-id-1 div.sk-toggleable__content pre {margin: 0.2em;color: black;border-radius: 0.25em;background-color: #f0f8ff;}#sk-container-id-1 input.sk-toggleable__control:checked~div.sk-toggleable__content {max-height: 200px;max-width: 100%;overflow: auto;}#sk-container-id-1 input.sk-toggleable__control:checked~label.sk-toggleable__label-arrow:before {content: \"▾\";}#sk-container-id-1 div.sk-estimator input.sk-toggleable__control:checked~label.sk-toggleable__label {background-color: #d4ebff;}#sk-container-id-1 div.sk-label input.sk-toggleable__control:checked~label.sk-toggleable__label {background-color: #d4ebff;}#sk-container-id-1 input.sk-hidden--visually {border: 0;clip: rect(1px 1px 1px 1px);clip: rect(1px, 1px, 1px, 1px);height: 1px;margin: -1px;overflow: hidden;padding: 0;position: absolute;width: 1px;}#sk-container-id-1 div.sk-estimator {font-family: monospace;background-color: #f0f8ff;border: 1px dotted black;border-radius: 0.25em;box-sizing: border-box;margin-bottom: 0.5em;}#sk-container-id-1 div.sk-estimator:hover {background-color: #d4ebff;}#sk-container-id-1 div.sk-parallel-item::after {content: \"\";width: 100%;border-bottom: 1px solid gray;flex-grow: 1;}#sk-container-id-1 div.sk-label:hover label.sk-toggleable__label {background-color: #d4ebff;}#sk-container-id-1 div.sk-serial::before {content: \"\";position: absolute;border-left: 1px solid gray;box-sizing: border-box;top: 0;bottom: 0;left: 50%;z-index: 0;}#sk-container-id-1 div.sk-serial {display: flex;flex-direction: column;align-items: center;background-color: white;padding-right: 0.2em;padding-left: 0.2em;position: relative;}#sk-container-id-1 div.sk-item {position: relative;z-index: 1;}#sk-container-id-1 div.sk-parallel {display: flex;align-items: stretch;justify-content: center;background-color: white;position: relative;}#sk-container-id-1 div.sk-item::before, #sk-container-id-1 div.sk-parallel-item::before {content: \"\";position: absolute;border-left: 1px solid gray;box-sizing: border-box;top: 0;bottom: 0;left: 50%;z-index: -1;}#sk-container-id-1 div.sk-parallel-item {display: flex;flex-direction: column;z-index: 1;position: relative;background-color: white;}#sk-container-id-1 div.sk-parallel-item:first-child::after {align-self: flex-end;width: 50%;}#sk-container-id-1 div.sk-parallel-item:last-child::after {align-self: flex-start;width: 50%;}#sk-container-id-1 div.sk-parallel-item:only-child::after {width: 0;}#sk-container-id-1 div.sk-dashed-wrapped {border: 1px dashed gray;margin: 0 0.4em 0.5em 0.4em;box-sizing: border-box;padding-bottom: 0.4em;background-color: white;}#sk-container-id-1 div.sk-label label {font-family: monospace;font-weight: bold;display: inline-block;line-height: 1.2em;}#sk-container-id-1 div.sk-label-container {text-align: center;}#sk-container-id-1 div.sk-container {/* jupyter's `normalize.less` sets `[hidden] { display: none; }` but bootstrap.min.css set `[hidden] { display: none !important; }` so we also need the `!important` here to be able to override the default hidden behavior on the sphinx rendered scikit-learn.org. See: https://github.com/scikit-learn/scikit-learn/issues/21755 */display: inline-block !important;position: relative;}#sk-container-id-1 div.sk-text-repr-fallback {display: none;}</style><div id=\"sk-container-id-1\" class=\"sk-top-container\"><div class=\"sk-text-repr-fallback\"><pre>LinearRegression()</pre><b>In a Jupyter environment, please rerun this cell to show the HTML representation or trust the notebook. <br />On GitHub, the HTML representation is unable to render, please try loading this page with nbviewer.org.</b></div><div class=\"sk-container\" hidden><div class=\"sk-item\"><div class=\"sk-estimator sk-toggleable\"><input class=\"sk-toggleable__control sk-hidden--visually\" id=\"sk-estimator-id-1\" type=\"checkbox\" checked><label for=\"sk-estimator-id-1\" class=\"sk-toggleable__label sk-toggleable__label-arrow\">LinearRegression</label><div class=\"sk-toggleable__content\"><pre>LinearRegression()</pre></div></div></div></div></div>"
      ],
      "text/plain": [
       "LinearRegression()"
      ]
     },
     "execution_count": 61,
     "metadata": {},
     "output_type": "execute_result"
    }
   ],
   "source": [
    "regression_model = LinearRegression()\n",
    "regression_model.fit(X_train,Y_train)"
   ]
  },
  {
   "cell_type": "code",
   "execution_count": 62,
   "metadata": {},
   "outputs": [
    {
     "name": "stdout",
     "output_type": "stream",
     "text": [
      "The coefficient for Category is -0.00029341663635315416\n",
      "The coefficient for Reviews is -0.061291559054321106\n",
      "The coefficient for Size is 6.649462647168036e-10\n",
      "The coefficient for Installs is 7.913458499597681e-10\n",
      "The coefficient for Type is -0.08179386880066494\n",
      "The coefficient for Price is 0.00022214478982167\n",
      "The coefficient for Content Rating is 0.003940562746429667\n"
     ]
    }
   ],
   "source": [
    "for idx, col_name in enumerate(X_train.columns):\n",
    "    print(\"The coefficient for {} is {}\".format(col_name, regression_model.coef_[0][idx]))"
   ]
  },
  {
   "cell_type": "code",
   "execution_count": 63,
   "metadata": {},
   "outputs": [
    {
     "name": "stdout",
     "output_type": "stream",
     "text": [
      "The intercept for our model is 1.721936730625586\n"
     ]
    }
   ],
   "source": [
    "intercept = regression_model.intercept_[0]\n",
    "print(\"The intercept for our model is {}\".format(intercept))"
   ]
  },
  {
   "cell_type": "markdown",
   "metadata": {},
   "source": [
    "### Regression Score"
   ]
  },
  {
   "cell_type": "code",
   "execution_count": 64,
   "metadata": {},
   "outputs": [
    {
     "data": {
      "text/plain": [
       "0.3182680129016605"
      ]
     },
     "execution_count": 64,
     "metadata": {},
     "output_type": "execute_result"
    }
   ],
   "source": [
    "regression_model.score(X_train, Y_train)"
   ]
  },
  {
   "cell_type": "code",
   "execution_count": 65,
   "metadata": {},
   "outputs": [
    {
     "data": {
      "text/plain": [
       "0.31853795923098915"
      ]
     },
     "execution_count": 65,
     "metadata": {},
     "output_type": "execute_result"
    }
   ],
   "source": [
    "regression_model.score(X_test, Y_test)"
   ]
  },
  {
   "cell_type": "markdown",
   "metadata": {},
   "source": [
    "### 16. Standardize the data, so that the values are within a particular range."
   ]
  },
  {
   "cell_type": "code",
   "execution_count": 66,
   "metadata": {},
   "outputs": [],
   "source": [
    "scaler = StandardScaler()\n",
    "X_std = scaler.fit_transform(df1)"
   ]
  },
  {
   "cell_type": "code",
   "execution_count": 67,
   "metadata": {},
   "outputs": [
    {
     "data": {
      "text/plain": [
       "array([[-2.40628342, -0.34943719, -0.10150367, ..., -0.06671293,\n",
       "        -0.41576   , -0.58157808],\n",
       "       [-2.40628342,  0.07673759, -0.32334166, ..., -0.06671293,\n",
       "        -0.41576   , -0.58157808],\n",
       "       [-2.40628342,  1.14030347, -0.55848992, ..., -0.06671293,\n",
       "        -0.41576   , -0.58157808],\n",
       "       ...,\n",
       "       [ 0.04182912, -1.21878875, -0.78476467, ..., -0.06671293,\n",
       "        -0.41576   , -0.58157808],\n",
       "       [ 0.17783538, -1.28670169, -0.52299585, ..., -0.06671293,\n",
       "        -0.41576   ,  1.71945957],\n",
       "       [-0.23018338,  1.4980596 , -0.10150367, ..., -0.06671293,\n",
       "        -0.41576   , -0.58157808]])"
      ]
     },
     "execution_count": 67,
     "metadata": {},
     "output_type": "execute_result"
    }
   ],
   "source": [
    "X_std"
   ]
  },
  {
   "cell_type": "code",
   "execution_count": 68,
   "metadata": {},
   "outputs": [],
   "source": [
    "X_std_df1 = pd.DataFrame(X_std,columns=df1.columns)"
   ]
  },
  {
   "cell_type": "code",
   "execution_count": 69,
   "metadata": {},
   "outputs": [
    {
     "data": {
      "text/html": [
       "<div>\n",
       "<style scoped>\n",
       "    .dataframe tbody tr th:only-of-type {\n",
       "        vertical-align: middle;\n",
       "    }\n",
       "\n",
       "    .dataframe tbody tr th {\n",
       "        vertical-align: top;\n",
       "    }\n",
       "\n",
       "    .dataframe thead th {\n",
       "        text-align: right;\n",
       "    }\n",
       "</style>\n",
       "<table border=\"1\" class=\"dataframe\">\n",
       "  <thead>\n",
       "    <tr style=\"text-align: right;\">\n",
       "      <th></th>\n",
       "      <th>Category</th>\n",
       "      <th>Reviews</th>\n",
       "      <th>Size</th>\n",
       "      <th>Installs</th>\n",
       "      <th>Type</th>\n",
       "      <th>Price</th>\n",
       "      <th>Content Rating</th>\n",
       "      <th>Rating_category</th>\n",
       "    </tr>\n",
       "  </thead>\n",
       "  <tbody>\n",
       "    <tr>\n",
       "      <th>0</th>\n",
       "      <td>-2.406283</td>\n",
       "      <td>-0.349437</td>\n",
       "      <td>-0.101504</td>\n",
       "      <td>-0.154361</td>\n",
       "      <td>-0.291358</td>\n",
       "      <td>-0.066713</td>\n",
       "      <td>-0.415760</td>\n",
       "      <td>-0.581578</td>\n",
       "    </tr>\n",
       "    <tr>\n",
       "      <th>1</th>\n",
       "      <td>-2.406283</td>\n",
       "      <td>0.076738</td>\n",
       "      <td>-0.323342</td>\n",
       "      <td>-0.142844</td>\n",
       "      <td>-0.291358</td>\n",
       "      <td>-0.066713</td>\n",
       "      <td>-0.415760</td>\n",
       "      <td>-0.581578</td>\n",
       "    </tr>\n",
       "    <tr>\n",
       "      <th>2</th>\n",
       "      <td>-2.406283</td>\n",
       "      <td>1.140303</td>\n",
       "      <td>-0.558490</td>\n",
       "      <td>-0.037084</td>\n",
       "      <td>-0.291358</td>\n",
       "      <td>-0.066713</td>\n",
       "      <td>-0.415760</td>\n",
       "      <td>-0.581578</td>\n",
       "    </tr>\n",
       "    <tr>\n",
       "      <th>3</th>\n",
       "      <td>-2.406283</td>\n",
       "      <td>1.353209</td>\n",
       "      <td>0.164702</td>\n",
       "      <td>1.020521</td>\n",
       "      <td>-0.291358</td>\n",
       "      <td>-0.066713</td>\n",
       "      <td>0.944587</td>\n",
       "      <td>-0.581578</td>\n",
       "    </tr>\n",
       "    <tr>\n",
       "      <th>4</th>\n",
       "      <td>-2.406283</td>\n",
       "      <td>0.076738</td>\n",
       "      <td>-0.820259</td>\n",
       "      <td>-0.152245</td>\n",
       "      <td>-0.291358</td>\n",
       "      <td>-0.066713</td>\n",
       "      <td>-0.415760</td>\n",
       "      <td>-0.581578</td>\n",
       "    </tr>\n",
       "    <tr>\n",
       "      <th>...</th>\n",
       "      <td>...</td>\n",
       "      <td>...</td>\n",
       "      <td>...</td>\n",
       "      <td>...</td>\n",
       "      <td>...</td>\n",
       "      <td>...</td>\n",
       "      <td>...</td>\n",
       "      <td>...</td>\n",
       "    </tr>\n",
       "    <tr>\n",
       "      <th>8826</th>\n",
       "      <td>-1.862258</td>\n",
       "      <td>-1.546050</td>\n",
       "      <td>-0.518559</td>\n",
       "      <td>-0.154595</td>\n",
       "      <td>-0.291358</td>\n",
       "      <td>-0.066713</td>\n",
       "      <td>-0.415760</td>\n",
       "      <td>1.719460</td>\n",
       "    </tr>\n",
       "    <tr>\n",
       "      <th>8827</th>\n",
       "      <td>0.041829</td>\n",
       "      <td>-0.687328</td>\n",
       "      <td>1.406995</td>\n",
       "      <td>-0.154478</td>\n",
       "      <td>-0.291358</td>\n",
       "      <td>-0.066713</td>\n",
       "      <td>-0.415760</td>\n",
       "      <td>-0.581578</td>\n",
       "    </tr>\n",
       "    <tr>\n",
       "      <th>8828</th>\n",
       "      <td>0.041829</td>\n",
       "      <td>-1.218789</td>\n",
       "      <td>-0.784765</td>\n",
       "      <td>-0.154593</td>\n",
       "      <td>-0.291358</td>\n",
       "      <td>-0.066713</td>\n",
       "      <td>-0.415760</td>\n",
       "      <td>-0.581578</td>\n",
       "    </tr>\n",
       "    <tr>\n",
       "      <th>8829</th>\n",
       "      <td>0.177835</td>\n",
       "      <td>-1.286702</td>\n",
       "      <td>-0.522996</td>\n",
       "      <td>-0.154572</td>\n",
       "      <td>-0.291358</td>\n",
       "      <td>-0.066713</td>\n",
       "      <td>-0.415760</td>\n",
       "      <td>1.719460</td>\n",
       "    </tr>\n",
       "    <tr>\n",
       "      <th>8830</th>\n",
       "      <td>-0.230183</td>\n",
       "      <td>1.498060</td>\n",
       "      <td>-0.101504</td>\n",
       "      <td>0.080428</td>\n",
       "      <td>-0.291358</td>\n",
       "      <td>-0.066713</td>\n",
       "      <td>-0.415760</td>\n",
       "      <td>-0.581578</td>\n",
       "    </tr>\n",
       "  </tbody>\n",
       "</table>\n",
       "<p>8831 rows × 8 columns</p>\n",
       "</div>"
      ],
      "text/plain": [
       "      Category   Reviews      Size  Installs      Type     Price  \\\n",
       "0    -2.406283 -0.349437 -0.101504 -0.154361 -0.291358 -0.066713   \n",
       "1    -2.406283  0.076738 -0.323342 -0.142844 -0.291358 -0.066713   \n",
       "2    -2.406283  1.140303 -0.558490 -0.037084 -0.291358 -0.066713   \n",
       "3    -2.406283  1.353209  0.164702  1.020521 -0.291358 -0.066713   \n",
       "4    -2.406283  0.076738 -0.820259 -0.152245 -0.291358 -0.066713   \n",
       "...        ...       ...       ...       ...       ...       ...   \n",
       "8826 -1.862258 -1.546050 -0.518559 -0.154595 -0.291358 -0.066713   \n",
       "8827  0.041829 -0.687328  1.406995 -0.154478 -0.291358 -0.066713   \n",
       "8828  0.041829 -1.218789 -0.784765 -0.154593 -0.291358 -0.066713   \n",
       "8829  0.177835 -1.286702 -0.522996 -0.154572 -0.291358 -0.066713   \n",
       "8830 -0.230183  1.498060 -0.101504  0.080428 -0.291358 -0.066713   \n",
       "\n",
       "      Content Rating  Rating_category  \n",
       "0          -0.415760        -0.581578  \n",
       "1          -0.415760        -0.581578  \n",
       "2          -0.415760        -0.581578  \n",
       "3           0.944587        -0.581578  \n",
       "4          -0.415760        -0.581578  \n",
       "...              ...              ...  \n",
       "8826       -0.415760         1.719460  \n",
       "8827       -0.415760        -0.581578  \n",
       "8828       -0.415760        -0.581578  \n",
       "8829       -0.415760         1.719460  \n",
       "8830       -0.415760        -0.581578  \n",
       "\n",
       "[8831 rows x 8 columns]"
      ]
     },
     "execution_count": 69,
     "metadata": {},
     "output_type": "execute_result"
    }
   ],
   "source": [
    "X_std_df1 "
   ]
  }
 ],
 "metadata": {
  "kernelspec": {
   "display_name": "Python 3",
   "language": "python",
   "name": "python3"
  },
  "language_info": {
   "codemirror_mode": {
    "name": "ipython",
    "version": 3
   },
   "file_extension": ".py",
   "mimetype": "text/x-python",
   "name": "python",
   "nbconvert_exporter": "python",
   "pygments_lexer": "ipython3",
   "version": "3.8.5"
  }
 },
 "nbformat": 4,
 "nbformat_minor": 4
}
